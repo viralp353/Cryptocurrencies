{
 "cells": [
  {
   "cell_type": "code",
   "execution_count": 135,
   "metadata": {},
   "outputs": [],
   "source": [
    "# Initial imports\n",
    "import pandas as pd\n",
    "import plotly.express as px\n",
    "from sklearn.preprocessing import StandardScaler\n",
    "from sklearn.decomposition import PCA\n",
    "from sklearn.cluster import KMeans\n",
    "import hvplot.pandas"
   ]
  },
  {
   "cell_type": "markdown",
   "metadata": {},
   "source": [
    "## Data Preprocessing:"
   ]
  },
  {
   "cell_type": "code",
   "execution_count": 136,
   "metadata": {},
   "outputs": [
    {
     "data": {
      "text/html": [
       "<div>\n",
       "<style scoped>\n",
       "    .dataframe tbody tr th:only-of-type {\n",
       "        vertical-align: middle;\n",
       "    }\n",
       "\n",
       "    .dataframe tbody tr th {\n",
       "        vertical-align: top;\n",
       "    }\n",
       "\n",
       "    .dataframe thead th {\n",
       "        text-align: right;\n",
       "    }\n",
       "</style>\n",
       "<table border=\"1\" class=\"dataframe\">\n",
       "  <thead>\n",
       "    <tr style=\"text-align: right;\">\n",
       "      <th></th>\n",
       "      <th>CoinName</th>\n",
       "      <th>Algorithm</th>\n",
       "      <th>IsTrading</th>\n",
       "      <th>ProofType</th>\n",
       "      <th>TotalCoinsMined</th>\n",
       "      <th>TotalCoinSupply</th>\n",
       "    </tr>\n",
       "  </thead>\n",
       "  <tbody>\n",
       "    <tr>\n",
       "      <th>42</th>\n",
       "      <td>42 Coin</td>\n",
       "      <td>Scrypt</td>\n",
       "      <td>True</td>\n",
       "      <td>PoW/PoS</td>\n",
       "      <td>4.199995e+01</td>\n",
       "      <td>42</td>\n",
       "    </tr>\n",
       "    <tr>\n",
       "      <th>365</th>\n",
       "      <td>365Coin</td>\n",
       "      <td>X11</td>\n",
       "      <td>True</td>\n",
       "      <td>PoW/PoS</td>\n",
       "      <td>NaN</td>\n",
       "      <td>2300000000</td>\n",
       "    </tr>\n",
       "    <tr>\n",
       "      <th>404</th>\n",
       "      <td>404Coin</td>\n",
       "      <td>Scrypt</td>\n",
       "      <td>True</td>\n",
       "      <td>PoW/PoS</td>\n",
       "      <td>1.055185e+09</td>\n",
       "      <td>532000000</td>\n",
       "    </tr>\n",
       "    <tr>\n",
       "      <th>611</th>\n",
       "      <td>SixEleven</td>\n",
       "      <td>SHA-256</td>\n",
       "      <td>True</td>\n",
       "      <td>PoW</td>\n",
       "      <td>NaN</td>\n",
       "      <td>611000</td>\n",
       "    </tr>\n",
       "    <tr>\n",
       "      <th>808</th>\n",
       "      <td>808</td>\n",
       "      <td>SHA-256</td>\n",
       "      <td>True</td>\n",
       "      <td>PoW/PoS</td>\n",
       "      <td>0.000000e+00</td>\n",
       "      <td>0</td>\n",
       "    </tr>\n",
       "    <tr>\n",
       "      <th>...</th>\n",
       "      <td>...</td>\n",
       "      <td>...</td>\n",
       "      <td>...</td>\n",
       "      <td>...</td>\n",
       "      <td>...</td>\n",
       "      <td>...</td>\n",
       "    </tr>\n",
       "    <tr>\n",
       "      <th>XBC</th>\n",
       "      <td>BitcoinPlus</td>\n",
       "      <td>Scrypt</td>\n",
       "      <td>True</td>\n",
       "      <td>PoS</td>\n",
       "      <td>1.283270e+05</td>\n",
       "      <td>1000000</td>\n",
       "    </tr>\n",
       "    <tr>\n",
       "      <th>DVTC</th>\n",
       "      <td>DivotyCoin</td>\n",
       "      <td>Scrypt</td>\n",
       "      <td>False</td>\n",
       "      <td>PoW/PoS</td>\n",
       "      <td>2.149121e+07</td>\n",
       "      <td>100000000</td>\n",
       "    </tr>\n",
       "    <tr>\n",
       "      <th>GIOT</th>\n",
       "      <td>Giotto Coin</td>\n",
       "      <td>Scrypt</td>\n",
       "      <td>False</td>\n",
       "      <td>PoW/PoS</td>\n",
       "      <td>NaN</td>\n",
       "      <td>233100000</td>\n",
       "    </tr>\n",
       "    <tr>\n",
       "      <th>OPSC</th>\n",
       "      <td>OpenSourceCoin</td>\n",
       "      <td>SHA-256</td>\n",
       "      <td>False</td>\n",
       "      <td>PoW/PoS</td>\n",
       "      <td>NaN</td>\n",
       "      <td>21000000</td>\n",
       "    </tr>\n",
       "    <tr>\n",
       "      <th>PUNK</th>\n",
       "      <td>SteamPunk</td>\n",
       "      <td>PoS</td>\n",
       "      <td>False</td>\n",
       "      <td>PoS</td>\n",
       "      <td>NaN</td>\n",
       "      <td>40000000</td>\n",
       "    </tr>\n",
       "  </tbody>\n",
       "</table>\n",
       "<p>1252 rows × 6 columns</p>\n",
       "</div>"
      ],
      "text/plain": [
       "            CoinName Algorithm  IsTrading ProofType  TotalCoinsMined  \\\n",
       "42           42 Coin    Scrypt       True   PoW/PoS     4.199995e+01   \n",
       "365          365Coin       X11       True   PoW/PoS              NaN   \n",
       "404          404Coin    Scrypt       True   PoW/PoS     1.055185e+09   \n",
       "611        SixEleven   SHA-256       True       PoW              NaN   \n",
       "808              808   SHA-256       True   PoW/PoS     0.000000e+00   \n",
       "...              ...       ...        ...       ...              ...   \n",
       "XBC      BitcoinPlus    Scrypt       True       PoS     1.283270e+05   \n",
       "DVTC      DivotyCoin    Scrypt      False   PoW/PoS     2.149121e+07   \n",
       "GIOT     Giotto Coin    Scrypt      False   PoW/PoS              NaN   \n",
       "OPSC  OpenSourceCoin   SHA-256      False   PoW/PoS              NaN   \n",
       "PUNK       SteamPunk       PoS      False       PoS              NaN   \n",
       "\n",
       "     TotalCoinSupply  \n",
       "42                42  \n",
       "365       2300000000  \n",
       "404        532000000  \n",
       "611           611000  \n",
       "808                0  \n",
       "...              ...  \n",
       "XBC          1000000  \n",
       "DVTC       100000000  \n",
       "GIOT       233100000  \n",
       "OPSC        21000000  \n",
       "PUNK        40000000  \n",
       "\n",
       "[1252 rows x 6 columns]"
      ]
     },
     "execution_count": 136,
     "metadata": {},
     "output_type": "execute_result"
    }
   ],
   "source": [
    "# import csv files:\n",
    "crypto_df = pd.read_csv(\"crypto_data.csv\",index_col=0)\n",
    "crypto_df"
   ]
  },
  {
   "cell_type": "code",
   "execution_count": 137,
   "metadata": {},
   "outputs": [
    {
     "data": {
      "text/plain": [
       "CoinName            object\n",
       "Algorithm           object\n",
       "IsTrading             bool\n",
       "ProofType           object\n",
       "TotalCoinsMined    float64\n",
       "TotalCoinSupply     object\n",
       "dtype: object"
      ]
     },
     "execution_count": 137,
     "metadata": {},
     "output_type": "execute_result"
    }
   ],
   "source": [
    "crypto_df.dtypes"
   ]
  },
  {
   "cell_type": "code",
   "execution_count": 138,
   "metadata": {},
   "outputs": [
    {
     "data": {
      "text/plain": [
       "CoinName             0\n",
       "Algorithm            0\n",
       "IsTrading            0\n",
       "ProofType            0\n",
       "TotalCoinsMined    508\n",
       "TotalCoinSupply      0\n",
       "dtype: int64"
      ]
     },
     "execution_count": 138,
     "metadata": {},
     "output_type": "execute_result"
    }
   ],
   "source": [
    "# check Nan value:\n",
    "crypto_df.isnull().sum()"
   ]
  },
  {
   "cell_type": "code",
   "execution_count": 139,
   "metadata": {},
   "outputs": [],
   "source": [
    "#Remove all cryptocurrencies that aren’t trading:\n",
    "crypto_df.drop(crypto_df[crypto_df[\"IsTrading\"] ==False].index,inplace=True)"
   ]
  },
  {
   "cell_type": "code",
   "execution_count": 140,
   "metadata": {},
   "outputs": [
    {
     "data": {
      "text/plain": [
       "Scrypt                   394\n",
       "X11                      182\n",
       "SHA-256                  121\n",
       "X13                       54\n",
       "PoS                       42\n",
       "                        ... \n",
       "Cloverhash                 1\n",
       "T-Inside                   1\n",
       "Progressive-n              1\n",
       "VeChainThor Authority      1\n",
       "Semux BFT consensus        1\n",
       "Name: Algorithm, Length: 89, dtype: int64"
      ]
     },
     "execution_count": 140,
     "metadata": {},
     "output_type": "execute_result"
    }
   ],
   "source": [
    "# check value for Algorithm:\n",
    "crypto_df[\"Algorithm\"].value_counts()"
   ]
  },
  {
   "cell_type": "code",
   "execution_count": 141,
   "metadata": {},
   "outputs": [],
   "source": [
    "#Remove all cryptocurrencies that don’t have an algorithm defined.\n",
    "crypto_df.drop(crypto_df[crypto_df[\"Algorithm\"] ==\"N/A\"].index,inplace=True)"
   ]
  },
  {
   "cell_type": "code",
   "execution_count": 142,
   "metadata": {},
   "outputs": [
    {
     "data": {
      "text/html": [
       "<div>\n",
       "<style scoped>\n",
       "    .dataframe tbody tr th:only-of-type {\n",
       "        vertical-align: middle;\n",
       "    }\n",
       "\n",
       "    .dataframe tbody tr th {\n",
       "        vertical-align: top;\n",
       "    }\n",
       "\n",
       "    .dataframe thead th {\n",
       "        text-align: right;\n",
       "    }\n",
       "</style>\n",
       "<table border=\"1\" class=\"dataframe\">\n",
       "  <thead>\n",
       "    <tr style=\"text-align: right;\">\n",
       "      <th></th>\n",
       "      <th>CoinName</th>\n",
       "      <th>Algorithm</th>\n",
       "      <th>ProofType</th>\n",
       "      <th>TotalCoinsMined</th>\n",
       "      <th>TotalCoinSupply</th>\n",
       "    </tr>\n",
       "  </thead>\n",
       "  <tbody>\n",
       "    <tr>\n",
       "      <th>42</th>\n",
       "      <td>42 Coin</td>\n",
       "      <td>Scrypt</td>\n",
       "      <td>PoW/PoS</td>\n",
       "      <td>4.199995e+01</td>\n",
       "      <td>42</td>\n",
       "    </tr>\n",
       "    <tr>\n",
       "      <th>365</th>\n",
       "      <td>365Coin</td>\n",
       "      <td>X11</td>\n",
       "      <td>PoW/PoS</td>\n",
       "      <td>NaN</td>\n",
       "      <td>2300000000</td>\n",
       "    </tr>\n",
       "    <tr>\n",
       "      <th>404</th>\n",
       "      <td>404Coin</td>\n",
       "      <td>Scrypt</td>\n",
       "      <td>PoW/PoS</td>\n",
       "      <td>1.055185e+09</td>\n",
       "      <td>532000000</td>\n",
       "    </tr>\n",
       "    <tr>\n",
       "      <th>611</th>\n",
       "      <td>SixEleven</td>\n",
       "      <td>SHA-256</td>\n",
       "      <td>PoW</td>\n",
       "      <td>NaN</td>\n",
       "      <td>611000</td>\n",
       "    </tr>\n",
       "    <tr>\n",
       "      <th>808</th>\n",
       "      <td>808</td>\n",
       "      <td>SHA-256</td>\n",
       "      <td>PoW/PoS</td>\n",
       "      <td>0.000000e+00</td>\n",
       "      <td>0</td>\n",
       "    </tr>\n",
       "    <tr>\n",
       "      <th>...</th>\n",
       "      <td>...</td>\n",
       "      <td>...</td>\n",
       "      <td>...</td>\n",
       "      <td>...</td>\n",
       "      <td>...</td>\n",
       "    </tr>\n",
       "    <tr>\n",
       "      <th>SERO</th>\n",
       "      <td>Super Zero</td>\n",
       "      <td>Ethash</td>\n",
       "      <td>PoW</td>\n",
       "      <td>NaN</td>\n",
       "      <td>1000000000</td>\n",
       "    </tr>\n",
       "    <tr>\n",
       "      <th>UOS</th>\n",
       "      <td>UOS</td>\n",
       "      <td>SHA-256</td>\n",
       "      <td>DPoI</td>\n",
       "      <td>NaN</td>\n",
       "      <td>1000000000</td>\n",
       "    </tr>\n",
       "    <tr>\n",
       "      <th>BDX</th>\n",
       "      <td>Beldex</td>\n",
       "      <td>CryptoNight</td>\n",
       "      <td>PoW</td>\n",
       "      <td>9.802226e+08</td>\n",
       "      <td>1400222610</td>\n",
       "    </tr>\n",
       "    <tr>\n",
       "      <th>ZEN</th>\n",
       "      <td>Horizen</td>\n",
       "      <td>Equihash</td>\n",
       "      <td>PoW</td>\n",
       "      <td>7.296538e+06</td>\n",
       "      <td>21000000</td>\n",
       "    </tr>\n",
       "    <tr>\n",
       "      <th>XBC</th>\n",
       "      <td>BitcoinPlus</td>\n",
       "      <td>Scrypt</td>\n",
       "      <td>PoS</td>\n",
       "      <td>1.283270e+05</td>\n",
       "      <td>1000000</td>\n",
       "    </tr>\n",
       "  </tbody>\n",
       "</table>\n",
       "<p>1144 rows × 5 columns</p>\n",
       "</div>"
      ],
      "text/plain": [
       "         CoinName    Algorithm ProofType  TotalCoinsMined TotalCoinSupply\n",
       "42        42 Coin       Scrypt   PoW/PoS     4.199995e+01              42\n",
       "365       365Coin          X11   PoW/PoS              NaN      2300000000\n",
       "404       404Coin       Scrypt   PoW/PoS     1.055185e+09       532000000\n",
       "611     SixEleven      SHA-256       PoW              NaN          611000\n",
       "808           808      SHA-256   PoW/PoS     0.000000e+00               0\n",
       "...           ...          ...       ...              ...             ...\n",
       "SERO   Super Zero       Ethash       PoW              NaN      1000000000\n",
       "UOS           UOS      SHA-256      DPoI              NaN      1000000000\n",
       "BDX        Beldex  CryptoNight       PoW     9.802226e+08      1400222610\n",
       "ZEN       Horizen     Equihash       PoW     7.296538e+06        21000000\n",
       "XBC   BitcoinPlus       Scrypt       PoS     1.283270e+05         1000000\n",
       "\n",
       "[1144 rows x 5 columns]"
      ]
     },
     "execution_count": 142,
     "metadata": {},
     "output_type": "execute_result"
    }
   ],
   "source": [
    "#Remove the IsTrading column.\n",
    "crypto1_df=crypto_df.drop([\"IsTrading\"],axis=1)\n",
    "crypto1_df"
   ]
  },
  {
   "cell_type": "code",
   "execution_count": 143,
   "metadata": {},
   "outputs": [
    {
     "data": {
      "text/html": [
       "<div>\n",
       "<style scoped>\n",
       "    .dataframe tbody tr th:only-of-type {\n",
       "        vertical-align: middle;\n",
       "    }\n",
       "\n",
       "    .dataframe tbody tr th {\n",
       "        vertical-align: top;\n",
       "    }\n",
       "\n",
       "    .dataframe thead th {\n",
       "        text-align: right;\n",
       "    }\n",
       "</style>\n",
       "<table border=\"1\" class=\"dataframe\">\n",
       "  <thead>\n",
       "    <tr style=\"text-align: right;\">\n",
       "      <th></th>\n",
       "      <th>CoinName</th>\n",
       "      <th>Algorithm</th>\n",
       "      <th>ProofType</th>\n",
       "      <th>TotalCoinsMined</th>\n",
       "      <th>TotalCoinSupply</th>\n",
       "    </tr>\n",
       "  </thead>\n",
       "  <tbody>\n",
       "    <tr>\n",
       "      <th>42</th>\n",
       "      <td>42 Coin</td>\n",
       "      <td>Scrypt</td>\n",
       "      <td>PoW/PoS</td>\n",
       "      <td>4.199995e+01</td>\n",
       "      <td>42</td>\n",
       "    </tr>\n",
       "    <tr>\n",
       "      <th>404</th>\n",
       "      <td>404Coin</td>\n",
       "      <td>Scrypt</td>\n",
       "      <td>PoW/PoS</td>\n",
       "      <td>1.055185e+09</td>\n",
       "      <td>532000000</td>\n",
       "    </tr>\n",
       "    <tr>\n",
       "      <th>808</th>\n",
       "      <td>808</td>\n",
       "      <td>SHA-256</td>\n",
       "      <td>PoW/PoS</td>\n",
       "      <td>0.000000e+00</td>\n",
       "      <td>0</td>\n",
       "    </tr>\n",
       "    <tr>\n",
       "      <th>1337</th>\n",
       "      <td>EliteCoin</td>\n",
       "      <td>X13</td>\n",
       "      <td>PoW/PoS</td>\n",
       "      <td>2.927942e+10</td>\n",
       "      <td>314159265359</td>\n",
       "    </tr>\n",
       "    <tr>\n",
       "      <th>BTC</th>\n",
       "      <td>Bitcoin</td>\n",
       "      <td>SHA-256</td>\n",
       "      <td>PoW</td>\n",
       "      <td>1.792718e+07</td>\n",
       "      <td>21000000</td>\n",
       "    </tr>\n",
       "    <tr>\n",
       "      <th>...</th>\n",
       "      <td>...</td>\n",
       "      <td>...</td>\n",
       "      <td>...</td>\n",
       "      <td>...</td>\n",
       "      <td>...</td>\n",
       "    </tr>\n",
       "    <tr>\n",
       "      <th>ZEPH</th>\n",
       "      <td>ZEPHYR</td>\n",
       "      <td>SHA-256</td>\n",
       "      <td>DPoS</td>\n",
       "      <td>2.000000e+09</td>\n",
       "      <td>2000000000</td>\n",
       "    </tr>\n",
       "    <tr>\n",
       "      <th>GAP</th>\n",
       "      <td>Gapcoin</td>\n",
       "      <td>Scrypt</td>\n",
       "      <td>PoW/PoS</td>\n",
       "      <td>1.493105e+07</td>\n",
       "      <td>250000000</td>\n",
       "    </tr>\n",
       "    <tr>\n",
       "      <th>BDX</th>\n",
       "      <td>Beldex</td>\n",
       "      <td>CryptoNight</td>\n",
       "      <td>PoW</td>\n",
       "      <td>9.802226e+08</td>\n",
       "      <td>1400222610</td>\n",
       "    </tr>\n",
       "    <tr>\n",
       "      <th>ZEN</th>\n",
       "      <td>Horizen</td>\n",
       "      <td>Equihash</td>\n",
       "      <td>PoW</td>\n",
       "      <td>7.296538e+06</td>\n",
       "      <td>21000000</td>\n",
       "    </tr>\n",
       "    <tr>\n",
       "      <th>XBC</th>\n",
       "      <td>BitcoinPlus</td>\n",
       "      <td>Scrypt</td>\n",
       "      <td>PoS</td>\n",
       "      <td>1.283270e+05</td>\n",
       "      <td>1000000</td>\n",
       "    </tr>\n",
       "  </tbody>\n",
       "</table>\n",
       "<p>685 rows × 5 columns</p>\n",
       "</div>"
      ],
      "text/plain": [
       "         CoinName    Algorithm ProofType  TotalCoinsMined TotalCoinSupply\n",
       "42        42 Coin       Scrypt   PoW/PoS     4.199995e+01              42\n",
       "404       404Coin       Scrypt   PoW/PoS     1.055185e+09       532000000\n",
       "808           808      SHA-256   PoW/PoS     0.000000e+00               0\n",
       "1337    EliteCoin          X13   PoW/PoS     2.927942e+10    314159265359\n",
       "BTC       Bitcoin      SHA-256       PoW     1.792718e+07        21000000\n",
       "...           ...          ...       ...              ...             ...\n",
       "ZEPH       ZEPHYR      SHA-256      DPoS     2.000000e+09      2000000000\n",
       "GAP       Gapcoin       Scrypt   PoW/PoS     1.493105e+07       250000000\n",
       "BDX        Beldex  CryptoNight       PoW     9.802226e+08      1400222610\n",
       "ZEN       Horizen     Equihash       PoW     7.296538e+06        21000000\n",
       "XBC   BitcoinPlus       Scrypt       PoS     1.283270e+05         1000000\n",
       "\n",
       "[685 rows x 5 columns]"
      ]
     },
     "execution_count": 143,
     "metadata": {},
     "output_type": "execute_result"
    }
   ],
   "source": [
    "#Remove all cryptocurrencies with at least one null value.\n",
    "crypto2_df=crypto1_df.dropna()\n",
    "crypto2_df"
   ]
  },
  {
   "cell_type": "code",
   "execution_count": 144,
   "metadata": {},
   "outputs": [
    {
     "data": {
      "text/html": [
       "<div>\n",
       "<style scoped>\n",
       "    .dataframe tbody tr th:only-of-type {\n",
       "        vertical-align: middle;\n",
       "    }\n",
       "\n",
       "    .dataframe tbody tr th {\n",
       "        vertical-align: top;\n",
       "    }\n",
       "\n",
       "    .dataframe thead th {\n",
       "        text-align: right;\n",
       "    }\n",
       "</style>\n",
       "<table border=\"1\" class=\"dataframe\">\n",
       "  <thead>\n",
       "    <tr style=\"text-align: right;\">\n",
       "      <th></th>\n",
       "      <th>CoinName</th>\n",
       "      <th>Algorithm</th>\n",
       "      <th>ProofType</th>\n",
       "      <th>TotalCoinsMined</th>\n",
       "      <th>TotalCoinSupply</th>\n",
       "    </tr>\n",
       "  </thead>\n",
       "  <tbody>\n",
       "    <tr>\n",
       "      <th>42</th>\n",
       "      <td>42 Coin</td>\n",
       "      <td>Scrypt</td>\n",
       "      <td>PoW/PoS</td>\n",
       "      <td>4.199995e+01</td>\n",
       "      <td>42</td>\n",
       "    </tr>\n",
       "    <tr>\n",
       "      <th>404</th>\n",
       "      <td>404Coin</td>\n",
       "      <td>Scrypt</td>\n",
       "      <td>PoW/PoS</td>\n",
       "      <td>1.055185e+09</td>\n",
       "      <td>532000000</td>\n",
       "    </tr>\n",
       "    <tr>\n",
       "      <th>1337</th>\n",
       "      <td>EliteCoin</td>\n",
       "      <td>X13</td>\n",
       "      <td>PoW/PoS</td>\n",
       "      <td>2.927942e+10</td>\n",
       "      <td>314159265359</td>\n",
       "    </tr>\n",
       "    <tr>\n",
       "      <th>BTC</th>\n",
       "      <td>Bitcoin</td>\n",
       "      <td>SHA-256</td>\n",
       "      <td>PoW</td>\n",
       "      <td>1.792718e+07</td>\n",
       "      <td>21000000</td>\n",
       "    </tr>\n",
       "    <tr>\n",
       "      <th>ETH</th>\n",
       "      <td>Ethereum</td>\n",
       "      <td>Ethash</td>\n",
       "      <td>PoW</td>\n",
       "      <td>1.076842e+08</td>\n",
       "      <td>0</td>\n",
       "    </tr>\n",
       "    <tr>\n",
       "      <th>...</th>\n",
       "      <td>...</td>\n",
       "      <td>...</td>\n",
       "      <td>...</td>\n",
       "      <td>...</td>\n",
       "      <td>...</td>\n",
       "    </tr>\n",
       "    <tr>\n",
       "      <th>ZEPH</th>\n",
       "      <td>ZEPHYR</td>\n",
       "      <td>SHA-256</td>\n",
       "      <td>DPoS</td>\n",
       "      <td>2.000000e+09</td>\n",
       "      <td>2000000000</td>\n",
       "    </tr>\n",
       "    <tr>\n",
       "      <th>GAP</th>\n",
       "      <td>Gapcoin</td>\n",
       "      <td>Scrypt</td>\n",
       "      <td>PoW/PoS</td>\n",
       "      <td>1.493105e+07</td>\n",
       "      <td>250000000</td>\n",
       "    </tr>\n",
       "    <tr>\n",
       "      <th>BDX</th>\n",
       "      <td>Beldex</td>\n",
       "      <td>CryptoNight</td>\n",
       "      <td>PoW</td>\n",
       "      <td>9.802226e+08</td>\n",
       "      <td>1400222610</td>\n",
       "    </tr>\n",
       "    <tr>\n",
       "      <th>ZEN</th>\n",
       "      <td>Horizen</td>\n",
       "      <td>Equihash</td>\n",
       "      <td>PoW</td>\n",
       "      <td>7.296538e+06</td>\n",
       "      <td>21000000</td>\n",
       "    </tr>\n",
       "    <tr>\n",
       "      <th>XBC</th>\n",
       "      <td>BitcoinPlus</td>\n",
       "      <td>Scrypt</td>\n",
       "      <td>PoS</td>\n",
       "      <td>1.283270e+05</td>\n",
       "      <td>1000000</td>\n",
       "    </tr>\n",
       "  </tbody>\n",
       "</table>\n",
       "<p>532 rows × 5 columns</p>\n",
       "</div>"
      ],
      "text/plain": [
       "         CoinName    Algorithm ProofType  TotalCoinsMined TotalCoinSupply\n",
       "42        42 Coin       Scrypt   PoW/PoS     4.199995e+01              42\n",
       "404       404Coin       Scrypt   PoW/PoS     1.055185e+09       532000000\n",
       "1337    EliteCoin          X13   PoW/PoS     2.927942e+10    314159265359\n",
       "BTC       Bitcoin      SHA-256       PoW     1.792718e+07        21000000\n",
       "ETH      Ethereum       Ethash       PoW     1.076842e+08               0\n",
       "...           ...          ...       ...              ...             ...\n",
       "ZEPH       ZEPHYR      SHA-256      DPoS     2.000000e+09      2000000000\n",
       "GAP       Gapcoin       Scrypt   PoW/PoS     1.493105e+07       250000000\n",
       "BDX        Beldex  CryptoNight       PoW     9.802226e+08      1400222610\n",
       "ZEN       Horizen     Equihash       PoW     7.296538e+06        21000000\n",
       "XBC   BitcoinPlus       Scrypt       PoS     1.283270e+05         1000000\n",
       "\n",
       "[532 rows x 5 columns]"
      ]
     },
     "execution_count": 144,
     "metadata": {},
     "output_type": "execute_result"
    }
   ],
   "source": [
    "# Remove all cryptocurrencies without coins mined.\n",
    "crypto3_df=crypto2_df.loc[crypto2_df[\"TotalCoinsMined\"] > 0,:]\n",
    "crypto3_df"
   ]
  },
  {
   "cell_type": "code",
   "execution_count": 145,
   "metadata": {},
   "outputs": [
    {
     "data": {
      "text/html": [
       "<div>\n",
       "<style scoped>\n",
       "    .dataframe tbody tr th:only-of-type {\n",
       "        vertical-align: middle;\n",
       "    }\n",
       "\n",
       "    .dataframe tbody tr th {\n",
       "        vertical-align: top;\n",
       "    }\n",
       "\n",
       "    .dataframe thead th {\n",
       "        text-align: right;\n",
       "    }\n",
       "</style>\n",
       "<table border=\"1\" class=\"dataframe\">\n",
       "  <thead>\n",
       "    <tr style=\"text-align: right;\">\n",
       "      <th></th>\n",
       "      <th>CoinName</th>\n",
       "    </tr>\n",
       "  </thead>\n",
       "  <tbody>\n",
       "    <tr>\n",
       "      <th>42</th>\n",
       "      <td>42 Coin</td>\n",
       "    </tr>\n",
       "    <tr>\n",
       "      <th>404</th>\n",
       "      <td>404Coin</td>\n",
       "    </tr>\n",
       "    <tr>\n",
       "      <th>1337</th>\n",
       "      <td>EliteCoin</td>\n",
       "    </tr>\n",
       "    <tr>\n",
       "      <th>BTC</th>\n",
       "      <td>Bitcoin</td>\n",
       "    </tr>\n",
       "    <tr>\n",
       "      <th>ETH</th>\n",
       "      <td>Ethereum</td>\n",
       "    </tr>\n",
       "    <tr>\n",
       "      <th>...</th>\n",
       "      <td>...</td>\n",
       "    </tr>\n",
       "    <tr>\n",
       "      <th>ZEPH</th>\n",
       "      <td>ZEPHYR</td>\n",
       "    </tr>\n",
       "    <tr>\n",
       "      <th>GAP</th>\n",
       "      <td>Gapcoin</td>\n",
       "    </tr>\n",
       "    <tr>\n",
       "      <th>BDX</th>\n",
       "      <td>Beldex</td>\n",
       "    </tr>\n",
       "    <tr>\n",
       "      <th>ZEN</th>\n",
       "      <td>Horizen</td>\n",
       "    </tr>\n",
       "    <tr>\n",
       "      <th>XBC</th>\n",
       "      <td>BitcoinPlus</td>\n",
       "    </tr>\n",
       "  </tbody>\n",
       "</table>\n",
       "<p>532 rows × 1 columns</p>\n",
       "</div>"
      ],
      "text/plain": [
       "         CoinName\n",
       "42        42 Coin\n",
       "404       404Coin\n",
       "1337    EliteCoin\n",
       "BTC       Bitcoin\n",
       "ETH      Ethereum\n",
       "...           ...\n",
       "ZEPH       ZEPHYR\n",
       "GAP       Gapcoin\n",
       "BDX        Beldex\n",
       "ZEN       Horizen\n",
       "XBC   BitcoinPlus\n",
       "\n",
       "[532 rows x 1 columns]"
      ]
     },
     "execution_count": 145,
     "metadata": {},
     "output_type": "execute_result"
    }
   ],
   "source": [
    "#Store the names of all cryptocurrencies:\n",
    "coin_df=crypto3_df.filter([\"CoinName\"])\n",
    "coin_df"
   ]
  },
  {
   "cell_type": "code",
   "execution_count": 146,
   "metadata": {},
   "outputs": [
    {
     "data": {
      "text/html": [
       "<div>\n",
       "<style scoped>\n",
       "    .dataframe tbody tr th:only-of-type {\n",
       "        vertical-align: middle;\n",
       "    }\n",
       "\n",
       "    .dataframe tbody tr th {\n",
       "        vertical-align: top;\n",
       "    }\n",
       "\n",
       "    .dataframe thead th {\n",
       "        text-align: right;\n",
       "    }\n",
       "</style>\n",
       "<table border=\"1\" class=\"dataframe\">\n",
       "  <thead>\n",
       "    <tr style=\"text-align: right;\">\n",
       "      <th></th>\n",
       "      <th>Algorithm</th>\n",
       "      <th>ProofType</th>\n",
       "      <th>TotalCoinsMined</th>\n",
       "      <th>TotalCoinSupply</th>\n",
       "    </tr>\n",
       "  </thead>\n",
       "  <tbody>\n",
       "    <tr>\n",
       "      <th>42</th>\n",
       "      <td>Scrypt</td>\n",
       "      <td>PoW/PoS</td>\n",
       "      <td>4.199995e+01</td>\n",
       "      <td>42</td>\n",
       "    </tr>\n",
       "    <tr>\n",
       "      <th>404</th>\n",
       "      <td>Scrypt</td>\n",
       "      <td>PoW/PoS</td>\n",
       "      <td>1.055185e+09</td>\n",
       "      <td>532000000</td>\n",
       "    </tr>\n",
       "    <tr>\n",
       "      <th>1337</th>\n",
       "      <td>X13</td>\n",
       "      <td>PoW/PoS</td>\n",
       "      <td>2.927942e+10</td>\n",
       "      <td>314159265359</td>\n",
       "    </tr>\n",
       "    <tr>\n",
       "      <th>BTC</th>\n",
       "      <td>SHA-256</td>\n",
       "      <td>PoW</td>\n",
       "      <td>1.792718e+07</td>\n",
       "      <td>21000000</td>\n",
       "    </tr>\n",
       "    <tr>\n",
       "      <th>ETH</th>\n",
       "      <td>Ethash</td>\n",
       "      <td>PoW</td>\n",
       "      <td>1.076842e+08</td>\n",
       "      <td>0</td>\n",
       "    </tr>\n",
       "    <tr>\n",
       "      <th>...</th>\n",
       "      <td>...</td>\n",
       "      <td>...</td>\n",
       "      <td>...</td>\n",
       "      <td>...</td>\n",
       "    </tr>\n",
       "    <tr>\n",
       "      <th>ZEPH</th>\n",
       "      <td>SHA-256</td>\n",
       "      <td>DPoS</td>\n",
       "      <td>2.000000e+09</td>\n",
       "      <td>2000000000</td>\n",
       "    </tr>\n",
       "    <tr>\n",
       "      <th>GAP</th>\n",
       "      <td>Scrypt</td>\n",
       "      <td>PoW/PoS</td>\n",
       "      <td>1.493105e+07</td>\n",
       "      <td>250000000</td>\n",
       "    </tr>\n",
       "    <tr>\n",
       "      <th>BDX</th>\n",
       "      <td>CryptoNight</td>\n",
       "      <td>PoW</td>\n",
       "      <td>9.802226e+08</td>\n",
       "      <td>1400222610</td>\n",
       "    </tr>\n",
       "    <tr>\n",
       "      <th>ZEN</th>\n",
       "      <td>Equihash</td>\n",
       "      <td>PoW</td>\n",
       "      <td>7.296538e+06</td>\n",
       "      <td>21000000</td>\n",
       "    </tr>\n",
       "    <tr>\n",
       "      <th>XBC</th>\n",
       "      <td>Scrypt</td>\n",
       "      <td>PoS</td>\n",
       "      <td>1.283270e+05</td>\n",
       "      <td>1000000</td>\n",
       "    </tr>\n",
       "  </tbody>\n",
       "</table>\n",
       "<p>532 rows × 4 columns</p>\n",
       "</div>"
      ],
      "text/plain": [
       "        Algorithm ProofType  TotalCoinsMined TotalCoinSupply\n",
       "42         Scrypt   PoW/PoS     4.199995e+01              42\n",
       "404        Scrypt   PoW/PoS     1.055185e+09       532000000\n",
       "1337          X13   PoW/PoS     2.927942e+10    314159265359\n",
       "BTC       SHA-256       PoW     1.792718e+07        21000000\n",
       "ETH        Ethash       PoW     1.076842e+08               0\n",
       "...           ...       ...              ...             ...\n",
       "ZEPH      SHA-256      DPoS     2.000000e+09      2000000000\n",
       "GAP        Scrypt   PoW/PoS     1.493105e+07       250000000\n",
       "BDX   CryptoNight       PoW     9.802226e+08      1400222610\n",
       "ZEN      Equihash       PoW     7.296538e+06        21000000\n",
       "XBC        Scrypt       PoS     1.283270e+05         1000000\n",
       "\n",
       "[532 rows x 4 columns]"
      ]
     },
     "execution_count": 146,
     "metadata": {},
     "output_type": "execute_result"
    }
   ],
   "source": [
    "#Remove the CoinName column:\n",
    "crypto4_df=crypto3_df.drop([\"CoinName\"],axis=1)\n",
    "crypto4_df"
   ]
  },
  {
   "cell_type": "code",
   "execution_count": 147,
   "metadata": {},
   "outputs": [
    {
     "data": {
      "text/html": [
       "<div>\n",
       "<style scoped>\n",
       "    .dataframe tbody tr th:only-of-type {\n",
       "        vertical-align: middle;\n",
       "    }\n",
       "\n",
       "    .dataframe tbody tr th {\n",
       "        vertical-align: top;\n",
       "    }\n",
       "\n",
       "    .dataframe thead th {\n",
       "        text-align: right;\n",
       "    }\n",
       "</style>\n",
       "<table border=\"1\" class=\"dataframe\">\n",
       "  <thead>\n",
       "    <tr style=\"text-align: right;\">\n",
       "      <th></th>\n",
       "      <th>TotalCoinsMined</th>\n",
       "      <th>TotalCoinSupply</th>\n",
       "      <th>Algorithm_1GB AES Pattern Search</th>\n",
       "      <th>Algorithm_536</th>\n",
       "      <th>Algorithm_Argon2d</th>\n",
       "      <th>Algorithm_BLAKE256</th>\n",
       "      <th>Algorithm_Blake</th>\n",
       "      <th>Algorithm_Blake2S</th>\n",
       "      <th>Algorithm_Blake2b</th>\n",
       "      <th>Algorithm_C11</th>\n",
       "      <th>...</th>\n",
       "      <th>ProofType_PoW/PoS</th>\n",
       "      <th>ProofType_PoW/PoS</th>\n",
       "      <th>ProofType_PoW/PoW</th>\n",
       "      <th>ProofType_PoW/nPoS</th>\n",
       "      <th>ProofType_Pos</th>\n",
       "      <th>ProofType_Proof of Authority</th>\n",
       "      <th>ProofType_Proof of Trust</th>\n",
       "      <th>ProofType_TPoS</th>\n",
       "      <th>ProofType_Zero-Knowledge Proof</th>\n",
       "      <th>ProofType_dPoW/PoW</th>\n",
       "    </tr>\n",
       "  </thead>\n",
       "  <tbody>\n",
       "    <tr>\n",
       "      <th>42</th>\n",
       "      <td>4.199995e+01</td>\n",
       "      <td>42</td>\n",
       "      <td>0</td>\n",
       "      <td>0</td>\n",
       "      <td>0</td>\n",
       "      <td>0</td>\n",
       "      <td>0</td>\n",
       "      <td>0</td>\n",
       "      <td>0</td>\n",
       "      <td>0</td>\n",
       "      <td>...</td>\n",
       "      <td>1</td>\n",
       "      <td>0</td>\n",
       "      <td>0</td>\n",
       "      <td>0</td>\n",
       "      <td>0</td>\n",
       "      <td>0</td>\n",
       "      <td>0</td>\n",
       "      <td>0</td>\n",
       "      <td>0</td>\n",
       "      <td>0</td>\n",
       "    </tr>\n",
       "    <tr>\n",
       "      <th>404</th>\n",
       "      <td>1.055185e+09</td>\n",
       "      <td>532000000</td>\n",
       "      <td>0</td>\n",
       "      <td>0</td>\n",
       "      <td>0</td>\n",
       "      <td>0</td>\n",
       "      <td>0</td>\n",
       "      <td>0</td>\n",
       "      <td>0</td>\n",
       "      <td>0</td>\n",
       "      <td>...</td>\n",
       "      <td>1</td>\n",
       "      <td>0</td>\n",
       "      <td>0</td>\n",
       "      <td>0</td>\n",
       "      <td>0</td>\n",
       "      <td>0</td>\n",
       "      <td>0</td>\n",
       "      <td>0</td>\n",
       "      <td>0</td>\n",
       "      <td>0</td>\n",
       "    </tr>\n",
       "    <tr>\n",
       "      <th>1337</th>\n",
       "      <td>2.927942e+10</td>\n",
       "      <td>314159265359</td>\n",
       "      <td>0</td>\n",
       "      <td>0</td>\n",
       "      <td>0</td>\n",
       "      <td>0</td>\n",
       "      <td>0</td>\n",
       "      <td>0</td>\n",
       "      <td>0</td>\n",
       "      <td>0</td>\n",
       "      <td>...</td>\n",
       "      <td>1</td>\n",
       "      <td>0</td>\n",
       "      <td>0</td>\n",
       "      <td>0</td>\n",
       "      <td>0</td>\n",
       "      <td>0</td>\n",
       "      <td>0</td>\n",
       "      <td>0</td>\n",
       "      <td>0</td>\n",
       "      <td>0</td>\n",
       "    </tr>\n",
       "    <tr>\n",
       "      <th>BTC</th>\n",
       "      <td>1.792718e+07</td>\n",
       "      <td>21000000</td>\n",
       "      <td>0</td>\n",
       "      <td>0</td>\n",
       "      <td>0</td>\n",
       "      <td>0</td>\n",
       "      <td>0</td>\n",
       "      <td>0</td>\n",
       "      <td>0</td>\n",
       "      <td>0</td>\n",
       "      <td>...</td>\n",
       "      <td>0</td>\n",
       "      <td>0</td>\n",
       "      <td>0</td>\n",
       "      <td>0</td>\n",
       "      <td>0</td>\n",
       "      <td>0</td>\n",
       "      <td>0</td>\n",
       "      <td>0</td>\n",
       "      <td>0</td>\n",
       "      <td>0</td>\n",
       "    </tr>\n",
       "    <tr>\n",
       "      <th>ETH</th>\n",
       "      <td>1.076842e+08</td>\n",
       "      <td>0</td>\n",
       "      <td>0</td>\n",
       "      <td>0</td>\n",
       "      <td>0</td>\n",
       "      <td>0</td>\n",
       "      <td>0</td>\n",
       "      <td>0</td>\n",
       "      <td>0</td>\n",
       "      <td>0</td>\n",
       "      <td>...</td>\n",
       "      <td>0</td>\n",
       "      <td>0</td>\n",
       "      <td>0</td>\n",
       "      <td>0</td>\n",
       "      <td>0</td>\n",
       "      <td>0</td>\n",
       "      <td>0</td>\n",
       "      <td>0</td>\n",
       "      <td>0</td>\n",
       "      <td>0</td>\n",
       "    </tr>\n",
       "    <tr>\n",
       "      <th>...</th>\n",
       "      <td>...</td>\n",
       "      <td>...</td>\n",
       "      <td>...</td>\n",
       "      <td>...</td>\n",
       "      <td>...</td>\n",
       "      <td>...</td>\n",
       "      <td>...</td>\n",
       "      <td>...</td>\n",
       "      <td>...</td>\n",
       "      <td>...</td>\n",
       "      <td>...</td>\n",
       "      <td>...</td>\n",
       "      <td>...</td>\n",
       "      <td>...</td>\n",
       "      <td>...</td>\n",
       "      <td>...</td>\n",
       "      <td>...</td>\n",
       "      <td>...</td>\n",
       "      <td>...</td>\n",
       "      <td>...</td>\n",
       "      <td>...</td>\n",
       "    </tr>\n",
       "    <tr>\n",
       "      <th>ZEPH</th>\n",
       "      <td>2.000000e+09</td>\n",
       "      <td>2000000000</td>\n",
       "      <td>0</td>\n",
       "      <td>0</td>\n",
       "      <td>0</td>\n",
       "      <td>0</td>\n",
       "      <td>0</td>\n",
       "      <td>0</td>\n",
       "      <td>0</td>\n",
       "      <td>0</td>\n",
       "      <td>...</td>\n",
       "      <td>0</td>\n",
       "      <td>0</td>\n",
       "      <td>0</td>\n",
       "      <td>0</td>\n",
       "      <td>0</td>\n",
       "      <td>0</td>\n",
       "      <td>0</td>\n",
       "      <td>0</td>\n",
       "      <td>0</td>\n",
       "      <td>0</td>\n",
       "    </tr>\n",
       "    <tr>\n",
       "      <th>GAP</th>\n",
       "      <td>1.493105e+07</td>\n",
       "      <td>250000000</td>\n",
       "      <td>0</td>\n",
       "      <td>0</td>\n",
       "      <td>0</td>\n",
       "      <td>0</td>\n",
       "      <td>0</td>\n",
       "      <td>0</td>\n",
       "      <td>0</td>\n",
       "      <td>0</td>\n",
       "      <td>...</td>\n",
       "      <td>1</td>\n",
       "      <td>0</td>\n",
       "      <td>0</td>\n",
       "      <td>0</td>\n",
       "      <td>0</td>\n",
       "      <td>0</td>\n",
       "      <td>0</td>\n",
       "      <td>0</td>\n",
       "      <td>0</td>\n",
       "      <td>0</td>\n",
       "    </tr>\n",
       "    <tr>\n",
       "      <th>BDX</th>\n",
       "      <td>9.802226e+08</td>\n",
       "      <td>1400222610</td>\n",
       "      <td>0</td>\n",
       "      <td>0</td>\n",
       "      <td>0</td>\n",
       "      <td>0</td>\n",
       "      <td>0</td>\n",
       "      <td>0</td>\n",
       "      <td>0</td>\n",
       "      <td>0</td>\n",
       "      <td>...</td>\n",
       "      <td>0</td>\n",
       "      <td>0</td>\n",
       "      <td>0</td>\n",
       "      <td>0</td>\n",
       "      <td>0</td>\n",
       "      <td>0</td>\n",
       "      <td>0</td>\n",
       "      <td>0</td>\n",
       "      <td>0</td>\n",
       "      <td>0</td>\n",
       "    </tr>\n",
       "    <tr>\n",
       "      <th>ZEN</th>\n",
       "      <td>7.296538e+06</td>\n",
       "      <td>21000000</td>\n",
       "      <td>0</td>\n",
       "      <td>0</td>\n",
       "      <td>0</td>\n",
       "      <td>0</td>\n",
       "      <td>0</td>\n",
       "      <td>0</td>\n",
       "      <td>0</td>\n",
       "      <td>0</td>\n",
       "      <td>...</td>\n",
       "      <td>0</td>\n",
       "      <td>0</td>\n",
       "      <td>0</td>\n",
       "      <td>0</td>\n",
       "      <td>0</td>\n",
       "      <td>0</td>\n",
       "      <td>0</td>\n",
       "      <td>0</td>\n",
       "      <td>0</td>\n",
       "      <td>0</td>\n",
       "    </tr>\n",
       "    <tr>\n",
       "      <th>XBC</th>\n",
       "      <td>1.283270e+05</td>\n",
       "      <td>1000000</td>\n",
       "      <td>0</td>\n",
       "      <td>0</td>\n",
       "      <td>0</td>\n",
       "      <td>0</td>\n",
       "      <td>0</td>\n",
       "      <td>0</td>\n",
       "      <td>0</td>\n",
       "      <td>0</td>\n",
       "      <td>...</td>\n",
       "      <td>0</td>\n",
       "      <td>0</td>\n",
       "      <td>0</td>\n",
       "      <td>0</td>\n",
       "      <td>0</td>\n",
       "      <td>0</td>\n",
       "      <td>0</td>\n",
       "      <td>0</td>\n",
       "      <td>0</td>\n",
       "      <td>0</td>\n",
       "    </tr>\n",
       "  </tbody>\n",
       "</table>\n",
       "<p>532 rows × 98 columns</p>\n",
       "</div>"
      ],
      "text/plain": [
       "      TotalCoinsMined TotalCoinSupply  Algorithm_1GB AES Pattern Search  \\\n",
       "42       4.199995e+01              42                                 0   \n",
       "404      1.055185e+09       532000000                                 0   \n",
       "1337     2.927942e+10    314159265359                                 0   \n",
       "BTC      1.792718e+07        21000000                                 0   \n",
       "ETH      1.076842e+08               0                                 0   \n",
       "...               ...             ...                               ...   \n",
       "ZEPH     2.000000e+09      2000000000                                 0   \n",
       "GAP      1.493105e+07       250000000                                 0   \n",
       "BDX      9.802226e+08      1400222610                                 0   \n",
       "ZEN      7.296538e+06        21000000                                 0   \n",
       "XBC      1.283270e+05         1000000                                 0   \n",
       "\n",
       "      Algorithm_536  Algorithm_Argon2d  Algorithm_BLAKE256  Algorithm_Blake  \\\n",
       "42                0                  0                   0                0   \n",
       "404               0                  0                   0                0   \n",
       "1337              0                  0                   0                0   \n",
       "BTC               0                  0                   0                0   \n",
       "ETH               0                  0                   0                0   \n",
       "...             ...                ...                 ...              ...   \n",
       "ZEPH              0                  0                   0                0   \n",
       "GAP               0                  0                   0                0   \n",
       "BDX               0                  0                   0                0   \n",
       "ZEN               0                  0                   0                0   \n",
       "XBC               0                  0                   0                0   \n",
       "\n",
       "      Algorithm_Blake2S  Algorithm_Blake2b  Algorithm_C11  ...  \\\n",
       "42                    0                  0              0  ...   \n",
       "404                   0                  0              0  ...   \n",
       "1337                  0                  0              0  ...   \n",
       "BTC                   0                  0              0  ...   \n",
       "ETH                   0                  0              0  ...   \n",
       "...                 ...                ...            ...  ...   \n",
       "ZEPH                  0                  0              0  ...   \n",
       "GAP                   0                  0              0  ...   \n",
       "BDX                   0                  0              0  ...   \n",
       "ZEN                   0                  0              0  ...   \n",
       "XBC                   0                  0              0  ...   \n",
       "\n",
       "      ProofType_PoW/PoS  ProofType_PoW/PoS   ProofType_PoW/PoW  \\\n",
       "42                    1                   0                  0   \n",
       "404                   1                   0                  0   \n",
       "1337                  1                   0                  0   \n",
       "BTC                   0                   0                  0   \n",
       "ETH                   0                   0                  0   \n",
       "...                 ...                 ...                ...   \n",
       "ZEPH                  0                   0                  0   \n",
       "GAP                   1                   0                  0   \n",
       "BDX                   0                   0                  0   \n",
       "ZEN                   0                   0                  0   \n",
       "XBC                   0                   0                  0   \n",
       "\n",
       "      ProofType_PoW/nPoS  ProofType_Pos  ProofType_Proof of Authority  \\\n",
       "42                     0              0                             0   \n",
       "404                    0              0                             0   \n",
       "1337                   0              0                             0   \n",
       "BTC                    0              0                             0   \n",
       "ETH                    0              0                             0   \n",
       "...                  ...            ...                           ...   \n",
       "ZEPH                   0              0                             0   \n",
       "GAP                    0              0                             0   \n",
       "BDX                    0              0                             0   \n",
       "ZEN                    0              0                             0   \n",
       "XBC                    0              0                             0   \n",
       "\n",
       "      ProofType_Proof of Trust  ProofType_TPoS  \\\n",
       "42                           0               0   \n",
       "404                          0               0   \n",
       "1337                         0               0   \n",
       "BTC                          0               0   \n",
       "ETH                          0               0   \n",
       "...                        ...             ...   \n",
       "ZEPH                         0               0   \n",
       "GAP                          0               0   \n",
       "BDX                          0               0   \n",
       "ZEN                          0               0   \n",
       "XBC                          0               0   \n",
       "\n",
       "      ProofType_Zero-Knowledge Proof  ProofType_dPoW/PoW  \n",
       "42                                 0                   0  \n",
       "404                                0                   0  \n",
       "1337                               0                   0  \n",
       "BTC                                0                   0  \n",
       "ETH                                0                   0  \n",
       "...                              ...                 ...  \n",
       "ZEPH                               0                   0  \n",
       "GAP                                0                   0  \n",
       "BDX                                0                   0  \n",
       "ZEN                                0                   0  \n",
       "XBC                                0                   0  \n",
       "\n",
       "[532 rows x 98 columns]"
      ]
     },
     "execution_count": 147,
     "metadata": {},
     "output_type": "execute_result"
    }
   ],
   "source": [
    "#Create dummies variables for all of the text features, and store the resulting data on a DataFrame named X:\n",
    "#basesd on csv,we have 2 columns with text.\n",
    "X=pd.get_dummies(crypto4_df, columns=[\"Algorithm\",\"ProofType\"])\n",
    "X"
   ]
  },
  {
   "cell_type": "code",
   "execution_count": 148,
   "metadata": {},
   "outputs": [
    {
     "data": {
      "text/plain": [
       "array([[-0.11710817, -0.1528703 , -0.0433963 , ..., -0.0433963 ,\n",
       "        -0.0433963 , -0.0433963 ],\n",
       "       [-0.09396955, -0.145009  , -0.0433963 , ..., -0.0433963 ,\n",
       "        -0.0433963 , -0.0433963 ],\n",
       "       [ 0.52494561,  4.48942416, -0.0433963 , ..., -0.0433963 ,\n",
       "        -0.0433963 , -0.0433963 ],\n",
       "       ...,\n",
       "       [-0.09561336, -0.13217937, -0.0433963 , ..., -0.0433963 ,\n",
       "        -0.0433963 , -0.0433963 ],\n",
       "       [-0.11694817, -0.15255998, -0.0433963 , ..., -0.0433963 ,\n",
       "        -0.0433963 , -0.0433963 ],\n",
       "       [-0.11710536, -0.15285552, -0.0433963 , ..., -0.0433963 ,\n",
       "        -0.0433963 , -0.0433963 ]])"
      ]
     },
     "execution_count": 148,
     "metadata": {},
     "output_type": "execute_result"
    }
   ],
   "source": [
    "#standardize all of the data from the X DataFrame:\n",
    "X_scaled=StandardScaler().fit_transform(X)\n",
    "X_scaled"
   ]
  },
  {
   "cell_type": "markdown",
   "metadata": {},
   "source": [
    "## Reducing Data Dimensions Using PCA\n"
   ]
  },
  {
   "cell_type": "code",
   "execution_count": 149,
   "metadata": {},
   "outputs": [],
   "source": [
    "# Initialize PCA model\n",
    "pca = PCA(n_components=3)"
   ]
  },
  {
   "cell_type": "code",
   "execution_count": 150,
   "metadata": {},
   "outputs": [],
   "source": [
    "# Get 3 principal components for  data.\n",
    "X_pca = pca.fit_transform(X_scaled)"
   ]
  },
  {
   "cell_type": "code",
   "execution_count": 151,
   "metadata": {},
   "outputs": [
    {
     "data": {
      "text/html": [
       "<div>\n",
       "<style scoped>\n",
       "    .dataframe tbody tr th:only-of-type {\n",
       "        vertical-align: middle;\n",
       "    }\n",
       "\n",
       "    .dataframe tbody tr th {\n",
       "        vertical-align: top;\n",
       "    }\n",
       "\n",
       "    .dataframe thead th {\n",
       "        text-align: right;\n",
       "    }\n",
       "</style>\n",
       "<table border=\"1\" class=\"dataframe\">\n",
       "  <thead>\n",
       "    <tr style=\"text-align: right;\">\n",
       "      <th></th>\n",
       "      <th>PC 1</th>\n",
       "      <th>PC 2</th>\n",
       "      <th>PC 3</th>\n",
       "    </tr>\n",
       "  </thead>\n",
       "  <tbody>\n",
       "    <tr>\n",
       "      <th>42</th>\n",
       "      <td>-0.337452</td>\n",
       "      <td>1.019204</td>\n",
       "      <td>-0.510428</td>\n",
       "    </tr>\n",
       "    <tr>\n",
       "      <th>404</th>\n",
       "      <td>-0.320782</td>\n",
       "      <td>1.019667</td>\n",
       "      <td>-0.510735</td>\n",
       "    </tr>\n",
       "    <tr>\n",
       "      <th>1337</th>\n",
       "      <td>2.313123</td>\n",
       "      <td>1.816473</td>\n",
       "      <td>-0.609166</td>\n",
       "    </tr>\n",
       "    <tr>\n",
       "      <th>BTC</th>\n",
       "      <td>-0.146745</td>\n",
       "      <td>-1.313571</td>\n",
       "      <td>0.119048</td>\n",
       "    </tr>\n",
       "    <tr>\n",
       "      <th>ETH</th>\n",
       "      <td>-0.153041</td>\n",
       "      <td>-1.979435</td>\n",
       "      <td>0.325009</td>\n",
       "    </tr>\n",
       "    <tr>\n",
       "      <th>...</th>\n",
       "      <td>...</td>\n",
       "      <td>...</td>\n",
       "      <td>...</td>\n",
       "    </tr>\n",
       "    <tr>\n",
       "      <th>ZEPH</th>\n",
       "      <td>2.465506</td>\n",
       "      <td>0.618604</td>\n",
       "      <td>0.230317</td>\n",
       "    </tr>\n",
       "    <tr>\n",
       "      <th>GAP</th>\n",
       "      <td>-0.335497</td>\n",
       "      <td>1.019128</td>\n",
       "      <td>-0.510461</td>\n",
       "    </tr>\n",
       "    <tr>\n",
       "      <th>BDX</th>\n",
       "      <td>0.325138</td>\n",
       "      <td>-2.292880</td>\n",
       "      <td>0.356592</td>\n",
       "    </tr>\n",
       "    <tr>\n",
       "      <th>ZEN</th>\n",
       "      <td>-0.136711</td>\n",
       "      <td>-2.184359</td>\n",
       "      <td>0.377388</td>\n",
       "    </tr>\n",
       "    <tr>\n",
       "      <th>XBC</th>\n",
       "      <td>-0.290837</td>\n",
       "      <td>0.729329</td>\n",
       "      <td>-0.226382</td>\n",
       "    </tr>\n",
       "  </tbody>\n",
       "</table>\n",
       "<p>532 rows × 3 columns</p>\n",
       "</div>"
      ],
      "text/plain": [
       "          PC 1      PC 2      PC 3\n",
       "42   -0.337452  1.019204 -0.510428\n",
       "404  -0.320782  1.019667 -0.510735\n",
       "1337  2.313123  1.816473 -0.609166\n",
       "BTC  -0.146745 -1.313571  0.119048\n",
       "ETH  -0.153041 -1.979435  0.325009\n",
       "...        ...       ...       ...\n",
       "ZEPH  2.465506  0.618604  0.230317\n",
       "GAP  -0.335497  1.019128 -0.510461\n",
       "BDX   0.325138 -2.292880  0.356592\n",
       "ZEN  -0.136711 -2.184359  0.377388\n",
       "XBC  -0.290837  0.729329 -0.226382\n",
       "\n",
       "[532 rows x 3 columns]"
      ]
     },
     "execution_count": 151,
     "metadata": {},
     "output_type": "execute_result"
    }
   ],
   "source": [
    "#dataFrame for principal componets:\n",
    "df_pca=pd.DataFrame(\n",
    "            data=X_pca,columns=[\"PC 1\",\"PC 2\",\"PC 3\"],index=crypto4_df.index)\n",
    "df_pca"
   ]
  },
  {
   "cell_type": "markdown",
   "metadata": {},
   "source": [
    "## Clustering Cryptocurrencies Using K-means:"
   ]
  },
  {
   "cell_type": "code",
   "execution_count": 152,
   "metadata": {},
   "outputs": [
    {
     "data": {},
     "metadata": {},
     "output_type": "display_data"
    },
    {
     "data": {
      "application/vnd.holoviews_exec.v0+json": "",
      "text/html": [
       "<div id='1102'>\n",
       "\n",
       "\n",
       "\n",
       "\n",
       "\n",
       "  <div class=\"bk-root\" id=\"a20f0049-9edd-49e5-9b04-491743454ae1\" data-root-id=\"1102\"></div>\n",
       "</div>\n",
       "<script type=\"application/javascript\">(function(root) {\n",
       "  function embed_document(root) {\n",
       "  var docs_json = {\"2380c669-e0c7-4c45-b09f-4541cfe40b67\":{\"roots\":{\"references\":[{\"attributes\":{},\"id\":\"1150\",\"type\":\"BasicTickFormatter\"},{\"attributes\":{},\"id\":\"1112\",\"type\":\"LinearScale\"},{\"attributes\":{},\"id\":\"1121\",\"type\":\"BasicTicker\"},{\"attributes\":{\"axis_label\":\"k\",\"bounds\":\"auto\",\"formatter\":{\"id\":\"1146\"},\"major_label_orientation\":\"horizontal\",\"ticker\":{\"id\":\"1145\"}},\"id\":\"1116\",\"type\":\"LinearAxis\"},{\"attributes\":{\"axis_label\":\"inertia\",\"bounds\":\"auto\",\"formatter\":{\"id\":\"1150\"},\"major_label_orientation\":\"horizontal\",\"ticker\":{\"id\":\"1121\"}},\"id\":\"1120\",\"type\":\"LinearAxis\"},{\"attributes\":{\"axis\":{\"id\":\"1116\"},\"grid_line_color\":null,\"ticker\":null},\"id\":\"1119\",\"type\":\"Grid\"},{\"attributes\":{},\"id\":\"1114\",\"type\":\"LinearScale\"},{\"attributes\":{\"callback\":null,\"renderers\":[{\"id\":\"1143\"}],\"tags\":[\"hv_created\"],\"tooltips\":[[\"k\",\"@{k}\"],[\"inertia\",\"@{inertia}\"]]},\"id\":\"1106\",\"type\":\"HoverTool\"},{\"attributes\":{\"end\":10.0,\"reset_end\":10.0,\"reset_start\":1.0,\"start\":1.0,\"tags\":[[[\"k\",\"k\",null]]]},\"id\":\"1104\",\"type\":\"Range1d\"},{\"attributes\":{\"axis\":{\"id\":\"1120\"},\"dimension\":1,\"grid_line_color\":null,\"ticker\":null},\"id\":\"1123\",\"type\":\"Grid\"},{\"attributes\":{\"data_source\":{\"id\":\"1137\"},\"glyph\":{\"id\":\"1140\"},\"hover_glyph\":null,\"muted_glyph\":{\"id\":\"1142\"},\"nonselection_glyph\":{\"id\":\"1141\"},\"selection_glyph\":null,\"view\":{\"id\":\"1144\"}},\"id\":\"1143\",\"type\":\"GlyphRenderer\"},{\"attributes\":{},\"id\":\"1157\",\"type\":\"UnionRenderers\"},{\"attributes\":{},\"id\":\"1125\",\"type\":\"PanTool\"},{\"attributes\":{\"margin\":[5,5,5,5],\"name\":\"HSpacer01703\",\"sizing_mode\":\"stretch_width\"},\"id\":\"1103\",\"type\":\"Spacer\"},{\"attributes\":{},\"id\":\"1124\",\"type\":\"SaveTool\"},{\"attributes\":{},\"id\":\"1126\",\"type\":\"WheelZoomTool\"},{\"attributes\":{\"active_drag\":\"auto\",\"active_inspect\":\"auto\",\"active_multi\":null,\"active_scroll\":\"auto\",\"active_tap\":\"auto\",\"tools\":[{\"id\":\"1106\"},{\"id\":\"1124\"},{\"id\":\"1125\"},{\"id\":\"1126\"},{\"id\":\"1127\"},{\"id\":\"1128\"}]},\"id\":\"1130\",\"type\":\"Toolbar\"},{\"attributes\":{\"overlay\":{\"id\":\"1129\"}},\"id\":\"1127\",\"type\":\"BoxZoomTool\"},{\"attributes\":{},\"id\":\"1128\",\"type\":\"ResetTool\"},{\"attributes\":{},\"id\":\"1146\",\"type\":\"BasicTickFormatter\"},{\"attributes\":{\"ticks\":[1,2,3,4,5,6,7,8,9,10]},\"id\":\"1145\",\"type\":\"FixedTicker\"},{\"attributes\":{},\"id\":\"1138\",\"type\":\"Selection\"},{\"attributes\":{\"align\":null,\"below\":[{\"id\":\"1116\"}],\"center\":[{\"id\":\"1119\"},{\"id\":\"1123\"}],\"left\":[{\"id\":\"1120\"}],\"margin\":null,\"min_border_bottom\":10,\"min_border_left\":10,\"min_border_right\":10,\"min_border_top\":10,\"plot_height\":300,\"plot_width\":700,\"renderers\":[{\"id\":\"1143\"}],\"sizing_mode\":\"fixed\",\"title\":{\"id\":\"1108\"},\"toolbar\":{\"id\":\"1130\"},\"x_range\":{\"id\":\"1104\"},\"x_scale\":{\"id\":\"1112\"},\"y_range\":{\"id\":\"1105\"},\"y_scale\":{\"id\":\"1114\"}},\"id\":\"1107\",\"subtype\":\"Figure\",\"type\":\"Plot\"},{\"attributes\":{\"line_color\":\"#1f77b3\",\"line_width\":2,\"x\":{\"field\":\"k\"},\"y\":{\"field\":\"inertia\"}},\"id\":\"1140\",\"type\":\"Line\"},{\"attributes\":{\"text\":\"Elbow Curve\",\"text_color\":{\"value\":\"black\"},\"text_font_size\":{\"value\":\"12pt\"}},\"id\":\"1108\",\"type\":\"Title\"},{\"attributes\":{\"line_alpha\":0.1,\"line_color\":\"#1f77b3\",\"line_width\":2,\"x\":{\"field\":\"k\"},\"y\":{\"field\":\"inertia\"}},\"id\":\"1141\",\"type\":\"Line\"},{\"attributes\":{\"margin\":[5,5,5,5],\"name\":\"HSpacer01704\",\"sizing_mode\":\"stretch_width\"},\"id\":\"1166\",\"type\":\"Spacer\"},{\"attributes\":{\"bottom_units\":\"screen\",\"fill_alpha\":0.5,\"fill_color\":\"lightgrey\",\"left_units\":\"screen\",\"level\":\"overlay\",\"line_alpha\":1.0,\"line_color\":\"black\",\"line_dash\":[4,4],\"line_width\":2,\"right_units\":\"screen\",\"top_units\":\"screen\"},\"id\":\"1129\",\"type\":\"BoxAnnotation\"},{\"attributes\":{\"data\":{\"inertia\":{\"__ndarray__\":\"PaKCd79srEAIJ2BC8U2jQDl4lk0lP5dASZPmymRUgkANR+trr1N4QA5WZa/+unBAK81K4QTMaUBBUtlwVhtlQLeLd2jBYmFAYC4LQIqZXEA=\",\"dtype\":\"float64\",\"order\":\"little\",\"shape\":[10]},\"k\":[1,2,3,4,5,6,7,8,9,10]},\"selected\":{\"id\":\"1138\"},\"selection_policy\":{\"id\":\"1157\"}},\"id\":\"1137\",\"type\":\"ColumnDataSource\"},{\"attributes\":{\"line_alpha\":0.2,\"line_color\":\"#1f77b3\",\"line_width\":2,\"x\":{\"field\":\"k\"},\"y\":{\"field\":\"inertia\"}},\"id\":\"1142\",\"type\":\"Line\"},{\"attributes\":{\"children\":[{\"id\":\"1103\"},{\"id\":\"1107\"},{\"id\":\"1166\"}],\"margin\":[0,0,0,0],\"name\":\"Row01699\",\"tags\":[\"embedded\"]},\"id\":\"1102\",\"type\":\"Row\"},{\"attributes\":{\"source\":{\"id\":\"1137\"}},\"id\":\"1144\",\"type\":\"CDSView\"},{\"attributes\":{\"end\":3990.7714482206757,\"reset_end\":3990.7714482206757,\"reset_start\":-237.99842643377252,\"start\":-237.99842643377252,\"tags\":[[[\"inertia\",\"inertia\",null]]]},\"id\":\"1105\",\"type\":\"Range1d\"}],\"root_ids\":[\"1102\"]},\"title\":\"Bokeh Application\",\"version\":\"2.1.0\"}};\n",
       "  var render_items = [{\"docid\":\"2380c669-e0c7-4c45-b09f-4541cfe40b67\",\"root_ids\":[\"1102\"],\"roots\":{\"1102\":\"a20f0049-9edd-49e5-9b04-491743454ae1\"}}];\n",
       "  root.Bokeh.embed.embed_items_notebook(docs_json, render_items);\n",
       "  }\n",
       "if (root.Bokeh !== undefined) {\n",
       "    embed_document(root);\n",
       "  } else {\n",
       "    var attempts = 0;\n",
       "    var timer = setInterval(function(root) {\n",
       "      if (root.Bokeh !== undefined) {\n",
       "        clearInterval(timer);\n",
       "        embed_document(root);\n",
       "      } else if (document.readyState == \"complete\") {\n",
       "        attempts++;\n",
       "        if (attempts > 100) {\n",
       "          clearInterval(timer);\n",
       "          console.log(\"Bokeh: ERROR: Unable to run BokehJS code because BokehJS library is missing\");\n",
       "        }\n",
       "      }\n",
       "    }, 10, root)\n",
       "  }\n",
       "})(window);</script>"
      ],
      "text/plain": [
       ":Curve   [k]   (inertia)"
      ]
     },
     "execution_count": 152,
     "metadata": {
      "application/vnd.holoviews_exec.v0+json": {
       "id": "1102"
      }
     },
     "output_type": "execute_result"
    }
   ],
   "source": [
    "# Find the best value for K\n",
    "inertia = []\n",
    "k = list(range(1, 11))\n",
    "\n",
    "# Calculate the inertia for the range of K values\n",
    "for i in k:\n",
    "    km = KMeans(n_clusters=i, random_state=0)\n",
    "    km.fit(df_pca)\n",
    "    inertia.append(km.inertia_)\n",
    "\n",
    "# Create the elbow curve\n",
    "elbow_data = {\"k\": k, \"inertia\": inertia}\n",
    "df_elbow = pd.DataFrame(elbow_data)\n",
    "df_elbow.hvplot.line(x=\"k\", y=\"inertia\", xticks=k, title=\"Elbow Curve\")"
   ]
  },
  {
   "cell_type": "code",
   "execution_count": 153,
   "metadata": {},
   "outputs": [
    {
     "data": {
      "text/html": [
       "<div>\n",
       "<style scoped>\n",
       "    .dataframe tbody tr th:only-of-type {\n",
       "        vertical-align: middle;\n",
       "    }\n",
       "\n",
       "    .dataframe tbody tr th {\n",
       "        vertical-align: top;\n",
       "    }\n",
       "\n",
       "    .dataframe thead th {\n",
       "        text-align: right;\n",
       "    }\n",
       "</style>\n",
       "<table border=\"1\" class=\"dataframe\">\n",
       "  <thead>\n",
       "    <tr style=\"text-align: right;\">\n",
       "      <th></th>\n",
       "      <th>PC 1</th>\n",
       "      <th>PC 2</th>\n",
       "      <th>PC 3</th>\n",
       "      <th>class</th>\n",
       "    </tr>\n",
       "  </thead>\n",
       "  <tbody>\n",
       "    <tr>\n",
       "      <th>42</th>\n",
       "      <td>-0.337452</td>\n",
       "      <td>1.019204</td>\n",
       "      <td>-0.510428</td>\n",
       "      <td>0</td>\n",
       "    </tr>\n",
       "    <tr>\n",
       "      <th>404</th>\n",
       "      <td>-0.320782</td>\n",
       "      <td>1.019667</td>\n",
       "      <td>-0.510735</td>\n",
       "      <td>0</td>\n",
       "    </tr>\n",
       "    <tr>\n",
       "      <th>1337</th>\n",
       "      <td>2.313123</td>\n",
       "      <td>1.816473</td>\n",
       "      <td>-0.609166</td>\n",
       "      <td>0</td>\n",
       "    </tr>\n",
       "    <tr>\n",
       "      <th>BTC</th>\n",
       "      <td>-0.146745</td>\n",
       "      <td>-1.313571</td>\n",
       "      <td>0.119048</td>\n",
       "      <td>1</td>\n",
       "    </tr>\n",
       "    <tr>\n",
       "      <th>ETH</th>\n",
       "      <td>-0.153041</td>\n",
       "      <td>-1.979435</td>\n",
       "      <td>0.325009</td>\n",
       "      <td>1</td>\n",
       "    </tr>\n",
       "    <tr>\n",
       "      <th>...</th>\n",
       "      <td>...</td>\n",
       "      <td>...</td>\n",
       "      <td>...</td>\n",
       "      <td>...</td>\n",
       "    </tr>\n",
       "    <tr>\n",
       "      <th>ZEPH</th>\n",
       "      <td>2.465506</td>\n",
       "      <td>0.618604</td>\n",
       "      <td>0.230317</td>\n",
       "      <td>0</td>\n",
       "    </tr>\n",
       "    <tr>\n",
       "      <th>GAP</th>\n",
       "      <td>-0.335497</td>\n",
       "      <td>1.019128</td>\n",
       "      <td>-0.510461</td>\n",
       "      <td>0</td>\n",
       "    </tr>\n",
       "    <tr>\n",
       "      <th>BDX</th>\n",
       "      <td>0.325138</td>\n",
       "      <td>-2.292880</td>\n",
       "      <td>0.356592</td>\n",
       "      <td>1</td>\n",
       "    </tr>\n",
       "    <tr>\n",
       "      <th>ZEN</th>\n",
       "      <td>-0.136711</td>\n",
       "      <td>-2.184359</td>\n",
       "      <td>0.377388</td>\n",
       "      <td>1</td>\n",
       "    </tr>\n",
       "    <tr>\n",
       "      <th>XBC</th>\n",
       "      <td>-0.290837</td>\n",
       "      <td>0.729329</td>\n",
       "      <td>-0.226382</td>\n",
       "      <td>0</td>\n",
       "    </tr>\n",
       "  </tbody>\n",
       "</table>\n",
       "<p>532 rows × 4 columns</p>\n",
       "</div>"
      ],
      "text/plain": [
       "          PC 1      PC 2      PC 3  class\n",
       "42   -0.337452  1.019204 -0.510428      0\n",
       "404  -0.320782  1.019667 -0.510735      0\n",
       "1337  2.313123  1.816473 -0.609166      0\n",
       "BTC  -0.146745 -1.313571  0.119048      1\n",
       "ETH  -0.153041 -1.979435  0.325009      1\n",
       "...        ...       ...       ...    ...\n",
       "ZEPH  2.465506  0.618604  0.230317      0\n",
       "GAP  -0.335497  1.019128 -0.510461      0\n",
       "BDX   0.325138 -2.292880  0.356592      1\n",
       "ZEN  -0.136711 -2.184359  0.377388      1\n",
       "XBC  -0.290837  0.729329 -0.226382      0\n",
       "\n",
       "[532 rows x 4 columns]"
      ]
     },
     "execution_count": 153,
     "metadata": {},
     "output_type": "execute_result"
    }
   ],
   "source": [
    "# Initialize the K-means model\n",
    "model = KMeans(n_clusters=4, random_state=0)\n",
    "\n",
    "# Fit the model\n",
    "model.fit(df_pca)\n",
    "\n",
    "# Predict clusters\n",
    "predictions = model.predict(df_pca)\n",
    "\n",
    "# Add the predicted class columns\n",
    "df_pca[\"class\"] = model.labels_\n",
    "df_pca"
   ]
  },
  {
   "cell_type": "code",
   "execution_count": 161,
   "metadata": {
    "scrolled": true
   },
   "outputs": [
    {
     "data": {
      "text/html": [
       "<div>\n",
       "<style scoped>\n",
       "    .dataframe tbody tr th:only-of-type {\n",
       "        vertical-align: middle;\n",
       "    }\n",
       "\n",
       "    .dataframe tbody tr th {\n",
       "        vertical-align: top;\n",
       "    }\n",
       "\n",
       "    .dataframe thead th {\n",
       "        text-align: right;\n",
       "    }\n",
       "</style>\n",
       "<table border=\"1\" class=\"dataframe\">\n",
       "  <thead>\n",
       "    <tr style=\"text-align: right;\">\n",
       "      <th></th>\n",
       "      <th>Algorithm</th>\n",
       "      <th>ProofType</th>\n",
       "      <th>TotalCoinsMined</th>\n",
       "      <th>TotalCoinSupply</th>\n",
       "      <th>PC 1</th>\n",
       "      <th>PC 2</th>\n",
       "      <th>PC 3</th>\n",
       "      <th>class</th>\n",
       "    </tr>\n",
       "  </thead>\n",
       "  <tbody>\n",
       "    <tr>\n",
       "      <th>42</th>\n",
       "      <td>Scrypt</td>\n",
       "      <td>PoW/PoS</td>\n",
       "      <td>4.199995e+01</td>\n",
       "      <td>42</td>\n",
       "      <td>-0.337452</td>\n",
       "      <td>1.019204</td>\n",
       "      <td>-0.510428</td>\n",
       "      <td>0</td>\n",
       "    </tr>\n",
       "    <tr>\n",
       "      <th>404</th>\n",
       "      <td>Scrypt</td>\n",
       "      <td>PoW/PoS</td>\n",
       "      <td>1.055185e+09</td>\n",
       "      <td>532000000</td>\n",
       "      <td>-0.320782</td>\n",
       "      <td>1.019667</td>\n",
       "      <td>-0.510735</td>\n",
       "      <td>0</td>\n",
       "    </tr>\n",
       "    <tr>\n",
       "      <th>1337</th>\n",
       "      <td>X13</td>\n",
       "      <td>PoW/PoS</td>\n",
       "      <td>2.927942e+10</td>\n",
       "      <td>314159265359</td>\n",
       "      <td>2.313123</td>\n",
       "      <td>1.816473</td>\n",
       "      <td>-0.609166</td>\n",
       "      <td>0</td>\n",
       "    </tr>\n",
       "    <tr>\n",
       "      <th>BTC</th>\n",
       "      <td>SHA-256</td>\n",
       "      <td>PoW</td>\n",
       "      <td>1.792718e+07</td>\n",
       "      <td>21000000</td>\n",
       "      <td>-0.146745</td>\n",
       "      <td>-1.313571</td>\n",
       "      <td>0.119048</td>\n",
       "      <td>1</td>\n",
       "    </tr>\n",
       "    <tr>\n",
       "      <th>ETH</th>\n",
       "      <td>Ethash</td>\n",
       "      <td>PoW</td>\n",
       "      <td>1.076842e+08</td>\n",
       "      <td>0</td>\n",
       "      <td>-0.153041</td>\n",
       "      <td>-1.979435</td>\n",
       "      <td>0.325009</td>\n",
       "      <td>1</td>\n",
       "    </tr>\n",
       "    <tr>\n",
       "      <th>LTC</th>\n",
       "      <td>Scrypt</td>\n",
       "      <td>PoW</td>\n",
       "      <td>6.303924e+07</td>\n",
       "      <td>84000000</td>\n",
       "      <td>-0.168538</td>\n",
       "      <td>-1.159298</td>\n",
       "      <td>-0.000968</td>\n",
       "      <td>1</td>\n",
       "    </tr>\n",
       "    <tr>\n",
       "      <th>DASH</th>\n",
       "      <td>X11</td>\n",
       "      <td>PoW/PoS</td>\n",
       "      <td>9.031294e+06</td>\n",
       "      <td>22000000</td>\n",
       "      <td>-0.390473</td>\n",
       "      <td>1.315974</td>\n",
       "      <td>-0.455447</td>\n",
       "      <td>0</td>\n",
       "    </tr>\n",
       "    <tr>\n",
       "      <th>XMR</th>\n",
       "      <td>CryptoNight-V7</td>\n",
       "      <td>PoW</td>\n",
       "      <td>1.720114e+07</td>\n",
       "      <td>0</td>\n",
       "      <td>-0.148064</td>\n",
       "      <td>-2.184012</td>\n",
       "      <td>0.359271</td>\n",
       "      <td>1</td>\n",
       "    </tr>\n",
       "    <tr>\n",
       "      <th>ETC</th>\n",
       "      <td>Ethash</td>\n",
       "      <td>PoW</td>\n",
       "      <td>1.133597e+08</td>\n",
       "      <td>210000000</td>\n",
       "      <td>-0.151482</td>\n",
       "      <td>-1.979503</td>\n",
       "      <td>0.324983</td>\n",
       "      <td>1</td>\n",
       "    </tr>\n",
       "    <tr>\n",
       "      <th>ZEC</th>\n",
       "      <td>Equihash</td>\n",
       "      <td>PoW</td>\n",
       "      <td>7.383056e+06</td>\n",
       "      <td>21000000</td>\n",
       "      <td>-0.136710</td>\n",
       "      <td>-2.184359</td>\n",
       "      <td>0.377388</td>\n",
       "      <td>1</td>\n",
       "    </tr>\n",
       "  </tbody>\n",
       "</table>\n",
       "</div>"
      ],
      "text/plain": [
       "           Algorithm ProofType  TotalCoinsMined TotalCoinSupply      PC 1  \\\n",
       "42            Scrypt   PoW/PoS     4.199995e+01              42 -0.337452   \n",
       "404           Scrypt   PoW/PoS     1.055185e+09       532000000 -0.320782   \n",
       "1337             X13   PoW/PoS     2.927942e+10    314159265359  2.313123   \n",
       "BTC          SHA-256       PoW     1.792718e+07        21000000 -0.146745   \n",
       "ETH           Ethash       PoW     1.076842e+08               0 -0.153041   \n",
       "LTC           Scrypt       PoW     6.303924e+07        84000000 -0.168538   \n",
       "DASH             X11   PoW/PoS     9.031294e+06        22000000 -0.390473   \n",
       "XMR   CryptoNight-V7       PoW     1.720114e+07               0 -0.148064   \n",
       "ETC           Ethash       PoW     1.133597e+08       210000000 -0.151482   \n",
       "ZEC         Equihash       PoW     7.383056e+06        21000000 -0.136710   \n",
       "\n",
       "          PC 2      PC 3  class  \n",
       "42    1.019204 -0.510428      0  \n",
       "404   1.019667 -0.510735      0  \n",
       "1337  1.816473 -0.609166      0  \n",
       "BTC  -1.313571  0.119048      1  \n",
       "ETH  -1.979435  0.325009      1  \n",
       "LTC  -1.159298 -0.000968      1  \n",
       "DASH  1.315974 -0.455447      0  \n",
       "XMR  -2.184012  0.359271      1  \n",
       "ETC  -1.979503  0.324983      1  \n",
       "ZEC  -2.184359  0.377388      1  "
      ]
     },
     "execution_count": 161,
     "metadata": {},
     "output_type": "execute_result"
    }
   ],
   "source": [
    "#Create a new DataFrame by make join  by outer:\n",
    "clustered1_df=crypto4_df.join(df_pca,how=\"outer\")\n",
    "clustered1_df.head(10)"
   ]
  },
  {
   "cell_type": "code",
   "execution_count": 164,
   "metadata": {},
   "outputs": [
    {
     "data": {
      "text/html": [
       "<div>\n",
       "<style scoped>\n",
       "    .dataframe tbody tr th:only-of-type {\n",
       "        vertical-align: middle;\n",
       "    }\n",
       "\n",
       "    .dataframe tbody tr th {\n",
       "        vertical-align: top;\n",
       "    }\n",
       "\n",
       "    .dataframe thead th {\n",
       "        text-align: right;\n",
       "    }\n",
       "</style>\n",
       "<table border=\"1\" class=\"dataframe\">\n",
       "  <thead>\n",
       "    <tr style=\"text-align: right;\">\n",
       "      <th></th>\n",
       "      <th>Algorithm</th>\n",
       "      <th>ProofType</th>\n",
       "      <th>TotalCoinsMined</th>\n",
       "      <th>TotalCoinSupply</th>\n",
       "      <th>PC 1</th>\n",
       "      <th>PC 2</th>\n",
       "      <th>PC 3</th>\n",
       "      <th>CoinName</th>\n",
       "      <th>class</th>\n",
       "    </tr>\n",
       "  </thead>\n",
       "  <tbody>\n",
       "    <tr>\n",
       "      <th>42</th>\n",
       "      <td>Scrypt</td>\n",
       "      <td>PoW/PoS</td>\n",
       "      <td>4.199995e+01</td>\n",
       "      <td>42</td>\n",
       "      <td>-0.337452</td>\n",
       "      <td>1.019204</td>\n",
       "      <td>-0.510428</td>\n",
       "      <td>42 Coin</td>\n",
       "      <td>0</td>\n",
       "    </tr>\n",
       "    <tr>\n",
       "      <th>404</th>\n",
       "      <td>Scrypt</td>\n",
       "      <td>PoW/PoS</td>\n",
       "      <td>1.055185e+09</td>\n",
       "      <td>532000000</td>\n",
       "      <td>-0.320782</td>\n",
       "      <td>1.019667</td>\n",
       "      <td>-0.510735</td>\n",
       "      <td>404Coin</td>\n",
       "      <td>0</td>\n",
       "    </tr>\n",
       "    <tr>\n",
       "      <th>1337</th>\n",
       "      <td>X13</td>\n",
       "      <td>PoW/PoS</td>\n",
       "      <td>2.927942e+10</td>\n",
       "      <td>314159265359</td>\n",
       "      <td>2.313123</td>\n",
       "      <td>1.816473</td>\n",
       "      <td>-0.609166</td>\n",
       "      <td>EliteCoin</td>\n",
       "      <td>0</td>\n",
       "    </tr>\n",
       "    <tr>\n",
       "      <th>BTC</th>\n",
       "      <td>SHA-256</td>\n",
       "      <td>PoW</td>\n",
       "      <td>1.792718e+07</td>\n",
       "      <td>21000000</td>\n",
       "      <td>-0.146745</td>\n",
       "      <td>-1.313571</td>\n",
       "      <td>0.119048</td>\n",
       "      <td>Bitcoin</td>\n",
       "      <td>1</td>\n",
       "    </tr>\n",
       "    <tr>\n",
       "      <th>ETH</th>\n",
       "      <td>Ethash</td>\n",
       "      <td>PoW</td>\n",
       "      <td>1.076842e+08</td>\n",
       "      <td>0</td>\n",
       "      <td>-0.153041</td>\n",
       "      <td>-1.979435</td>\n",
       "      <td>0.325009</td>\n",
       "      <td>Ethereum</td>\n",
       "      <td>1</td>\n",
       "    </tr>\n",
       "    <tr>\n",
       "      <th>LTC</th>\n",
       "      <td>Scrypt</td>\n",
       "      <td>PoW</td>\n",
       "      <td>6.303924e+07</td>\n",
       "      <td>84000000</td>\n",
       "      <td>-0.168538</td>\n",
       "      <td>-1.159298</td>\n",
       "      <td>-0.000968</td>\n",
       "      <td>Litecoin</td>\n",
       "      <td>1</td>\n",
       "    </tr>\n",
       "    <tr>\n",
       "      <th>DASH</th>\n",
       "      <td>X11</td>\n",
       "      <td>PoW/PoS</td>\n",
       "      <td>9.031294e+06</td>\n",
       "      <td>22000000</td>\n",
       "      <td>-0.390473</td>\n",
       "      <td>1.315974</td>\n",
       "      <td>-0.455447</td>\n",
       "      <td>Dash</td>\n",
       "      <td>0</td>\n",
       "    </tr>\n",
       "    <tr>\n",
       "      <th>XMR</th>\n",
       "      <td>CryptoNight-V7</td>\n",
       "      <td>PoW</td>\n",
       "      <td>1.720114e+07</td>\n",
       "      <td>0</td>\n",
       "      <td>-0.148064</td>\n",
       "      <td>-2.184012</td>\n",
       "      <td>0.359271</td>\n",
       "      <td>Monero</td>\n",
       "      <td>1</td>\n",
       "    </tr>\n",
       "    <tr>\n",
       "      <th>ETC</th>\n",
       "      <td>Ethash</td>\n",
       "      <td>PoW</td>\n",
       "      <td>1.133597e+08</td>\n",
       "      <td>210000000</td>\n",
       "      <td>-0.151482</td>\n",
       "      <td>-1.979503</td>\n",
       "      <td>0.324983</td>\n",
       "      <td>Ethereum Classic</td>\n",
       "      <td>1</td>\n",
       "    </tr>\n",
       "    <tr>\n",
       "      <th>ZEC</th>\n",
       "      <td>Equihash</td>\n",
       "      <td>PoW</td>\n",
       "      <td>7.383056e+06</td>\n",
       "      <td>21000000</td>\n",
       "      <td>-0.136710</td>\n",
       "      <td>-2.184359</td>\n",
       "      <td>0.377388</td>\n",
       "      <td>ZCash</td>\n",
       "      <td>1</td>\n",
       "    </tr>\n",
       "  </tbody>\n",
       "</table>\n",
       "</div>"
      ],
      "text/plain": [
       "           Algorithm ProofType  TotalCoinsMined TotalCoinSupply      PC 1  \\\n",
       "42            Scrypt   PoW/PoS     4.199995e+01              42 -0.337452   \n",
       "404           Scrypt   PoW/PoS     1.055185e+09       532000000 -0.320782   \n",
       "1337             X13   PoW/PoS     2.927942e+10    314159265359  2.313123   \n",
       "BTC          SHA-256       PoW     1.792718e+07        21000000 -0.146745   \n",
       "ETH           Ethash       PoW     1.076842e+08               0 -0.153041   \n",
       "LTC           Scrypt       PoW     6.303924e+07        84000000 -0.168538   \n",
       "DASH             X11   PoW/PoS     9.031294e+06        22000000 -0.390473   \n",
       "XMR   CryptoNight-V7       PoW     1.720114e+07               0 -0.148064   \n",
       "ETC           Ethash       PoW     1.133597e+08       210000000 -0.151482   \n",
       "ZEC         Equihash       PoW     7.383056e+06        21000000 -0.136710   \n",
       "\n",
       "          PC 2      PC 3          CoinName  class  \n",
       "42    1.019204 -0.510428           42 Coin      0  \n",
       "404   1.019667 -0.510735           404Coin      0  \n",
       "1337  1.816473 -0.609166         EliteCoin      0  \n",
       "BTC  -1.313571  0.119048           Bitcoin      1  \n",
       "ETH  -1.979435  0.325009          Ethereum      1  \n",
       "LTC  -1.159298 -0.000968          Litecoin      1  \n",
       "DASH  1.315974 -0.455447              Dash      0  \n",
       "XMR  -2.184012  0.359271            Monero      1  \n",
       "ETC  -1.979503  0.324983  Ethereum Classic      1  \n",
       "ZEC  -2.184359  0.377388             ZCash      1  "
      ]
     },
     "execution_count": 164,
     "metadata": {},
     "output_type": "execute_result"
    }
   ],
   "source": [
    "#create a new dataFrame with coin:\n",
    "clustered_df=clustered1_df.join(coin_df,how=\"outer\")\n",
    "#reorder column:\n",
    "clustered_df = clustered_df.reindex(columns=[\"Algorithm\",\"ProofType\",\"TotalCoinsMined\",\"TotalCoinSupply\",\"PC 1\",\"PC 2\",\"PC 3\",\"CoinName\",\"class\"])\n",
    "clustered_df.head(10)"
   ]
  },
  {
   "cell_type": "markdown",
   "metadata": {},
   "source": [
    "## Visualizing Results:"
   ]
  },
  {
   "cell_type": "code",
   "execution_count": 171,
   "metadata": {},
   "outputs": [
    {
     "data": {
      "application/vnd.plotly.v1+json": {
       "config": {
        "plotlyServerURL": "https://plot.ly"
       },
       "data": [
        {
         "customdata": [
          [
           "Scrypt"
          ],
          [
           "Scrypt"
          ],
          [
           "X13"
          ],
          [
           "X11"
          ],
          [
           "SHA-512"
          ],
          [
           "SHA-256"
          ],
          [
           "SHA-256"
          ],
          [
           "X15"
          ],
          [
           "Scrypt"
          ],
          [
           "Scrypt"
          ],
          [
           "Scrypt"
          ],
          [
           "Scrypt"
          ],
          [
           "Scrypt"
          ],
          [
           "Scrypt"
          ],
          [
           "Groestl"
          ],
          [
           "PoS"
          ],
          [
           "Scrypt"
          ],
          [
           "Scrypt"
          ],
          [
           "X11"
          ],
          [
           "X11"
          ],
          [
           "SHA3"
          ],
          [
           "Scrypt"
          ],
          [
           "SHA-256"
          ],
          [
           "Scrypt"
          ],
          [
           "X13"
          ],
          [
           "X13"
          ],
          [
           "NeoScrypt"
          ],
          [
           "Scrypt"
          ],
          [
           "Scrypt"
          ],
          [
           "Scrypt"
          ],
          [
           "X11"
          ],
          [
           "X11"
          ],
          [
           "Multiple"
          ],
          [
           "PHI1612"
          ],
          [
           "X11"
          ],
          [
           "Scrypt"
          ],
          [
           "Scrypt"
          ],
          [
           "Scrypt"
          ],
          [
           "X11"
          ],
          [
           "Multiple"
          ],
          [
           "X13"
          ],
          [
           "Scrypt"
          ],
          [
           "Shabal256"
          ],
          [
           "Counterparty"
          ],
          [
           "SHA-256"
          ],
          [
           "Groestl"
          ],
          [
           "Scrypt"
          ],
          [
           "X13"
          ],
          [
           "Scrypt"
          ],
          [
           "Scrypt"
          ],
          [
           "X13"
          ],
          [
           "X11"
          ],
          [
           "Scrypt"
          ],
          [
           "X11"
          ],
          [
           "SHA3"
          ],
          [
           "QUAIT"
          ],
          [
           "X11"
          ],
          [
           "Scrypt"
          ],
          [
           "X13"
          ],
          [
           "SHA-256"
          ],
          [
           "X15"
          ],
          [
           "BLAKE256"
          ],
          [
           "SHA-256"
          ],
          [
           "X11"
          ],
          [
           "SHA-256"
          ],
          [
           "NIST5"
          ],
          [
           "Scrypt"
          ],
          [
           "Scrypt"
          ],
          [
           "X11"
          ],
          [
           "Scrypt"
          ],
          [
           "SHA-256"
          ],
          [
           "Scrypt"
          ],
          [
           "PoS"
          ],
          [
           "X11"
          ],
          [
           "SHA-256"
          ],
          [
           "SHA-256"
          ],
          [
           "NIST5"
          ],
          [
           "X11"
          ],
          [
           "POS 3.0"
          ],
          [
           "Scrypt"
          ],
          [
           "Scrypt"
          ],
          [
           "Scrypt"
          ],
          [
           "X13"
          ],
          [
           "X11"
          ],
          [
           "X11"
          ],
          [
           "Scrypt"
          ],
          [
           "SHA-256"
          ],
          [
           "X11"
          ],
          [
           "Scrypt"
          ],
          [
           "Scrypt"
          ],
          [
           "Scrypt"
          ],
          [
           "Scrypt"
          ],
          [
           "SHA-256D"
          ],
          [
           "PoS"
          ],
          [
           "Scrypt"
          ],
          [
           "X11"
          ],
          [
           "PoS"
          ],
          [
           "X13"
          ],
          [
           "X14"
          ],
          [
           "PoS"
          ],
          [
           "SHA-256D"
          ],
          [
           "DPoS"
          ],
          [
           "X11"
          ],
          [
           "X13"
          ],
          [
           "X11"
          ],
          [
           "PoS"
          ],
          [
           "Scrypt"
          ],
          [
           "Scrypt"
          ],
          [
           "PoS"
          ],
          [
           "X11"
          ],
          [
           "SHA-256"
          ],
          [
           "Scrypt"
          ],
          [
           "X11"
          ],
          [
           "Scrypt"
          ],
          [
           "Scrypt"
          ],
          [
           "X11"
          ],
          [
           "Scrypt"
          ],
          [
           "Scrypt"
          ],
          [
           "Scrypt"
          ],
          [
           "Scrypt"
          ],
          [
           "Quark"
          ],
          [
           "QuBit"
          ],
          [
           "Scrypt"
          ],
          [
           "SHA-256"
          ],
          [
           "X11"
          ],
          [
           "Scrypt"
          ],
          [
           "Scrypt"
          ],
          [
           "Scrypt"
          ],
          [
           "Scrypt"
          ],
          [
           "X13"
          ],
          [
           "Scrypt"
          ],
          [
           "Scrypt"
          ],
          [
           "X11"
          ],
          [
           "Blake2S"
          ],
          [
           "X11"
          ],
          [
           "PoS"
          ],
          [
           "X11"
          ],
          [
           "PoS"
          ],
          [
           "X11"
          ],
          [
           "Scrypt"
          ],
          [
           "Scrypt"
          ],
          [
           "Scrypt"
          ],
          [
           "SHA-256"
          ],
          [
           "X11"
          ],
          [
           "Scrypt"
          ],
          [
           "PoS"
          ],
          [
           "Scrypt"
          ],
          [
           "X15"
          ],
          [
           "SHA-256"
          ],
          [
           "POS 3.0"
          ],
          [
           "536"
          ],
          [
           "NIST5"
          ],
          [
           "NIST5"
          ],
          [
           "Skein"
          ],
          [
           "X13"
          ],
          [
           "Scrypt"
          ],
          [
           "X13"
          ],
          [
           "SkunkHash v2 Raptor"
          ],
          [
           "Skein"
          ],
          [
           "X11"
          ],
          [
           "Scrypt"
          ],
          [
           "VeChainThor Authority"
          ],
          [
           "PoS"
          ],
          [
           "Scrypt"
          ],
          [
           "Scrypt"
          ],
          [
           "SHA-512"
          ],
          [
           "Ouroboros"
          ],
          [
           "X11"
          ],
          [
           "NeoScrypt"
          ],
          [
           "Scrypt"
          ],
          [
           "Lyra2REv2"
          ],
          [
           "Scrypt"
          ],
          [
           "SHA-256"
          ],
          [
           "NIST5"
          ],
          [
           "PHI1612"
          ],
          [
           "Scrypt"
          ],
          [
           "Quark"
          ],
          [
           "POS 2.0"
          ],
          [
           "Scrypt"
          ],
          [
           "SHA-256"
          ],
          [
           "X11"
          ],
          [
           "DPoS"
          ],
          [
           "NIST5"
          ],
          [
           "X13"
          ],
          [
           "Scrypt"
          ],
          [
           "NIST5"
          ],
          [
           "Quark"
          ],
          [
           "Scrypt"
          ],
          [
           "Scrypt"
          ],
          [
           "X11"
          ],
          [
           "Quark"
          ],
          [
           "Scrypt"
          ],
          [
           "Scrypt"
          ],
          [
           "X11"
          ],
          [
           "POS 3.0"
          ],
          [
           "Ethash"
          ],
          [
           "Scrypt"
          ],
          [
           "Scrypt"
          ],
          [
           "X13"
          ],
          [
           "C11"
          ],
          [
           "X11"
          ],
          [
           "XEVAN"
          ],
          [
           "Scrypt"
          ],
          [
           "VBFT"
          ],
          [
           "NIST5"
          ],
          [
           "Scrypt"
          ],
          [
           "Scrypt"
          ],
          [
           "Scrypt"
          ],
          [
           "Green Protocol"
          ],
          [
           "PoS"
          ],
          [
           "Scrypt"
          ],
          [
           "Semux BFT consensus"
          ],
          [
           "Quark"
          ],
          [
           "PoS"
          ],
          [
           "X16R"
          ],
          [
           "Scrypt"
          ],
          [
           "XEVAN"
          ],
          [
           "Scrypt"
          ],
          [
           "Scrypt"
          ],
          [
           "Scrypt"
          ],
          [
           "SHA-256D"
          ],
          [
           "Scrypt"
          ],
          [
           "X15"
          ],
          [
           "Scrypt"
          ],
          [
           "Quark"
          ],
          [
           "SHA-256"
          ],
          [
           "DPoS"
          ],
          [
           "X16R"
          ],
          [
           "Quark"
          ],
          [
           "Quark"
          ],
          [
           "Scrypt"
          ],
          [
           "Lyra2REv2"
          ],
          [
           "Quark"
          ],
          [
           "Scrypt"
          ],
          [
           "X11"
          ],
          [
           "X11"
          ],
          [
           "Scrypt"
          ],
          [
           "PoS"
          ],
          [
           "Keccak"
          ],
          [
           "X11"
          ],
          [
           "Scrypt"
          ],
          [
           "SHA-512"
          ],
          [
           "XEVAN"
          ],
          [
           "XEVAN"
          ],
          [
           "X11"
          ],
          [
           "Quark"
          ],
          [
           "Scrypt"
          ],
          [
           "Quark"
          ],
          [
           "Quark"
          ],
          [
           "Scrypt"
          ],
          [
           "X11"
          ],
          [
           "Scrypt"
          ],
          [
           "XEVAN"
          ],
          [
           "SHA-256D"
          ],
          [
           "X11"
          ],
          [
           "X11"
          ],
          [
           "DPoS"
          ],
          [
           "Scrypt"
          ],
          [
           "X11"
          ],
          [
           "Scrypt"
          ],
          [
           "Scrypt"
          ],
          [
           "SHA-256"
          ],
          [
           "Scrypt"
          ],
          [
           "X11"
          ],
          [
           "Scrypt"
          ],
          [
           "SHA-256"
          ],
          [
           "X11"
          ],
          [
           "Scrypt"
          ],
          [
           "Scrypt"
          ],
          [
           "X11"
          ],
          [
           "Scrypt"
          ],
          [
           "PoS"
          ],
          [
           "X11"
          ],
          [
           "SHA-256"
          ],
          [
           "DPoS"
          ],
          [
           "Scrypt"
          ],
          [
           "Scrypt"
          ],
          [
           "NeoScrypt"
          ],
          [
           "X13"
          ],
          [
           "DPoS"
          ],
          [
           "DPoS"
          ],
          [
           "SHA-256"
          ],
          [
           "PoS"
          ],
          [
           "PoS"
          ],
          [
           "SHA-256"
          ],
          [
           "Scrypt"
          ],
          [
           "Scrypt"
          ]
         ],
         "hovertemplate": "<b>%{hovertext}</b><br><br>class=%{marker.color}<br>PC 1=%{x}<br>PC 2=%{y}<br>PC 3=%{z}<br>Algorithm=%{customdata[0]}<extra></extra>",
         "hovertext": [
          "42 Coin",
          "404Coin",
          "EliteCoin",
          "Dash",
          "Bitshares",
          "BitcoinDark",
          "PayCoin",
          "KoboCoin",
          "Aurora Coin",
          "BlueCoin",
          "EnergyCoin",
          "BitBar",
          "CryptoBullion",
          "CasinoCoin",
          "Diamond",
          "Exclusive Coin",
          "FlutterCoin",
          "HoboNickels",
          "HyperStake",
          "IOCoin",
          "MaxCoin",
          "MintCoin",
          "MazaCoin",
          "Nautilus Coin",
          "NavCoin",
          "OpalCoin",
          "Orbitcoin",
          "PotCoin",
          "PhoenixCoin",
          "Reddcoin",
          "SuperCoin",
          "SyncCoin",
          "TeslaCoin",
          "TittieCoin",
          "TorCoin",
          "UnitaryStatus Dollar",
          "UltraCoin",
          "VeriCoin",
          "X11 Coin",
          "Crypti",
          "StealthCoin",
          "ZCC Coin",
          "BurstCoin",
          "StorjCoin",
          "Neutron",
          "FairCoin",
          "RubyCoin",
          "Kore",
          "Dnotes",
          "8BIT Coin",
          "Sativa Coin",
          "Ucoin",
          "Vtorrent",
          "IslaCoin",
          "Nexus",
          "Droidz",
          "Squall Coin",
          "Diggits",
          "Paycon",
          "Emercoin",
          "EverGreenCoin",
          "Decred",
          "EDRCoin",
          "Hitcoin",
          "DubaiCoin",
          "PWR Coin",
          "BillaryCoin",
          "GPU Coin",
          "EuropeCoin",
          "ZeitCoin",
          "SwingCoin",
          "SafeExchangeCoin",
          "Nebuchadnezzar",
          "Ratecoin",
          "Revenu",
          "Clockcoin",
          "VIP Tokens",
          "BitSend",
          "Let it Ride",
          "PutinCoin",
          "iBankCoin",
          "Frankywillcoin",
          "MudraCoin",
          "Lutetium Coin",
          "GoldBlocks",
          "CarterCoin",
          "BitTokens",
          "MustangCoin",
          "ZoneCoin",
          "RootCoin",
          "BitCurrency",
          "Swiscoin",
          "BuzzCoin",
          "Opair",
          "PesoBit",
          "Halloween Coin",
          "CoffeeCoin",
          "RoyalCoin",
          "GanjaCoin V2",
          "TeamUP",
          "LanaCoin",
          "ARK",
          "InsaneCoin",
          "EmberCoin",
          "XenixCoin",
          "FreeCoin",
          "PLNCoin",
          "AquariusCoin",
          "Creatio",
          "Eternity",
          "Eurocoin",
          "BitcoinFast",
          "Stakenet",
          "BitConnect Coin",
          "MoneyCoin",
          "Enigma",
          "Russiacoin",
          "PandaCoin",
          "GameUnits",
          "GAKHcoin",
          "Allsafe",
          "LiteCreed",
          "Klingon Empire Darsek",
          "Internet of People",
          "KushCoin",
          "Printerium",
          "Impeach",
          "Zilbercoin",
          "FirstCoin",
          "FindCoin",
          "OpenChat",
          "RenosCoin",
          "VirtacoinPlus",
          "TajCoin",
          "Impact",
          "Atmos",
          "HappyCoin",
          "MacronCoin",
          "Condensate",
          "Independent Money System",
          "ArgusCoin",
          "LomoCoin",
          "ProCurrency",
          "GoldReserve",
          "GrowthCoin",
          "Phreak",
          "Degas Coin",
          "HTML5 Coin",
          "Ultimate Secure Cash",
          "QTUM",
          "Espers",
          "Denarius",
          "Virta Unique Coin",
          "Bitcoin Planet",
          "BritCoin",
          "Linda",
          "DeepOnion",
          "Signatum",
          "Cream",
          "Monoeci",
          "Draftcoin",
          "Vechain",
          "Stakecoin",
          "CoinonatX",
          "Ethereum Dark",
          "Obsidian",
          "Cardano",
          "Regalcoin",
          "TrezarCoin",
          "TerraNovaCoin",
          "Rupee",
          "WomenCoin",
          "Theresa May Coin",
          "NamoCoin",
          "LUXCoin",
          "Xios",
          "Bitcloud 2.0",
          "KekCoin",
          "BlackholeCoin",
          "Infinity Economics",
          "Magnet",
          "Lamden Tau",
          "Electra",
          "Bitcoin Diamond",
          "Cash & Back Coin",
          "Bulwark",
          "Kalkulus",
          "GermanCoin",
          "LiteCoin Ultra",
          "PhantomX",
          "Digiwage",
          "Trollcoin",
          "Litecoin Plus",
          "Monkey Project",
          "TokenPay",
          "1717 Masonic Commemorative Token",
          "My Big Coin",
          "Unified Society USDEX",
          "Tokyo Coin",
          "Stipend",
          "Pushi",
          "Ellerium",
          "Velox",
          "Ontology",
          "Bitspace",
          "Briacoin",
          "Ignition",
          "MedicCoin",
          "Bitcoin Green",
          "Deviant Coin",
          "Abjcoin",
          "Semux",
          "Carebit",
          "Zealium",
          "Proton",
          "iDealCash",
          "Bitcoin Incognito",
          "HollyWoodCoin",
          "Swisscoin",
          "Xt3ch",
          "TheVig",
          "EmaratCoin",
          "Dekado",
          "Lynx",
          "Poseidon Quark",
          "BitcoinWSpectrum",
          "Muse",
          "Trivechain",
          "Dystem",
          "Giant",
          "Peony Coin",
          "Absolute Coin",
          "Vitae",
          "TPCash",
          "ARENON",
          "EUNO",
          "MMOCoin",
          "Ketan",
          "XDNA",
          "PAXEX",
          "ThunderStake",
          "Kcash",
          "Bettex coin",
          "BitMoney",
          "Junson Ming Chan Coin",
          "HerbCoin",
          "Oduwa",
          "Galilel",
          "Crypto Sports",
          "Credit",
          "Dash Platinum",
          "Nasdacoin",
          "Beetle Coin",
          "Titan Coin",
          "Award",
          "Insane Coin",
          "ALAX",
          "LiteDoge",
          "TruckCoin",
          "OrangeCoin",
          "BitstarCoin",
          "NeosCoin",
          "HyperCoin",
          "PinkCoin",
          "AudioCoin",
          "IncaKoin",
          "Piggy Coin",
          "Genstake",
          "XiaoMiCoin",
          "CapriCoin",
          " ClubCoin",
          "Radium",
          "Creditbit ",
          "OKCash",
          "Lisk",
          "HiCoin",
          "WhiteCoin",
          "FriendshipCoin",
          "Triangles Coin",
          "EOS",
          "Oxycoin",
          "TigerCash",
          "Particl",
          "Nxt",
          "ZEPHYR",
          "Gapcoin",
          "BitcoinPlus"
         ],
         "legendgroup": "0",
         "marker": {
          "color": [
           0,
           0,
           0,
           0,
           0,
           0,
           0,
           0,
           0,
           0,
           0,
           0,
           0,
           0,
           0,
           0,
           0,
           0,
           0,
           0,
           0,
           0,
           0,
           0,
           0,
           0,
           0,
           0,
           0,
           0,
           0,
           0,
           0,
           0,
           0,
           0,
           0,
           0,
           0,
           0,
           0,
           0,
           0,
           0,
           0,
           0,
           0,
           0,
           0,
           0,
           0,
           0,
           0,
           0,
           0,
           0,
           0,
           0,
           0,
           0,
           0,
           0,
           0,
           0,
           0,
           0,
           0,
           0,
           0,
           0,
           0,
           0,
           0,
           0,
           0,
           0,
           0,
           0,
           0,
           0,
           0,
           0,
           0,
           0,
           0,
           0,
           0,
           0,
           0,
           0,
           0,
           0,
           0,
           0,
           0,
           0,
           0,
           0,
           0,
           0,
           0,
           0,
           0,
           0,
           0,
           0,
           0,
           0,
           0,
           0,
           0,
           0,
           0,
           0,
           0,
           0,
           0,
           0,
           0,
           0,
           0,
           0,
           0,
           0,
           0,
           0,
           0,
           0,
           0,
           0,
           0,
           0,
           0,
           0,
           0,
           0,
           0,
           0,
           0,
           0,
           0,
           0,
           0,
           0,
           0,
           0,
           0,
           0,
           0,
           0,
           0,
           0,
           0,
           0,
           0,
           0,
           0,
           0,
           0,
           0,
           0,
           0,
           0,
           0,
           0,
           0,
           0,
           0,
           0,
           0,
           0,
           0,
           0,
           0,
           0,
           0,
           0,
           0,
           0,
           0,
           0,
           0,
           0,
           0,
           0,
           0,
           0,
           0,
           0,
           0,
           0,
           0,
           0,
           0,
           0,
           0,
           0,
           0,
           0,
           0,
           0,
           0,
           0,
           0,
           0,
           0,
           0,
           0,
           0,
           0,
           0,
           0,
           0,
           0,
           0,
           0,
           0,
           0,
           0,
           0,
           0,
           0,
           0,
           0,
           0,
           0,
           0,
           0,
           0,
           0,
           0,
           0,
           0,
           0,
           0,
           0,
           0,
           0,
           0,
           0,
           0,
           0,
           0,
           0,
           0,
           0,
           0,
           0,
           0,
           0,
           0,
           0,
           0,
           0,
           0,
           0,
           0,
           0,
           0,
           0,
           0,
           0,
           0,
           0,
           0,
           0,
           0,
           0,
           0,
           0,
           0,
           0,
           0,
           0,
           0,
           0,
           0,
           0,
           0,
           0,
           0,
           0,
           0,
           0,
           0,
           0,
           0
          ],
          "coloraxis": "coloraxis",
          "symbol": "circle"
         },
         "mode": "markers",
         "name": "0",
         "scene": "scene",
         "showlegend": true,
         "type": "scatter3d",
         "x": [
          -0.33745206818680973,
          -0.3207823956887623,
          2.3131231977956825,
          -0.39047258365862714,
          -0.28124227035415045,
          -0.3144893848135973,
          -0.2678194005098259,
          -0.24685487045546625,
          -0.33711149711742433,
          -0.3296856539658367,
          -0.33594794428914654,
          -0.3374480027423299,
          -0.33743227681914717,
          0.6239153534812698,
          -0.3650751586811985,
          -0.3446941879876191,
          -0.27924763136566383,
          -0.3355100118436355,
          -0.3236169180817474,
          -0.39036723108497895,
          -0.42165043363272425,
          -0.030582364824475888,
          -0.2777800271344658,
          -0.29053307105938864,
          -0.2718460611007144,
          -0.27246855767607,
          -0.34670462842198735,
          -0.33175191683287525,
          -0.335853125006234,
          0.020854978531118992,
          -0.34351271822130797,
          -0.3907389630057174,
          -0.25254944884311936,
          -0.30541510924575227,
          -0.39065056717295443,
          -0.31267355247244655,
          -0.33612890704507264,
          -0.30142702551774425,
          -0.39061502438858603,
          -0.2530173503468462,
          -0.2722493197929149,
          -0.32855160758335017,
          -0.09815372793719056,
          -0.3417309901682706,
          -0.3137007597072291,
          -0.36449645187534835,
          -0.2905133127143429,
          -0.27254398569590016,
          -0.28516514385057384,
          -0.3374341284351624,
          -0.2724961479737623,
          -0.34395777907628156,
          -0.33716839799776677,
          -0.3907204833636753,
          -0.430887803404158,
          -0.44103736783917064,
          -0.35485288173801494,
          -0.28891416496761757,
          -0.2720175856162094,
          -0.30704319648955114,
          -0.24929727142263863,
          -0.06562290239336065,
          -0.3144602853215939,
          -0.0680537555893892,
          -0.3145240030065461,
          -0.23559803131506568,
          -0.33704423276274,
          -0.28878321480521996,
          -0.38788858383278635,
          0.8631068998187574,
          -0.31432398937205186,
          -0.10717110018717668,
          -0.3443773261253977,
          -0.3885625233211943,
          -0.3130670515191718,
          -0.3107343713132798,
          -0.357012807744319,
          -0.3894551663907419,
          -0.35744016924378924,
          -0.3133307900361162,
          -0.337082349317959,
          -0.33552066110994216,
          -0.22456786419807723,
          -0.33144313851629076,
          -0.3901941731973776,
          -0.33628623262542334,
          -0.31450495190317335,
          -0.39070967158875675,
          -0.3372715861599829,
          -0.3374283588682905,
          -0.28877266807394486,
          -0.2511206525930225,
          0.03048406728635073,
          -0.34333395266514516,
          -0.3370423374830746,
          -0.37686647953061847,
          -0.34266226315571396,
          -0.2259990213264866,
          -0.39946713243764304,
          -0.34241122973637617,
          -0.2841803850883123,
          3.7101557090682333,
          -0.3903020411017977,
          0.8601931097377675,
          -0.3906645610258388,
          -0.34379790375898006,
          -0.33696988010302126,
          -0.3371242793897525,
          -0.3443773261253977,
          -0.39023930095765463,
          -0.3143675608629527,
          -0.33697061324027566,
          -0.3754010697153404,
          -0.33711806923328186,
          -0.3327044080438235,
          -0.3906935689195128,
          -0.336328471649378,
          0.35301756600466294,
          -0.3373174291344183,
          -0.337388027587704,
          -0.3507030466705862,
          -0.3506089707989415,
          -0.33361332265421945,
          -0.3144813547027746,
          -0.39060348123016153,
          -0.33716574566023216,
          -0.3372927584954308,
          -0.2904198099763565,
          -0.28550991875058807,
          -0.22576677479136817,
          -0.3181379901174098,
          -0.2901608097121309,
          -0.38986893757137875,
          -0.42316502465321826,
          -0.38860673094395737,
          -0.3426231195604733,
          -0.3897667756186961,
          -0.337020603196918,
          -0.38570610715502707,
          -0.337236018436827,
          -0.33723521213691404,
          -0.3303542945791216,
          0.265048994448527,
          -0.3902454421862975,
          -0.2730549780848868,
          -0.3444116417302506,
          -0.3364463886690458,
          0.8855519880838921,
          -0.26650931068236616,
          -0.3562179927554219,
          0.5823520537628979,
          -0.3585491219497392,
          -0.357050719157491,
          -0.42120380651316686,
          -0.27218110770370485,
          0.12768199724488824,
          -0.2722519065742111,
          -0.3344172966839874,
          -0.4207084632896291,
          -0.39051793536780205,
          -0.2904940255594553,
          4.444670643131828,
          -0.34427787183473935,
          -0.3368710610981942,
          -0.3373709498667026,
          -0.3393312518311328,
          0.6739503406767707,
          -0.3904587454799411,
          -0.34170177997673107,
          -0.3373265509628561,
          -0.30611461484178626,
          0.4321313267378541,
          -0.3128269049499262,
          -0.34330959040941705,
          -0.38763416306058524,
          -0.3372768696902734,
          -0.39575076837277684,
          -0.3411683345964943,
          -0.3371472056988972,
          -0.09422794846592199,
          -0.389250905876717,
          3.715013754591803,
          0.20118509188884112,
          -0.26892132664493085,
          -0.3346064129774523,
          -0.31170606088186803,
          -0.3505889005382388,
          0.07716148940805378,
          -0.33628541408148804,
          -0.3898322633002402,
          -0.34975330658715675,
          -0.32384584641184727,
          -0.33739309147344326,
          -0.34392969614750296,
          -0.35772221124480913,
          -0.27526722804977277,
          -0.283233003150225,
          -0.3329364144542083,
          -0.2175591691601984,
          -0.3764002150559199,
          -0.390535196818972,
          -0.324674310220861,
          -0.28965367928829777,
          -0.3149264988553012,
          -0.35814791889556596,
          -0.33742045827150574,
          -0.3374021619104838,
          -0.28403271794275897,
          -0.3332222158055002,
          -0.343872156602489,
          -0.337118555494658,
          3.9101660548618615,
          -0.39441818227520387,
          -0.34406090828695546,
          -0.31169117511994926,
          -0.2839667189717747,
          -0.28894064552658,
          -0.2901880988976475,
          -0.1404484644159688,
          -0.2904402826426438,
          -0.34952163348533444,
          -0.33659237318060475,
          -0.20203425219898452,
          2.23030041058859,
          -0.34629519380258417,
          -0.26663704239385844,
          1.0133646101007991,
          -0.35763393902173773,
          -0.3507024853396728,
          -0.3974355907297146,
          -0.17112556194391745,
          -0.3526493797602223,
          -0.34942146993905776,
          -0.3302943582666552,
          -0.3435069269039967,
          -0.390008303830312,
          -0.2876846056329571,
          -0.343160358349306,
          -0.3502332861243379,
          -0.34336826444943563,
          -0.19684693183749538,
          -0.3503457042406909,
          -0.2780608967811919,
          0.4837273000250244,
          -0.1337856468920365,
          -0.39672992032565585,
          -0.33712252671929754,
          -0.3971862308979293,
          -0.3508195119438847,
          0.5697689801174075,
          -0.34398403548839934,
          -0.33660524107997375,
          -0.31912759827303805,
          -0.30422303586343713,
          -0.3875720134182683,
          -0.39023563491684965,
          3.7272608392004845,
          0.09798994888757324,
          -0.38777414293844975,
          -0.33599050383820683,
          -0.336815807947773,
          -0.26785204933557216,
          -0.3373343524682889,
          -0.3818598575002077,
          -0.2510026846521957,
          -0.09404696189979675,
          -0.3776065064111243,
          -0.33661234910966265,
          -0.32967367968742056,
          -0.386802760024429,
          -0.335050893241262,
          -0.3446530778802821,
          -0.3604425022248151,
          -0.3130038078678143,
          3.7105476860144146,
          -0.09763913414952975,
          -0.3322444532780876,
          -0.3463303416715553,
          -0.27265123341715436,
          3.7204202796901638,
          3.7216649831273783,
          -0.2487405793884293,
          -0.34458891492408716,
          -0.3319394528103656,
          2.465506265803153,
          -0.33549665974275655,
          -0.29083691272657475
         ],
         "y": [
          1.0192039363698289,
          1.01966686041914,
          1.8164727087536277,
          1.3159740810911058,
          1.2629772414222875,
          0.864929730838193,
          0.575065049046156,
          1.8850582859371683,
          1.0192093098043828,
          1.0195912130016398,
          1.019278940381002,
          1.019203792960524,
          1.0192042309784544,
          0.8711836725305254,
          1.057142087265123,
          1.4475200984634033,
          0.13269183377621566,
          1.0192176987554904,
          1.0271246237229084,
          1.3159793345562953,
          2.062464203927087,
          0.7423076824744312,
          0.8651006146220992,
          0.7293338927852959,
          1.9050730551907586,
          1.9050420140497561,
          0.5784151738863745,
          1.0191973998402484,
          1.0192158204434367,
          1.037071118323581,
          1.0261325084857489,
          1.3159760284614817,
          -0.008603272021347827,
          1.761079599173504,
          1.3159735137805557,
          1.0193318060195036,
          1.0192006837611227,
          0.10879859045285935,
          1.3159784016179146,
          -0.008557371381843705,
          1.90505294646981,
          1.0189554347556038,
          2.1123906265885415,
          1.3177266589935872,
          0.8649372089787675,
          1.0571739772017998,
          0.7293460799149996,
          1.9050299448519634,
          0.7292666053035629,
          1.0192048309746877,
          1.9050337149630292,
          1.0260964687143952,
          1.0192042352099413,
          1.3159769506515286,
          2.2399017175063904,
          1.7477135753783961,
          1.134129633819445,
          0.7293565895041261,
          1.9050298856192946,
          0.8646239423100239,
          1.885160602234857,
          1.1772549628978797,
          0.8649311819006892,
          1.3136855968820054,
          0.8649359663557881,
          1.5927454330984565,
          1.019195195560739,
          0.7292793112681064,
          1.3158523109181743,
          0.7183315166757946,
          0.8649255164687929,
          0.8609339972414565,
          1.447522052395845,
          1.3160326339319528,
          0.8648616887270519,
          0.864768735656349,
          1.5866287076185464,
          1.3159438127857106,
          1.2439147595085527,
          1.0190221012575489,
          1.019191679425312,
          1.0192310142859546,
          1.6150936595231835,
          1.0262795052846667,
          1.3159685789980151,
          1.0191997619138382,
          0.8649296469046419,
          1.315975412802436,
          1.0191983973462304,
          1.019205118677377,
          0.7294328781366398,
          0.23357448665173644,
          1.980736941359986,
          1.4475366950811792,
          1.0192243678503417,
          1.3156292961681233,
          1.4475937284816354,
          1.6151590287849047,
          2.0427001977424712,
          1.4474255486978678,
          1.9736959692356542,
          1.4216295055487185,
          1.3159770466665426,
          1.9609343447234322,
          1.3159770714838557,
          1.4475301757740955,
          1.0192012986530778,
          1.0191912039907702,
          1.447522052395845,
          1.3159594053958767,
          0.8649371903140556,
          1.0192050975924798,
          0.7078619469924091,
          1.0192012062571796,
          1.0189902110464624,
          1.3159748311148618,
          1.0191602699235285,
          0.7389251174502092,
          1.01920164998543,
          1.0192048342053968,
          1.4825834269678044,
          0.49322532298909916,
          1.0190491935461479,
          0.86493082359228,
          1.3159763089914687,
          1.0192043674702407,
          1.0191966954031766,
          0.7293126644357065,
          0.27138335797632335,
          1.6151622848318943,
          1.0194747156334492,
          0.7293398232947845,
          1.3159501806497307,
          2.103438391750408,
          1.316006198010358,
          1.4475470165650728,
          1.3159552750128227,
          1.4476258148324348,
          1.3158808312820585,
          1.019200024093372,
          1.0191949494637003,
          1.018865542757102,
          0.5497208767560922,
          1.3159729457221685,
          0.7288319933564895,
          1.4475134179479034,
          1.0191813907212843,
          1.879459174682167,
          0.5750005075967214,
          1.243929664205892,
          2.1247018786731817,
          1.5866074846971085,
          1.5866060473015013,
          2.0237037865604672,
          1.9050355780607557,
          1.00778170229092,
          1.9050397337320821,
          1.4586772433939816,
          2.023728487128238,
          1.3159804686700725,
          0.729334991092128,
          1.742261575390887,
          1.4474982109149064,
          1.0191995024276417,
          1.01920507363141,
          1.2625101067856275,
          1.565678410158255,
          1.3159713094991181,
          0.578390322565991,
          1.0191993027570803,
          0.6360712927296579,
          1.0402714415573462,
          0.8649586297371792,
          1.5865435420428324,
          2.050728998741018,
          1.0191981338800284,
          1.7724075002122328,
          1.4777945439148557,
          1.0192089001988236,
          0.5774989853561564,
          1.3159505367103235,
          1.421612131675073,
          1.5937560254529128,
          1.9050735098133253,
          1.01920044769048,
          1.2967325909895409,
          1.482585657288214,
          1.0052624688214247,
          1.019158263044679,
          1.315986625838098,
          1.4825580918389023,
          1.0192593229872637,
          1.0192041079933885,
          1.0260971767572908,
          1.2439065801148173,
          -0.09086316061729073,
          0.3171174560003774,
          1.0192684918855353,
          1.6150277551705932,
          0.9065312774495659,
          1.315968881866412,
          1.6024192563434398,
          0.7293030973330714,
          1.4042965386917088,
          1.5865997977883055,
          1.0192034356607533,
          1.0192029633628505,
          0.7293230743568413,
          1.5193189942258547,
          1.447500164646394,
          1.0191997973532727,
          1.4015394958035068,
          1.77247395036568,
          1.4474962910625848,
          0.7166443049285182,
          1.0183249425642118,
          1.4205922614672255,
          0.7293442963537062,
          1.0219658849633892,
          0.7293192591638725,
          1.9755650731695187,
          1.0191886500119152,
          1.595274812659886,
          0.05601912923205669,
          1.482363598677442,
          0.5750632477559148,
          1.378610574701195,
          1.0065258325494197,
          1.482579300990254,
          1.7724583850390478,
          0.723612918677969,
          0.9259295630782155,
          1.4825884856216522,
          1.0188685315149526,
          1.0260947192272505,
          1.315977847478292,
          0.7293071296734033,
          1.4474511948368336,
          0.7739794161236699,
          1.0260704789436146,
          1.0137533845206697,
          1.0854851647309962,
          1.3125520997775741,
          1.324858687768474,
          1.0365906665719316,
          1.7724597541540756,
          1.0192058302788753,
          1.7724612065319232,
          1.4825787478564159,
          1.0126568807306644,
          1.0260953671221054,
          1.019188008346893,
          1.6023912218806,
          1.9744315054407713,
          1.3158431730677294,
          1.3159803580482141,
          1.4218766753681207,
          1.0166860132177735,
          1.316123871569975,
          1.0191383525041697,
          1.019198100836658,
          0.5750575362052474,
          1.0192098063592583,
          1.3160726266791625,
          1.0162453383096302,
          0.8758059048216703,
          1.315938558365107,
          1.019235424540263,
          1.0193148788636748,
          1.3160283058781288,
          1.0192128998379943,
          1.447515917489025,
          0.8360486308005414,
          0.8649463467333957,
          1.4216248767093629,
          0.7320344608372343,
          1.0192559186066776,
          0.5783947918843267,
          1.9050328217420582,
          1.4222278951352088,
          1.4222899629704877,
          0.5753327511623031,
          1.447519370305997,
          1.5929790356344233,
          0.6186038169548932,
          1.0191283619118179,
          0.7293292510907182
         ],
         "z": [
          -0.5104279176045624,
          -0.5107347315761094,
          -0.6091656057944065,
          -0.4554467893410854,
          0.024099832903670442,
          -0.39043268926805336,
          -0.10638831525010846,
          -0.6250694391736914,
          -0.5104341002859044,
          -0.5105744633173949,
          -0.510456299159594,
          -0.5104279870528385,
          -0.5104282765239396,
          0.0763812275250038,
          -0.41707549285141154,
          -0.1170137563935424,
          -0.36673546415274666,
          -0.5104628192508259,
          -0.17178348376837782,
          -0.45544877725565175,
          -0.5566663780939015,
          -0.23129315569332065,
          -0.3910905381649492,
          -0.22638786917823853,
          -0.5649534245081936,
          -0.5649416785207412,
          -0.25844098427331025,
          -0.5105293730313835,
          -0.510456664603469,
          -0.5171888705830396,
          -0.17140806673309272,
          -0.4554420825818416,
          0.0951023671268251,
          -0.20097001749415236,
          -0.4554436052743,
          -0.510872223033233,
          -0.5104514317726294,
          -0.31104555346632484,
          -0.45544434131151296,
          0.09510974326336581,
          -0.5649458153554263,
          -0.5105813341022164,
          0.7739584184005337,
          -0.08070456392992374,
          -0.39044690168631335,
          -0.41708647619410266,
          -0.22638847706008514,
          -0.5649400809247563,
          -0.2264821286549633,
          -0.5104282561132188,
          -0.5649410126378224,
          -0.17139937825427443,
          -0.5104329796689918,
          -0.4554424312916909,
          -0.36018078616406124,
          -0.6699925925864441,
          -0.21478191915627767,
          -0.22641719886293477,
          -0.5649494615987858,
          -0.39055898447862547,
          -0.6250280557704616,
          -0.46029661462373533,
          -0.3904332383510226,
          -0.46114517048380615,
          -0.3904322031205873,
          -0.6027136681683442,
          -0.5104350029528818,
          -0.2264179111640224,
          -0.45549028821329596,
          -0.24671807731982903,
          -0.390435548642176,
          0.08962630408654401,
          -0.11701944475634832,
          -0.4554820606060789,
          -0.3904566114263477,
          -0.3904962357763907,
          -0.6004213658362856,
          -0.45546428740727884,
          -0.14600853432652555,
          -0.5108540104254082,
          -0.5104342498275009,
          -0.5104629088624721,
          -0.2809174833941915,
          -0.1716262648525746,
          -0.4554516359365173,
          -0.5104486084482666,
          -0.3904324100578679,
          -0.4554425917176482,
          -0.5104310180673358,
          -0.5104283649800988,
          -0.22642132156223138,
          -0.3032812979535844,
          -0.7102286902798836,
          -0.11703834784030433,
          -0.510435648879363,
          -0.45568205312939647,
          -0.11705151600098461,
          -0.2808933478838706,
          -0.6337250284238054,
          -0.11705246105490962,
          -0.7044727457013592,
          0.6038481746491324,
          -0.45544989111413,
          -0.5863017041390428,
          -0.4554434305191851,
          -0.11702994213813002,
          -0.5104364561910144,
          -0.5104334925402725,
          -0.11701944475634832,
          -0.45545063913641254,
          -0.3904350170391001,
          -0.5104365228408867,
          -0.08251644513026574,
          -0.5104338131087569,
          -0.5105080493614134,
          -0.45544286650605437,
          -0.5104470269366075,
          -0.2380589966113064,
          -0.5104302692706603,
          -0.5104290778266366,
          -0.14514322853384565,
          -0.2830918394139737,
          -0.5104930876497763,
          -0.39043285531721683,
          -0.4554445031313916,
          -0.5104330297163726,
          -0.5104306050039529,
          -0.2263894423537274,
          -0.15308039210565122,
          -0.2808975554890444,
          -0.5107778303159015,
          -0.22639462835826205,
          -0.45545704647367885,
          -0.6561485561920574,
          -0.4554807179752515,
          -0.11705123345254506,
          -0.45545897418390585,
          -0.11715273940528621,
          -0.45552978449956794,
          -0.5104316861187591,
          -0.5104315940039401,
          -0.5105473189129425,
          -0.11535369699397467,
          -0.4554508138109424,
          -0.22668884573323847,
          -0.11701865197253439,
          -0.510445368522495,
          -0.6451345954248489,
          -0.10641031037430447,
          -0.14603062967694697,
          -0.7622573373287704,
          -0.6003935390952223,
          -0.6004202146482333,
          -0.7236560898602896,
          -0.564946666628716,
          -0.5184782207984034,
          -0.5649454919974999,
          -0.03854109282009555,
          -0.7236654365708076,
          -0.45544611508327426,
          -0.22638858812462107,
          -4.089971278787122,
          -0.11702071702271696,
          -0.5104381797294283,
          -0.5104293872233181,
          0.02514494278759748,
          -0.1087730919775211,
          -0.4554469778173059,
          -0.2585296275032482,
          -0.51043005744033,
          -0.07604933958707681,
          -0.5245861168392697,
          -0.39046292570453855,
          -0.6006638082693675,
          -0.4843762905343266,
          -0.5104309183715573,
          -0.42921566366984343,
          -0.22208337757871702,
          -0.5104334552643247,
          -0.10953327226227721,
          -0.45546806899300174,
          0.6037619553052386,
          -0.6105195672531197,
          -0.565005560969737,
          -0.5104785619077689,
          -0.3163520355022997,
          -0.14514530973688758,
          -0.5175249412549745,
          -0.5104477522304371,
          -0.45545846487225583,
          -0.1451596239210316,
          -0.5106715806342528,
          -0.5104289723353426,
          -0.1713998936278323,
          -0.14600333591649498,
          0.0995944335468359,
          -0.3760694389541176,
          -0.5105097537672395,
          -0.28104101495128353,
          -0.44353856148305537,
          -0.4554455643001969,
          -0.48333548943305377,
          -0.22640289618370155,
          -0.06194365673304997,
          -0.6004005283511155,
          -0.5104284704745702,
          -0.5104287866560971,
          -0.22650349658055624,
          -0.11699895727874401,
          -0.11702798899607363,
          -0.5104337748779777,
          0.47735540775570723,
          -0.42924080845007356,
          -0.11702454363208958,
          -0.012439722740749356,
          -0.5113627309530719,
          -0.24267301660125232,
          -0.22639423585095036,
          -0.5139970273953998,
          -0.22638921585660784,
          -0.7033474035114184,
          -0.5104429189994681,
          -0.340993808365284,
          -0.3240325572538694,
          -0.14521717591389235,
          -0.10640935036997895,
          0.2664812478303125,
          -0.29649741134421603,
          -0.1451431519593822,
          -0.4291867031985724,
          -0.2283959957502418,
          -0.36009598905459506,
          -0.14516617595417888,
          -0.5105484498608099,
          -0.17140737698590808,
          -0.45545514313533514,
          -0.2264380751798528,
          -0.11703964764960162,
          -0.39102266752919257,
          -0.17140933968264385,
          -0.5128195194937676,
          0.2804617592117783,
          -0.19929005523428325,
          -0.2766668730428272,
          -0.17536544038909757,
          -0.4291993089418173,
          -0.5104338306937647,
          -0.4291912066917784,
          -0.1451410546121547,
          -0.52645974339204,
          -0.17139888717615032,
          -0.5104426761930168,
          -0.48343375903220975,
          -0.7041309641786668,
          -0.4554957386332453,
          -0.4554511441430559,
          0.6035381269656458,
          -0.5181358725550389,
          -0.4554980262604593,
          -0.5104525905531014,
          -0.5104391350838156,
          -0.10638757570859209,
          -0.5104301388018975,
          -0.4556023599995355,
          -0.5119066038146268,
          -0.39458981195050596,
          -0.45567535330270037,
          -0.5104435444829936,
          -0.5105688781748627,
          -0.455513333674747,
          -0.5104709013244624,
          -0.11701440135727385,
          -0.13599764512827942,
          -0.39045951505649545,
          0.603841285658096,
          -0.22988244524751264,
          -0.5105218226085467,
          -0.25844722741354037,
          -0.5649382298396362,
          0.6036526748594676,
          0.6036291883512127,
          -0.10673397045632395,
          -0.11701561737346738,
          -0.12931473516552003,
          0.23031655553526467,
          -0.5104611825904436,
          -0.22638235647197505
         ]
        },
        {
         "customdata": [
          [
           "SHA-256"
          ],
          [
           "Ethash"
          ],
          [
           "Scrypt"
          ],
          [
           "CryptoNight-V7"
          ],
          [
           "Ethash"
          ],
          [
           "Equihash"
          ],
          [
           "Multiple"
          ],
          [
           "Scrypt"
          ],
          [
           "X11"
          ],
          [
           "Scrypt"
          ],
          [
           "Multiple"
          ],
          [
           "Scrypt"
          ],
          [
           "SHA-256"
          ],
          [
           "Scrypt"
          ],
          [
           "Scrypt"
          ],
          [
           "Quark"
          ],
          [
           "Groestl"
          ],
          [
           "Scrypt"
          ],
          [
           "Scrypt"
          ],
          [
           "Scrypt"
          ],
          [
           "X11"
          ],
          [
           "Multiple"
          ],
          [
           "SHA-256"
          ],
          [
           "Scrypt"
          ],
          [
           "Scrypt"
          ],
          [
           "Scrypt"
          ],
          [
           "Scrypt"
          ],
          [
           "Scrypt"
          ],
          [
           "NeoScrypt"
          ],
          [
           "Scrypt"
          ],
          [
           "Scrypt"
          ],
          [
           "Scrypt"
          ],
          [
           "Scrypt"
          ],
          [
           "SHA-256"
          ],
          [
           "Scrypt"
          ],
          [
           "Scrypt"
          ],
          [
           "Scrypt"
          ],
          [
           "Scrypt"
          ],
          [
           "HybridScryptHash256"
          ],
          [
           "Scrypt"
          ],
          [
           "Scrypt"
          ],
          [
           "SHA-256"
          ],
          [
           "Scrypt"
          ],
          [
           "Scrypt"
          ],
          [
           "Scrypt"
          ],
          [
           "Scrypt"
          ],
          [
           "SHA-256"
          ],
          [
           "SHA-256"
          ],
          [
           "SHA-256"
          ],
          [
           "SHA-256"
          ],
          [
           "SHA-256"
          ],
          [
           "X11"
          ],
          [
           "Scrypt"
          ],
          [
           "Lyra2REv2"
          ],
          [
           "Scrypt"
          ],
          [
           "SHA-256"
          ],
          [
           "CryptoNight"
          ],
          [
           "CryptoNight"
          ],
          [
           "Scrypt"
          ],
          [
           "Scrypt"
          ],
          [
           "Scrypt"
          ],
          [
           "Scrypt"
          ],
          [
           "Scrypt"
          ],
          [
           "Scrypt"
          ],
          [
           "Stanford Folding"
          ],
          [
           "Multiple"
          ],
          [
           "QuBit"
          ],
          [
           "Scrypt"
          ],
          [
           "Scrypt"
          ],
          [
           "M7 POW"
          ],
          [
           "Scrypt"
          ],
          [
           "SHA-256"
          ],
          [
           "Scrypt"
          ],
          [
           "X11"
          ],
          [
           "Lyra2RE"
          ],
          [
           "SHA-256"
          ],
          [
           "X11"
          ],
          [
           "Scrypt"
          ],
          [
           "Scrypt"
          ],
          [
           "Ethash"
          ],
          [
           "Blake2b"
          ],
          [
           "X11"
          ],
          [
           "SHA-256"
          ],
          [
           "Scrypt"
          ],
          [
           "1GB AES Pattern Search"
          ],
          [
           "Scrypt"
          ],
          [
           "SHA-256"
          ],
          [
           "X11"
          ],
          [
           "Dagger"
          ],
          [
           "Scrypt"
          ],
          [
           "X11GOST"
          ],
          [
           "Scrypt"
          ],
          [
           "X11"
          ],
          [
           "Scrypt"
          ],
          [
           "X11"
          ],
          [
           "Equihash"
          ],
          [
           "CryptoNight"
          ],
          [
           "SHA-256"
          ],
          [
           "Multiple"
          ],
          [
           "Scrypt"
          ],
          [
           "SHA-256"
          ],
          [
           "Scrypt"
          ],
          [
           "Lyra2Z"
          ],
          [
           "Ethash"
          ],
          [
           "Equihash"
          ],
          [
           "Scrypt"
          ],
          [
           "X11"
          ],
          [
           "X11"
          ],
          [
           "CryptoNight"
          ],
          [
           "Scrypt"
          ],
          [
           "CryptoNight"
          ],
          [
           "Lyra2RE"
          ],
          [
           "X11"
          ],
          [
           "CryptoNight-V7"
          ],
          [
           "Scrypt"
          ],
          [
           "X11"
          ],
          [
           "Equihash"
          ],
          [
           "Scrypt"
          ],
          [
           "Lyra2RE"
          ],
          [
           "Dagger-Hashimoto"
          ],
          [
           "Scrypt"
          ],
          [
           "NIST5"
          ],
          [
           "Scrypt"
          ],
          [
           "SHA-256"
          ],
          [
           "Scrypt"
          ],
          [
           "CryptoNight-V7"
          ],
          [
           "Argon2d"
          ],
          [
           "Blake2b"
          ],
          [
           "Cloverhash"
          ],
          [
           "CryptoNight"
          ],
          [
           "X11"
          ],
          [
           "Scrypt"
          ],
          [
           "Scrypt"
          ],
          [
           "X11"
          ],
          [
           "X11"
          ],
          [
           "CryptoNight"
          ],
          [
           "Time Travel"
          ],
          [
           "Scrypt"
          ],
          [
           "Keccak"
          ],
          [
           "X11"
          ],
          [
           "SHA-256"
          ],
          [
           "Scrypt"
          ],
          [
           "Scrypt"
          ],
          [
           "Scrypt"
          ],
          [
           "Scrypt"
          ],
          [
           "Scrypt"
          ],
          [
           "Scrypt"
          ],
          [
           "CryptoNight"
          ],
          [
           "Equihash"
          ],
          [
           "X11"
          ],
          [
           "NeoScrypt"
          ],
          [
           "Equihash"
          ],
          [
           "Dagger"
          ],
          [
           "Scrypt"
          ],
          [
           "X11"
          ],
          [
           "NeoScrypt"
          ],
          [
           "Ethash"
          ],
          [
           "NeoScrypt"
          ],
          [
           "Multiple"
          ],
          [
           "CryptoNight"
          ],
          [
           "CryptoNight"
          ],
          [
           "Ethash"
          ],
          [
           "X11"
          ],
          [
           "CryptoNight-V7"
          ],
          [
           "Scrypt"
          ],
          [
           "BLAKE256"
          ],
          [
           "X11"
          ],
          [
           "NeoScrypt"
          ],
          [
           "NeoScrypt"
          ],
          [
           "Scrypt"
          ],
          [
           "X11"
          ],
          [
           "SHA-256"
          ],
          [
           "C11"
          ],
          [
           "CryptoNight"
          ],
          [
           "SkunkHash"
          ],
          [
           "CryptoNight"
          ],
          [
           "Scrypt"
          ],
          [
           "Dagger"
          ],
          [
           "Lyra2REv2"
          ],
          [
           "Scrypt"
          ],
          [
           "Scrypt"
          ],
          [
           "X11"
          ],
          [
           "Ethash"
          ],
          [
           "CryptoNight"
          ],
          [
           "Scrypt"
          ],
          [
           "IMesh"
          ],
          [
           "Equihash"
          ],
          [
           "Lyra2Z"
          ],
          [
           "X11"
          ],
          [
           "CryptoNight"
          ],
          [
           "NIST5"
          ],
          [
           "Lyra2RE"
          ],
          [
           "Tribus"
          ],
          [
           "Lyra2Z"
          ],
          [
           "CryptoNight"
          ],
          [
           "CryptoNight Heavy"
          ],
          [
           "CryptoNight"
          ],
          [
           "Jump Consistent Hash"
          ],
          [
           "CryptoNight"
          ],
          [
           "X16R"
          ],
          [
           "HMQ1725"
          ],
          [
           "X11"
          ],
          [
           "Scrypt"
          ],
          [
           "CryptoNight-V7"
          ],
          [
           "Cryptonight-GPU"
          ],
          [
           "XEVAN"
          ],
          [
           "CryptoNight Heavy"
          ],
          [
           "SHA-256"
          ],
          [
           "X11"
          ],
          [
           "X16R"
          ],
          [
           "Equihash"
          ],
          [
           "Lyra2Z"
          ],
          [
           "SHA-256"
          ],
          [
           "CryptoNight"
          ],
          [
           "Blake"
          ],
          [
           "Blake"
          ],
          [
           "Equihash"
          ],
          [
           "Exosis"
          ],
          [
           "Scrypt"
          ],
          [
           "Equihash"
          ],
          [
           "Equihash"
          ],
          [
           "QuBit"
          ],
          [
           "SHA-256"
          ],
          [
           "X13"
          ],
          [
           "SHA-256"
          ],
          [
           "Scrypt"
          ],
          [
           "NeoScrypt"
          ],
          [
           "Blake"
          ],
          [
           "Scrypt"
          ],
          [
           "SHA-256"
          ],
          [
           "Scrypt"
          ],
          [
           "Groestl"
          ],
          [
           "Scrypt"
          ],
          [
           "Scrypt"
          ],
          [
           "Multiple"
          ],
          [
           "Equihash+Scrypt"
          ],
          [
           "Ethash"
          ],
          [
           "CryptoNight"
          ],
          [
           "Equihash"
          ]
         ],
         "hovertemplate": "<b>%{hovertext}</b><br><br>class=%{marker.color}<br>PC 1=%{x}<br>PC 2=%{y}<br>PC 3=%{z}<br>Algorithm=%{customdata[0]}<extra></extra>",
         "hovertext": [
          "Bitcoin",
          "Ethereum",
          "Litecoin",
          "Monero",
          "Ethereum Classic",
          "ZCash",
          "DigiByte",
          "ProsperCoin",
          "Spreadcoin",
          "Argentum",
          "MyriadCoin",
          "MoonCoin",
          "ZetaCoin",
          "SexCoin",
          "Quatloo",
          "QuarkCoin",
          "Riecoin",
          "Digitalcoin ",
          "Catcoin",
          "CannaCoin",
          "CryptCoin",
          "Verge",
          "DevCoin",
          "EarthCoin",
          "E-Gulden",
          "Einsteinium",
          "Emerald",
          "Franko",
          "FeatherCoin",
          "GrandCoin",
          "GlobalCoin",
          "GoldCoin",
          "Infinite Coin",
          "IXcoin",
          "KrugerCoin",
          "LuckyCoin",
          "Litebar ",
          "MegaCoin",
          "MediterraneanCoin",
          "MinCoin",
          "NobleCoin",
          "Namecoin",
          "NyanCoin",
          "RonPaulCoin",
          "StableCoin",
          "SmartCoin",
          "SysCoin",
          "TigerCoin",
          "TerraCoin",
          "UnbreakableCoin",
          "Unobtanium",
          "UroCoin",
          "ViaCoin",
          "Vertcoin",
          "WorldCoin",
          "JouleCoin",
          "ByteCoin",
          "DigitalNote ",
          "MonaCoin",
          "Gulden",
          "PesetaCoin",
          "Wild Beast Coin",
          "Flo",
          "ArtByte",
          "Folding Coin",
          "Unitus",
          "CypherPunkCoin",
          "OmniCron",
          "GreenCoin",
          "Cryptonite",
          "MasterCoin",
          "SoonCoin",
          "1Credit",
          "MarsCoin ",
          "Crypto",
          "Anarchists Prime",
          "BowsCoin",
          "Song Coin",
          "BitZeny",
          "Expanse",
          "Siacoin",
          "MindCoin",
          "I0coin",
          "Revolution VR",
          "HOdlcoin",
          "Gamecredits",
          "CarpeDiemCoin",
          "Adzcoin",
          "SoilCoin",
          "YoCoin",
          "SibCoin",
          "Francs",
          "BolivarCoin",
          "Omni",
          "PizzaCoin",
          "Komodo",
          "Karbo",
          "ZayedCoin",
          "Circuits of Value",
          "DopeCoin",
          "DollarCoin",
          "Shilling",
          "ZCoin",
          "Elementrem",
          "ZClassic",
          "KiloCoin",
          "ArtexCoin",
          "Kurrent",
          "Cannabis Industry Coin",
          "OsmiumCoin",
          "Bikercoins",
          "HexxCoin",
          "PacCoin",
          "Citadel",
          "BeaverCoin",
          "VaultCoin",
          "Zero",
          "Canada eCoin",
          "Zoin",
          "DubaiCoin",
          "EB3coin",
          "Coinonat",
          "BenjiRolls",
          "ILCoin",
          "EquiTrader",
          "Quantum Resistant Ledger",
          "Dynamic",
          "Nano",
          "ChanCoin",
          "Dinastycoin",
          "DigitalPrice",
          "Unify",
          "SocialCoin",
          "ArcticCoin",
          "DAS",
          "LeviarCoin",
          "Bitcore",
          "gCn Coin",
          "SmartCash",
          "Onix",
          "Bitcoin Cash",
          "Sojourn Coin",
          "NewYorkCoin",
          "FrazCoin",
          "Kronecoin",
          "AdCoin",
          "Linx",
          "Sumokoin",
          "BitcoinZ",
          "Elements",
          "VIVO Coin",
          "Bitcoin Gold",
          "Pirl",
          "eBoost",
          "Pura",
          "Innova",
          "Ellaism",
          "GoByte",
          "SHIELD",
          "UltraNote",
          "BitCoal",
          "DaxxCoin",
          "AC3",
          "Lethean",
          "PopularCoin",
          "Photon",
          "Sucre",
          "SparksPay",
          "GunCoin",
          "IrishCoin",
          "Pioneer Coin",
          "UnitedBitcoin",
          "Interzone",
          "TurtleCoin",
          "MUNcoin",
          "Niobio Cash",
          "ShareChain",
          "Travelflex",
          "KREDS",
          "BitFlip",
          "LottoCoin",
          "Crypto Improvement Fund",
          "Callisto Network",
          "BitTube",
          "Poseidon",
          "Aidos Kuneen",
          "Bitrolium",
          "Alpenschillling",
          "FuturoCoin",
          "Monero Classic",
          "Jumpcoin",
          "Infinex",
          "KEYCO",
          "GINcoin",
          "PlatinCoin",
          "Loki",
          "Newton Coin",
          "MassGrid",
          "PluraCoin",
          "Motion",
          "PlusOneCoin",
          "Axe",
          "HexCoin",
          "Webchain",
          "Ryo",
          "Urals Coin",
          "Qwertycoin",
          "Project Pai",
          "Azart",
          "Xchange",
          "CrypticCoin",
          "Actinium",
          "Bitcoin SV",
          "FREDEnergy",
          "Universal Molecule",
          "Lithium",
          "PirateCash",
          "Exosis",
          "Block-Logic",
          "Beam",
          "Bithereum",
          "SLICE",
          "BLAST",
          "Bitcoin Rhodium",
          "GlobalToken",
          "SolarCoin",
          "UFO Coin",
          "BlakeCoin",
          "Crypto Escudo",
          "Crown Coin",
          "SmileyCoin",
          "Groestlcoin",
          "Bata",
          "Pakcoin",
          "JoinCoin",
          "Vollar",
          "Reality Clash",
          "Beldex",
          "Horizen"
         ],
         "legendgroup": "1",
         "marker": {
          "color": [
           1,
           1,
           1,
           1,
           1,
           1,
           1,
           1,
           1,
           1,
           1,
           1,
           1,
           1,
           1,
           1,
           1,
           1,
           1,
           1,
           1,
           1,
           1,
           1,
           1,
           1,
           1,
           1,
           1,
           1,
           1,
           1,
           1,
           1,
           1,
           1,
           1,
           1,
           1,
           1,
           1,
           1,
           1,
           1,
           1,
           1,
           1,
           1,
           1,
           1,
           1,
           1,
           1,
           1,
           1,
           1,
           1,
           1,
           1,
           1,
           1,
           1,
           1,
           1,
           1,
           1,
           1,
           1,
           1,
           1,
           1,
           1,
           1,
           1,
           1,
           1,
           1,
           1,
           1,
           1,
           1,
           1,
           1,
           1,
           1,
           1,
           1,
           1,
           1,
           1,
           1,
           1,
           1,
           1,
           1,
           1,
           1,
           1,
           1,
           1,
           1,
           1,
           1,
           1,
           1,
           1,
           1,
           1,
           1,
           1,
           1,
           1,
           1,
           1,
           1,
           1,
           1,
           1,
           1,
           1,
           1,
           1,
           1,
           1,
           1,
           1,
           1,
           1,
           1,
           1,
           1,
           1,
           1,
           1,
           1,
           1,
           1,
           1,
           1,
           1,
           1,
           1,
           1,
           1,
           1,
           1,
           1,
           1,
           1,
           1,
           1,
           1,
           1,
           1,
           1,
           1,
           1,
           1,
           1,
           1,
           1,
           1,
           1,
           1,
           1,
           1,
           1,
           1,
           1,
           1,
           1,
           1,
           1,
           1,
           1,
           1,
           1,
           1,
           1,
           1,
           1,
           1,
           1,
           1,
           1,
           1,
           1,
           1,
           1,
           1,
           1,
           1,
           1,
           1,
           1,
           1,
           1,
           1,
           1,
           1,
           1,
           1,
           1,
           1,
           1,
           1,
           1,
           1,
           1,
           1,
           1,
           1,
           1,
           1,
           1,
           1,
           1,
           1,
           1,
           1,
           1,
           1,
           1,
           1,
           1,
           1,
           1,
           1,
           1,
           1,
           1,
           1,
           1,
           1,
           1,
           1,
           1,
           1,
           1
          ],
          "coloraxis": "coloraxis",
          "symbol": "diamond"
         },
         "mode": "markers",
         "name": "1",
         "scene": "scene",
         "showlegend": true,
         "type": "scatter3d",
         "x": [
          -0.14674530895119434,
          -0.15304100653027672,
          -0.1685380703050798,
          -0.14806370864819507,
          -0.15148238917644138,
          -0.13670957783067217,
          0.1550381980831428,
          -0.1696848342399509,
          -0.22291306738733171,
          -0.1693012110989012,
          -0.09848040928656973,
          2.553294412266825,
          -0.14382890533807502,
          -0.16655537614496657,
          -0.16910516550244412,
          -0.22507260683059951,
          -0.19639749872763596,
          -0.16915393069491783,
          -0.169667091611235,
          -0.1697535846245892,
          -0.22300245215477588,
          0.17880154880959176,
          0.23127347025451853,
          0.07909024719928717,
          -0.1694997603586625,
          -0.16510309140716145,
          -0.16943903080065606,
          -0.16981061430088984,
          -0.17428968132404374,
          -0.14902362385683826,
          -0.16860516613739565,
          -0.16888275036498063,
          1.5798993763600424,
          -0.14670665954615972,
          -0.16617093079907605,
          -0.16952621427975567,
          -0.16988119035036509,
          -0.1691401023925097,
          -0.14965991078543855,
          -0.16976240381303154,
          -0.034610267793476736,
          -0.1467843079295529,
          -0.16342341608994956,
          -0.16974184145150914,
          -0.16783537803059603,
          -0.16922835139970102,
          -0.13393061696223693,
          -0.14624782935279126,
          -0.1465351714649361,
          -0.14651816971011647,
          -0.1471091187200259,
          -0.2231764210904144,
          -0.16945819376886187,
          -0.18441567549558432,
          -0.16656010117724274,
          -0.14631515579980198,
          3.8611500327600736,
          0.4585595936667864,
          -0.16832528255044366,
          -0.15291756890178076,
          -0.16704351044073226,
          -0.16988340146638156,
          -0.16690848037594155,
          -0.15312587893576954,
          -0.1230508151943294,
          -0.13250243906537712,
          -0.18391189330455932,
          -0.1697564176252484,
          -0.04263813004830468,
          -0.12101011895658727,
          -0.16989229720295698,
          -0.14681209901385403,
          0.48252983174215286,
          -0.2225633269681224,
          -0.15037115965831438,
          -0.14655185304066742,
          -0.22284835799160538,
          -0.16801528394342016,
          -0.1672071541975076,
          -0.15410899573708345,
          0.3676926405819247,
          -0.22288376915969216,
          -0.14670778244556965,
          -0.16584830528498948,
          -0.15673516711326216,
          -0.16845499629724595,
          0.27196792056500996,
          -0.2220441204944328,
          -0.148337868296501,
          -0.16870259201920784,
          -0.14531661509518917,
          -0.16968211744322703,
          -0.2228469998829137,
          -0.1698923557246159,
          -0.22299704428046818,
          -0.20416473340435026,
          0.30339430258051303,
          -0.1469679880223807,
          -0.11256586938523763,
          -0.16705779826208586,
          -0.1469265979928112,
          -0.1695556084692695,
          -0.15537468851391834,
          -0.15385103201364875,
          -0.13673120547158937,
          -0.09658839434281616,
          -0.2095740752178476,
          -0.22082425187098828,
          0.3033886571463052,
          -0.16987408589035188,
          0.3035194347233669,
          -0.15091183558803642,
          0.4925383618849179,
          -0.14682791890506086,
          -0.16984235788333082,
          -0.21572812942380812,
          -0.1367435839348312,
          -0.16797476789050864,
          -0.15063008437024225,
          -0.15411404526657857,
          -0.14075420041541414,
          -0.19065729890691738,
          -0.16940454022406634,
          -0.11327813154314001,
          -0.16922654004168147,
          -0.14668553663862838,
          -0.14977926752985934,
          -0.032806713545037364,
          -0.1415501865435202,
          0.33952716290832047,
          -0.22205252785532026,
          -0.1695459258298201,
          -0.16930922441494872,
          -0.22244737694002237,
          -0.22302508689744183,
          0.30378381818039074,
          -0.17023965790662215,
          3.241355559042496,
          -0.12248927572164092,
          -0.2138933996411347,
          -0.14674447275894256,
          -0.09543586764674772,
          1.5779826992505745,
          -0.16964382175069412,
          -0.1690952351599751,
          -0.16879607361150487,
          -0.1687829981331042,
          0.3039674966928155,
          0.07567395609487709,
          -0.1773907580756855,
          -0.1789805274610167,
          -0.13658956220534385,
          -0.14709643329074534,
          -0.16797297616775758,
          -0.21856753415061617,
          -0.17882587464459757,
          -0.15221558854200334,
          -0.17892612078603265,
          -0.1227298719634503,
          1.1416895860445686,
          0.3033714235847491,
          -0.07707397989654607,
          -0.21830910450204646,
          -0.13579281810594873,
          -0.08599383034034135,
          1.1076674557155042,
          -0.22299907331257526,
          -0.17897808123106743,
          -0.17201283375111484,
          -0.1688944826694571,
          -0.22292444616589283,
          -0.1467238595485516,
          -0.20881832572093262,
          8.044388142562719,
          -0.15945326613486094,
          0.3072475540557923,
          0.02323652695600045,
          -0.14659937065931525,
          -0.16996727095981057,
          -0.16946847391377315,
          0.13774704163471366,
          -0.2170627781618076,
          -0.10523493466369052,
          0.31129783330038263,
          -0.16970558909772973,
          -0.17428016860439857,
          -0.1355801888155372,
          -0.15315728684685925,
          -0.22209332033644819,
          0.30355402829671196,
          -0.19071677256326997,
          -0.1507570082629601,
          -0.15922484055056488,
          -0.1554590996410354,
          0.30748380887384746,
          0.5787558829505955,
          2.112812596278516,
          -0.14242444156139972,
          0.3171650434561064,
          -0.19086694290329986,
          -0.1443534756637823,
          -0.2229812255110105,
          -0.16973018372466986,
          -0.1356731098782091,
          -0.15503719326034476,
          -0.15588764453642162,
          3.1024366404378174,
          -0.10655378161401574,
          -0.2229525795677085,
          -0.19029443328068163,
          -0.03128880792779642,
          -0.15485660227195128,
          -0.1467445103428706,
          0.3833483364084687,
          -0.13891834323161462,
          -0.13931050992191293,
          -0.2569807196133369,
          -0.15041712402047752,
          -0.16862199778450604,
          -0.13464886474498522,
          -0.13642230505132538,
          -0.18312254175917636,
          -0.14602032380953048,
          -0.10507680161873774,
          -0.1448877713645132,
          0.5264670386138762,
          -0.1041093776891544,
          -0.08975599041360209,
          -0.15327653915364103,
          -0.1465345416061453,
          0.5462667133704981,
          -0.1959582960878963,
          -0.16980704909521288,
          -0.16776186676542576,
          -0.13323768788685758,
          -0.13130179505720002,
          -0.1538842057777924,
          0.32513837209948,
          -0.1367106352987977
         ],
         "y": [
          -1.3135713674316278,
          -1.9794351204895264,
          -1.1592976709419458,
          -2.18401201005534,
          -1.9795027880627523,
          -2.184359257150859,
          -1.8974163019124193,
          -1.1593112382983566,
          -0.8625355280181831,
          -1.1593218788237067,
          -1.8969039155152791,
          -1.2893678038573222,
          -1.3135289546966187,
          -1.1593137292506526,
          -1.1593370267118284,
          -0.40598051997795187,
          -1.1213682728020173,
          -1.1593035722805085,
          -1.1593103535522205,
          -1.1593092248759544,
          -0.8625386005835538,
          -1.893153930667641,
          -1.3092456002253838,
          -1.1562378198087586,
          -1.1593020094854243,
          -1.1592757829754496,
          -1.1593065967810967,
          -1.1593107503705835,
          -1.6000837132630346,
          -1.1592499445220146,
          -1.1592913241197933,
          -1.1593067207742755,
          -1.1347776274146992,
          -1.313569440157363,
          -1.159305234921019,
          -1.159302636296937,
          -1.159307425458707,
          -1.1592986138293528,
          -2.252078466901081,
          -1.1593074907394838,
          -1.1629460519421186,
          -1.3135733121375683,
          -1.1592177848503709,
          -1.159314080994947,
          -1.159377557262867,
          -1.159309383834179,
          -1.3135326040926945,
          -1.3135645691488471,
          -1.313575427698183,
          -1.3136008883641368,
          -1.3135751432016987,
          -0.8625348137362471,
          -1.159301321400312,
          -1.2525696202600272,
          -1.159324641120283,
          -1.313566533477909,
          -2.2432972668953646,
          -2.292180635615262,
          -1.1593016821307462,
          -1.1596237015309527,
          -1.159280182019007,
          -1.1593084205125663,
          -1.1592690274617838,
          -1.159163305916145,
          -2.0757610527657926,
          -1.897215786909004,
          -1.6852740969452664,
          -1.1593026030251767,
          -1.159884725271787,
          -2.1439286503260107,
          -1.1593074735472317,
          -1.3135746979555807,
          -1.1904678348200213,
          -0.8625270882813134,
          -2.118791494651651,
          -1.3135844013128342,
          -0.8625329935759635,
          -1.1593590014066901,
          -1.1593462305289446,
          -1.979500081144352,
          -2.094102218251891,
          -0.8625312977332024,
          -1.3135694961513724,
          -1.1592507776412861,
          -2.1912620503966838,
          -1.159293528409929,
          -1.307649939873397,
          -0.8625365064925495,
          -2.1851617223089606,
          -1.1593642736852263,
          -2.1598270470962024,
          -1.1593104104956582,
          -0.8625356951655324,
          -1.159307474367693,
          -0.8625431772136037,
          -2.11169673040095,
          -2.2930016821450434,
          -1.31357467306468,
          -1.897052432402061,
          -1.1593041664061638,
          -1.3135732338138972,
          -1.1593110253357417,
          -2.1276626349182646,
          -1.9794936556959049,
          -2.184360335625308,
          -1.1625749854714233,
          -0.8622026891798596,
          -0.8625753723063417,
          -2.293009579266945,
          -1.1593080157243638,
          -2.293005827282109,
          -2.1187798313976653,
          -0.8960781050269496,
          -2.184078467405875,
          -1.1593068806354418,
          -0.8628557285983737,
          -2.184358183571902,
          -1.1592806588006623,
          -2.118773397324954,
          -1.9149221208539189,
          -1.1606233695407668,
          -0.5919134213394501,
          -1.1593073141610044,
          -1.31361878922508,
          -1.1593236939343836,
          -2.1840159811858557,
          -1.9264884315547444,
          -2.1143089303052895,
          -2.081397760839504,
          -2.29257762972059,
          -0.8625480029800009,
          -1.1593031185327554,
          -1.1593298940213645,
          -0.8625399992269448,
          -0.8625403523729915,
          -2.2930127211677336,
          -2.048220451331296,
          -1.1276688773581576,
          -1.404738692512915,
          -0.8628334715788438,
          -1.313571325734435,
          -1.1628636781336572,
          -1.0721482772636473,
          -1.159308500859463,
          -1.1593254542800469,
          -1.1593216136712605,
          -1.159320961655194,
          -2.2930277164933743,
          -2.1882929843856704,
          -0.8614978765497971,
          -1.600103695553106,
          -2.1843532725043633,
          -2.1851872631567817,
          -1.159280569455402,
          -0.8625473038398425,
          -1.6001084456095354,
          -1.9795878124278636,
          -1.6001043057086362,
          -1.8971854089166702,
          -2.3100405831420554,
          -2.2930045538392676,
          -1.9825702631345403,
          -0.8626728827214549,
          -2.1840920843576033,
          -1.1585850410663474,
          -1.0133996887178496,
          -0.8625396782862811,
          -1.6000994196018454,
          -1.600083718790561,
          -1.1593015970823641,
          -0.862538172411676,
          -1.3135697204434937,
          -1.2719811341801746,
          -2.5993138628847294,
          -2.3018772756605275,
          -2.2930352365605278,
          -1.1565998485391005,
          -2.185123494116205,
          -1.2525525478159698,
          -1.159313603603294,
          -1.156710105897741,
          -0.8625761175539461,
          -1.9815513765764667,
          -2.2932929729753,
          -1.1593122732509848,
          -2.0938081091447884,
          -2.184336863611092,
          -2.1277449455500963,
          -0.8625500371199603,
          -2.2929995328886705,
          -0.5918975197011711,
          -2.1187833819484743,
          -2.293254731147203,
          -2.127659297750134,
          -2.293206230559863,
          -2.16477035558088,
          -2.330155471770033,
          -2.135186547275941,
          -2.2930004012488916,
          -1.1719828149994722,
          -1.9541253969686103,
          -0.8625396190893685,
          -1.1593142648804955,
          -2.184605720079601,
          -2.0269236635966794,
          -0.5761343941438116,
          -2.166535514963022,
          -1.3130065445008667,
          -0.8625409599557534,
          -1.1720082156688831,
          -2.1843495460190847,
          -2.127680139996504,
          -1.3135713276085788,
          -2.294601817196255,
          -2.1548352532253827,
          -2.1547994979133187,
          -0.29574684148170266,
          -2.231696330453746,
          -1.1593267798445797,
          -2.184423903472445,
          -2.184351776488181,
          -1.6853039682980828,
          -1.313564985749288,
          -0.2734787990619542,
          -1.3135805125091014,
          -1.1925000827886123,
          -1.5991208232227165,
          -2.1571572641228793,
          -1.1591708186724423,
          -1.3135753962899213,
          -1.1582117790378,
          -1.1213609106061668,
          -1.1593062553610036,
          -1.1593268132712307,
          -1.8972543890227176,
          -2.3200891222097684,
          -1.979494120784975,
          -2.2928798921036253,
          -2.1843593098820997
         ],
         "z": [
          0.1190481800449978,
          0.32500904212549,
          -0.0009678888818382728,
          0.35927107801088737,
          0.3249826831460596,
          0.3773882970848404,
          0.3154360981318806,
          -0.0009471656559393191,
          0.05403754792868523,
          -0.0009537796104866662,
          0.31994375464857083,
          -0.04674915807444868,
          0.11899531161902731,
          -0.001002889053940629,
          -0.000956955828365284,
          0.08021053924163868,
          0.09238893173869135,
          -0.00095678869987087,
          -0.0009475004444387977,
          -0.0009459825817962394,
          0.05403920548872441,
          0.31492312796045835,
          0.11222006022484592,
          -0.005445523352885694,
          -0.0009506578446090387,
          -0.0010295690761827514,
          -0.0009516439554577969,
          -0.0009449341432033263,
          0.2509565906946493,
          -0.0013166922060855416,
          -0.0009668262278952385,
          -0.000961555821807997,
          -0.03264444383451316,
          0.11904745076318594,
          -0.001009919185636261,
          -0.0009501732090585517,
          -0.00094374605073772,
          -0.0009571392062288893,
          0.33816529689596214,
          -0.000945861788152597,
          -0.0032782985717622567,
          0.11904891592295264,
          -0.0010607225977484946,
          -0.0009460899777460723,
          -0.000978736493616485,
          -0.0009553403665926972,
          0.11881897310337006,
          0.11903917091740449,
          0.1190445200092241,
          0.11904475125366776,
          0.11905474337956966,
          0.054042226637478534,
          -0.0009514131158055648,
          0.1493761135326368,
          -0.0010025758675203417,
          0.11904041208159898,
          0.2925298268945038,
          0.35419923641576284,
          -0.0009715971826184191,
          -0.0012394483838530563,
          -0.0009948930904272063,
          -0.0009436857624127041,
          -0.000997533768324051,
          -0.0012453965965832504,
          0.3900590139436231,
          0.32055666633495894,
          0.2264076551109332,
          -0.0009460710418329346,
          -0.0031994581436083523,
          0.4390674556979309,
          -0.0009435470865771518,
          0.1190494403173679,
          -0.011917663561456343,
          0.054031137481103206,
          0.31631032118387203,
          0.11904500562250546,
          0.05403634144446448,
          -0.0009759194422288314,
          -0.0009905905496112942,
          0.3250294397960256,
          0.2762470355429448,
          0.054036936984870554,
          0.11904747195135476,
          -0.0010168119958081634,
          0.2559711927727356,
          -0.0009694564185808212,
          0.11146128855170122,
          0.054022081404707205,
          0.37579378214985243,
          -0.0009635590634194058,
          0.47355139508175864,
          -0.0009472314473292229,
          0.05403637392896548,
          -0.0009435460263412807,
          0.054039205140703414,
          0.5392373461717636,
          0.35698194321238624,
          0.11905221817179196,
          0.3201979132740122,
          -0.0009941351565354688,
          0.11905145028503408,
          -0.000949473288216837,
          0.35748162498582464,
          0.3250247073325756,
          0.3773887051802577,
          -0.002181461976969227,
          0.05379282565631643,
          0.054001155499884435,
          0.35698220954188287,
          -0.0009438602859682108,
          0.3569797999897332,
          0.3163197127961608,
          0.041990061691406164,
          0.35925044732433886,
          -0.0009444495860572351,
          0.053916211348389906,
          0.3773888806405897,
          -0.0009782854817186831,
          0.3163145561922746,
          0.34158904819665026,
          -0.0014352566242055653,
          -0.09091488740538002,
          -0.0009522436202869261,
          0.11845269673355009,
          -0.0009550723688673335,
          0.35924659847315776,
          0.3700895096948409,
          0.2838090654444099,
          0.360335524942644,
          0.35632905664955156,
          0.05402247248802878,
          -0.0009498117751125782,
          -0.0009534686010490414,
          0.054029341849855854,
          0.05403964566225012,
          0.3569752325998087,
          0.25286831882628363,
          -0.062405393981610054,
          0.11739338939351585,
          0.05388304431042149,
          0.11904816426674666,
          -0.0021959453286671524,
          -0.03392448897726481,
          -0.000947954054877199,
          -0.0009573756490701043,
          -0.0009627881326966122,
          -0.0009630348559899257,
          0.3569722735964953,
          0.3736855752022302,
          0.05320443953034528,
          0.2510406139559464,
          0.3773860324908102,
          0.37577219226271885,
          -0.0009783192900220778,
          0.053960345513811035,
          0.25103795728613576,
          0.3249975349424102,
          0.2510396570807387,
          0.3203818544968591,
          0.3423987261514251,
          0.3569824112391113,
          0.32372088532623006,
          0.05395837470698829,
          0.3590540567998217,
          -0.002454011088646315,
          0.031517645091189546,
          0.05403916788270228,
          0.2510404806313356,
          0.25091601103931427,
          -0.0009614542342802251,
          0.05403780621983129,
          0.11904776319666577,
          0.06594543584405325,
          0.2254434647178353,
          0.3850592386465436,
          0.3569139716299407,
          -0.0044424575836657255,
          0.3757619951000969,
          0.14911824443759444,
          -0.0009509721669045089,
          -0.006481040571385975,
          0.053934131190028684,
          0.3242014118740582,
          0.3568471926676058,
          -0.0009467740292080371,
          0.32112726937336766,
          0.3773676983210332,
          0.35744383190125223,
          0.05402324220788031,
          0.3569790513551273,
          -0.09091416109680966,
          0.3163170278458581,
          0.37417222531608546,
          0.35748305940076075,
          0.35691334902500393,
          0.3499156773945807,
          0.32551269479337763,
          0.3264054953140917,
          0.35673648334068236,
          0.21300103066687998,
          0.38790025834481,
          0.05403884854294109,
          -0.0009462938923093414,
          0.3590627013268389,
          0.33873107370610533,
          0.026127900771252703,
          0.30497369044266553,
          0.11832000281203109,
          0.05403836612892591,
          0.21299135995347188,
          0.37550920128782306,
          0.35747275856878624,
          0.11904816497592378,
          0.3555905164413452,
          0.3442789999155229,
          0.3442852391347051,
          0.15193799461587595,
          0.3490618595662055,
          -0.000965782242965168,
          0.37735292596215997,
          0.37738302010983504,
          0.22639421348213856,
          0.11903512487625201,
          -0.05545411619301315,
          0.11901526544565626,
          -0.012658102667555942,
          0.24968557687750498,
          0.3434515144870473,
          -0.0012425537648333524,
          0.11904450812431791,
          -0.013730489122220269,
          0.09238094943590236,
          -0.0009450920077707797,
          -0.0009811114742458388,
          0.32057058054018867,
          0.4561941569988499,
          0.32502530834090204,
          0.356591847648251,
          0.37738831703837705
         ]
        },
        {
         "customdata": [
          [
           "Proof-of-BibleHash"
          ],
          [
           "SHA-256 + Hive"
          ],
          [
           "Proof-of-Authority"
          ],
          [
           "ECC 256K1"
          ],
          [
           "Leased POS"
          ]
         ],
         "hovertemplate": "<b>%{hovertext}</b><br><br>class=%{marker.color}<br>PC 1=%{x}<br>PC 2=%{y}<br>PC 3=%{z}<br>Algorithm=%{customdata[0]}<extra></extra>",
         "hovertext": [
          "BiblePay",
          "LitecoinCash",
          "Poa Network",
          "Acute Angle Cloud",
          "Waves"
         ],
         "legendgroup": "3",
         "marker": {
          "color": [
           3,
           3,
           3,
           3,
           3
          ],
          "coloraxis": "coloraxis",
          "symbol": "square"
         },
         "mode": "markers",
         "name": "3",
         "scene": "scene",
         "showlegend": true,
         "type": "scatter3d",
         "x": [
          -0.1891119558106595,
          -0.3804866245658205,
          -0.3807358196313975,
          -0.3539656824003255,
          -0.38876905883209995
         ],
         "y": [
          2.1576649271456576,
          2.6875920968564126,
          2.9342239361542264,
          4.499369727154224,
          4.105425797215438
         ],
         "z": [
          12.559396785276641,
          22.87817714368747,
          9.694906446796205,
          7.560405795491421,
          12.482774671698614
         ]
        },
        {
         "customdata": [
          [
           "TRC10"
          ]
         ],
         "hovertemplate": "<b>%{hovertext}</b><br><br>class=%{marker.color}<br>PC 1=%{x}<br>PC 2=%{y}<br>PC 3=%{z}<br>Algorithm=%{customdata[0]}<extra></extra>",
         "hovertext": [
          "BitTorrent"
         ],
         "legendgroup": "2",
         "marker": {
          "color": [
           2
          ],
          "coloraxis": "coloraxis",
          "symbol": "x"
         },
         "mode": "markers",
         "name": "2",
         "scene": "scene",
         "showlegend": true,
         "type": "scatter3d",
         "x": [
          34.07008481185023
         ],
         "y": [
          2.102178050733116
         ],
         "z": [
          -0.13620360522202632
         ]
        }
       ],
       "layout": {
        "coloraxis": {
         "colorbar": {
          "title": {
           "text": "class"
          }
         },
         "colorscale": [
          [
           0,
           "#0d0887"
          ],
          [
           0.1111111111111111,
           "#46039f"
          ],
          [
           0.2222222222222222,
           "#7201a8"
          ],
          [
           0.3333333333333333,
           "#9c179e"
          ],
          [
           0.4444444444444444,
           "#bd3786"
          ],
          [
           0.5555555555555556,
           "#d8576b"
          ],
          [
           0.6666666666666666,
           "#ed7953"
          ],
          [
           0.7777777777777778,
           "#fb9f3a"
          ],
          [
           0.8888888888888888,
           "#fdca26"
          ],
          [
           1,
           "#f0f921"
          ]
         ]
        },
        "legend": {
         "title": {
          "text": "class"
         },
         "tracegroupgap": 0,
         "x": 0,
         "y": 1
        },
        "margin": {
         "t": 60
        },
        "scene": {
         "domain": {
          "x": [
           0,
           1
          ],
          "y": [
           0,
           1
          ]
         },
         "xaxis": {
          "title": {
           "text": "PC 1"
          }
         },
         "yaxis": {
          "title": {
           "text": "PC 2"
          }
         },
         "zaxis": {
          "title": {
           "text": "PC 3"
          }
         }
        },
        "template": {
         "data": {
          "bar": [
           {
            "error_x": {
             "color": "#2a3f5f"
            },
            "error_y": {
             "color": "#2a3f5f"
            },
            "marker": {
             "line": {
              "color": "#E5ECF6",
              "width": 0.5
             }
            },
            "type": "bar"
           }
          ],
          "barpolar": [
           {
            "marker": {
             "line": {
              "color": "#E5ECF6",
              "width": 0.5
             }
            },
            "type": "barpolar"
           }
          ],
          "carpet": [
           {
            "aaxis": {
             "endlinecolor": "#2a3f5f",
             "gridcolor": "white",
             "linecolor": "white",
             "minorgridcolor": "white",
             "startlinecolor": "#2a3f5f"
            },
            "baxis": {
             "endlinecolor": "#2a3f5f",
             "gridcolor": "white",
             "linecolor": "white",
             "minorgridcolor": "white",
             "startlinecolor": "#2a3f5f"
            },
            "type": "carpet"
           }
          ],
          "choropleth": [
           {
            "colorbar": {
             "outlinewidth": 0,
             "ticks": ""
            },
            "type": "choropleth"
           }
          ],
          "contour": [
           {
            "colorbar": {
             "outlinewidth": 0,
             "ticks": ""
            },
            "colorscale": [
             [
              0,
              "#0d0887"
             ],
             [
              0.1111111111111111,
              "#46039f"
             ],
             [
              0.2222222222222222,
              "#7201a8"
             ],
             [
              0.3333333333333333,
              "#9c179e"
             ],
             [
              0.4444444444444444,
              "#bd3786"
             ],
             [
              0.5555555555555556,
              "#d8576b"
             ],
             [
              0.6666666666666666,
              "#ed7953"
             ],
             [
              0.7777777777777778,
              "#fb9f3a"
             ],
             [
              0.8888888888888888,
              "#fdca26"
             ],
             [
              1,
              "#f0f921"
             ]
            ],
            "type": "contour"
           }
          ],
          "contourcarpet": [
           {
            "colorbar": {
             "outlinewidth": 0,
             "ticks": ""
            },
            "type": "contourcarpet"
           }
          ],
          "heatmap": [
           {
            "colorbar": {
             "outlinewidth": 0,
             "ticks": ""
            },
            "colorscale": [
             [
              0,
              "#0d0887"
             ],
             [
              0.1111111111111111,
              "#46039f"
             ],
             [
              0.2222222222222222,
              "#7201a8"
             ],
             [
              0.3333333333333333,
              "#9c179e"
             ],
             [
              0.4444444444444444,
              "#bd3786"
             ],
             [
              0.5555555555555556,
              "#d8576b"
             ],
             [
              0.6666666666666666,
              "#ed7953"
             ],
             [
              0.7777777777777778,
              "#fb9f3a"
             ],
             [
              0.8888888888888888,
              "#fdca26"
             ],
             [
              1,
              "#f0f921"
             ]
            ],
            "type": "heatmap"
           }
          ],
          "heatmapgl": [
           {
            "colorbar": {
             "outlinewidth": 0,
             "ticks": ""
            },
            "colorscale": [
             [
              0,
              "#0d0887"
             ],
             [
              0.1111111111111111,
              "#46039f"
             ],
             [
              0.2222222222222222,
              "#7201a8"
             ],
             [
              0.3333333333333333,
              "#9c179e"
             ],
             [
              0.4444444444444444,
              "#bd3786"
             ],
             [
              0.5555555555555556,
              "#d8576b"
             ],
             [
              0.6666666666666666,
              "#ed7953"
             ],
             [
              0.7777777777777778,
              "#fb9f3a"
             ],
             [
              0.8888888888888888,
              "#fdca26"
             ],
             [
              1,
              "#f0f921"
             ]
            ],
            "type": "heatmapgl"
           }
          ],
          "histogram": [
           {
            "marker": {
             "colorbar": {
              "outlinewidth": 0,
              "ticks": ""
             }
            },
            "type": "histogram"
           }
          ],
          "histogram2d": [
           {
            "colorbar": {
             "outlinewidth": 0,
             "ticks": ""
            },
            "colorscale": [
             [
              0,
              "#0d0887"
             ],
             [
              0.1111111111111111,
              "#46039f"
             ],
             [
              0.2222222222222222,
              "#7201a8"
             ],
             [
              0.3333333333333333,
              "#9c179e"
             ],
             [
              0.4444444444444444,
              "#bd3786"
             ],
             [
              0.5555555555555556,
              "#d8576b"
             ],
             [
              0.6666666666666666,
              "#ed7953"
             ],
             [
              0.7777777777777778,
              "#fb9f3a"
             ],
             [
              0.8888888888888888,
              "#fdca26"
             ],
             [
              1,
              "#f0f921"
             ]
            ],
            "type": "histogram2d"
           }
          ],
          "histogram2dcontour": [
           {
            "colorbar": {
             "outlinewidth": 0,
             "ticks": ""
            },
            "colorscale": [
             [
              0,
              "#0d0887"
             ],
             [
              0.1111111111111111,
              "#46039f"
             ],
             [
              0.2222222222222222,
              "#7201a8"
             ],
             [
              0.3333333333333333,
              "#9c179e"
             ],
             [
              0.4444444444444444,
              "#bd3786"
             ],
             [
              0.5555555555555556,
              "#d8576b"
             ],
             [
              0.6666666666666666,
              "#ed7953"
             ],
             [
              0.7777777777777778,
              "#fb9f3a"
             ],
             [
              0.8888888888888888,
              "#fdca26"
             ],
             [
              1,
              "#f0f921"
             ]
            ],
            "type": "histogram2dcontour"
           }
          ],
          "mesh3d": [
           {
            "colorbar": {
             "outlinewidth": 0,
             "ticks": ""
            },
            "type": "mesh3d"
           }
          ],
          "parcoords": [
           {
            "line": {
             "colorbar": {
              "outlinewidth": 0,
              "ticks": ""
             }
            },
            "type": "parcoords"
           }
          ],
          "pie": [
           {
            "automargin": true,
            "type": "pie"
           }
          ],
          "scatter": [
           {
            "marker": {
             "colorbar": {
              "outlinewidth": 0,
              "ticks": ""
             }
            },
            "type": "scatter"
           }
          ],
          "scatter3d": [
           {
            "line": {
             "colorbar": {
              "outlinewidth": 0,
              "ticks": ""
             }
            },
            "marker": {
             "colorbar": {
              "outlinewidth": 0,
              "ticks": ""
             }
            },
            "type": "scatter3d"
           }
          ],
          "scattercarpet": [
           {
            "marker": {
             "colorbar": {
              "outlinewidth": 0,
              "ticks": ""
             }
            },
            "type": "scattercarpet"
           }
          ],
          "scattergeo": [
           {
            "marker": {
             "colorbar": {
              "outlinewidth": 0,
              "ticks": ""
             }
            },
            "type": "scattergeo"
           }
          ],
          "scattergl": [
           {
            "marker": {
             "colorbar": {
              "outlinewidth": 0,
              "ticks": ""
             }
            },
            "type": "scattergl"
           }
          ],
          "scattermapbox": [
           {
            "marker": {
             "colorbar": {
              "outlinewidth": 0,
              "ticks": ""
             }
            },
            "type": "scattermapbox"
           }
          ],
          "scatterpolar": [
           {
            "marker": {
             "colorbar": {
              "outlinewidth": 0,
              "ticks": ""
             }
            },
            "type": "scatterpolar"
           }
          ],
          "scatterpolargl": [
           {
            "marker": {
             "colorbar": {
              "outlinewidth": 0,
              "ticks": ""
             }
            },
            "type": "scatterpolargl"
           }
          ],
          "scatterternary": [
           {
            "marker": {
             "colorbar": {
              "outlinewidth": 0,
              "ticks": ""
             }
            },
            "type": "scatterternary"
           }
          ],
          "surface": [
           {
            "colorbar": {
             "outlinewidth": 0,
             "ticks": ""
            },
            "colorscale": [
             [
              0,
              "#0d0887"
             ],
             [
              0.1111111111111111,
              "#46039f"
             ],
             [
              0.2222222222222222,
              "#7201a8"
             ],
             [
              0.3333333333333333,
              "#9c179e"
             ],
             [
              0.4444444444444444,
              "#bd3786"
             ],
             [
              0.5555555555555556,
              "#d8576b"
             ],
             [
              0.6666666666666666,
              "#ed7953"
             ],
             [
              0.7777777777777778,
              "#fb9f3a"
             ],
             [
              0.8888888888888888,
              "#fdca26"
             ],
             [
              1,
              "#f0f921"
             ]
            ],
            "type": "surface"
           }
          ],
          "table": [
           {
            "cells": {
             "fill": {
              "color": "#EBF0F8"
             },
             "line": {
              "color": "white"
             }
            },
            "header": {
             "fill": {
              "color": "#C8D4E3"
             },
             "line": {
              "color": "white"
             }
            },
            "type": "table"
           }
          ]
         },
         "layout": {
          "annotationdefaults": {
           "arrowcolor": "#2a3f5f",
           "arrowhead": 0,
           "arrowwidth": 1
          },
          "coloraxis": {
           "colorbar": {
            "outlinewidth": 0,
            "ticks": ""
           }
          },
          "colorscale": {
           "diverging": [
            [
             0,
             "#8e0152"
            ],
            [
             0.1,
             "#c51b7d"
            ],
            [
             0.2,
             "#de77ae"
            ],
            [
             0.3,
             "#f1b6da"
            ],
            [
             0.4,
             "#fde0ef"
            ],
            [
             0.5,
             "#f7f7f7"
            ],
            [
             0.6,
             "#e6f5d0"
            ],
            [
             0.7,
             "#b8e186"
            ],
            [
             0.8,
             "#7fbc41"
            ],
            [
             0.9,
             "#4d9221"
            ],
            [
             1,
             "#276419"
            ]
           ],
           "sequential": [
            [
             0,
             "#0d0887"
            ],
            [
             0.1111111111111111,
             "#46039f"
            ],
            [
             0.2222222222222222,
             "#7201a8"
            ],
            [
             0.3333333333333333,
             "#9c179e"
            ],
            [
             0.4444444444444444,
             "#bd3786"
            ],
            [
             0.5555555555555556,
             "#d8576b"
            ],
            [
             0.6666666666666666,
             "#ed7953"
            ],
            [
             0.7777777777777778,
             "#fb9f3a"
            ],
            [
             0.8888888888888888,
             "#fdca26"
            ],
            [
             1,
             "#f0f921"
            ]
           ],
           "sequentialminus": [
            [
             0,
             "#0d0887"
            ],
            [
             0.1111111111111111,
             "#46039f"
            ],
            [
             0.2222222222222222,
             "#7201a8"
            ],
            [
             0.3333333333333333,
             "#9c179e"
            ],
            [
             0.4444444444444444,
             "#bd3786"
            ],
            [
             0.5555555555555556,
             "#d8576b"
            ],
            [
             0.6666666666666666,
             "#ed7953"
            ],
            [
             0.7777777777777778,
             "#fb9f3a"
            ],
            [
             0.8888888888888888,
             "#fdca26"
            ],
            [
             1,
             "#f0f921"
            ]
           ]
          },
          "colorway": [
           "#636efa",
           "#EF553B",
           "#00cc96",
           "#ab63fa",
           "#FFA15A",
           "#19d3f3",
           "#FF6692",
           "#B6E880",
           "#FF97FF",
           "#FECB52"
          ],
          "font": {
           "color": "#2a3f5f"
          },
          "geo": {
           "bgcolor": "white",
           "lakecolor": "white",
           "landcolor": "#E5ECF6",
           "showlakes": true,
           "showland": true,
           "subunitcolor": "white"
          },
          "hoverlabel": {
           "align": "left"
          },
          "hovermode": "closest",
          "mapbox": {
           "style": "light"
          },
          "paper_bgcolor": "white",
          "plot_bgcolor": "#E5ECF6",
          "polar": {
           "angularaxis": {
            "gridcolor": "white",
            "linecolor": "white",
            "ticks": ""
           },
           "bgcolor": "#E5ECF6",
           "radialaxis": {
            "gridcolor": "white",
            "linecolor": "white",
            "ticks": ""
           }
          },
          "scene": {
           "xaxis": {
            "backgroundcolor": "#E5ECF6",
            "gridcolor": "white",
            "gridwidth": 2,
            "linecolor": "white",
            "showbackground": true,
            "ticks": "",
            "zerolinecolor": "white"
           },
           "yaxis": {
            "backgroundcolor": "#E5ECF6",
            "gridcolor": "white",
            "gridwidth": 2,
            "linecolor": "white",
            "showbackground": true,
            "ticks": "",
            "zerolinecolor": "white"
           },
           "zaxis": {
            "backgroundcolor": "#E5ECF6",
            "gridcolor": "white",
            "gridwidth": 2,
            "linecolor": "white",
            "showbackground": true,
            "ticks": "",
            "zerolinecolor": "white"
           }
          },
          "shapedefaults": {
           "line": {
            "color": "#2a3f5f"
           }
          },
          "ternary": {
           "aaxis": {
            "gridcolor": "white",
            "linecolor": "white",
            "ticks": ""
           },
           "baxis": {
            "gridcolor": "white",
            "linecolor": "white",
            "ticks": ""
           },
           "bgcolor": "#E5ECF6",
           "caxis": {
            "gridcolor": "white",
            "linecolor": "white",
            "ticks": ""
           }
          },
          "title": {
           "x": 0.05
          },
          "xaxis": {
           "automargin": true,
           "gridcolor": "white",
           "linecolor": "white",
           "ticks": "",
           "title": {
            "standoff": 15
           },
           "zerolinecolor": "white",
           "zerolinewidth": 2
          },
          "yaxis": {
           "automargin": true,
           "gridcolor": "white",
           "linecolor": "white",
           "ticks": "",
           "title": {
            "standoff": 15
           },
           "zerolinecolor": "white",
           "zerolinewidth": 2
          }
         }
        },
        "width": 850
       }
      },
      "text/html": [
       "<div>                            <div id=\"fe60837e-3aac-4d21-9a06-30ab58e4ab71\" class=\"plotly-graph-div\" style=\"height:525px; width:850px;\"></div>            <script type=\"text/javascript\">                require([\"plotly\"], function(Plotly) {                    window.PLOTLYENV=window.PLOTLYENV || {};                                    if (document.getElementById(\"fe60837e-3aac-4d21-9a06-30ab58e4ab71\")) {                    Plotly.newPlot(                        \"fe60837e-3aac-4d21-9a06-30ab58e4ab71\",                        [{\"customdata\": [[\"Scrypt\"], [\"Scrypt\"], [\"X13\"], [\"X11\"], [\"SHA-512\"], [\"SHA-256\"], [\"SHA-256\"], [\"X15\"], [\"Scrypt\"], [\"Scrypt\"], [\"Scrypt\"], [\"Scrypt\"], [\"Scrypt\"], [\"Scrypt\"], [\"Groestl\"], [\"PoS\"], [\"Scrypt\"], [\"Scrypt\"], [\"X11\"], [\"X11\"], [\"SHA3\"], [\"Scrypt\"], [\"SHA-256\"], [\"Scrypt\"], [\"X13\"], [\"X13\"], [\"NeoScrypt\"], [\"Scrypt\"], [\"Scrypt\"], [\"Scrypt\"], [\"X11\"], [\"X11\"], [\"Multiple\"], [\"PHI1612\"], [\"X11\"], [\"Scrypt\"], [\"Scrypt\"], [\"Scrypt\"], [\"X11\"], [\"Multiple\"], [\"X13\"], [\"Scrypt\"], [\"Shabal256\"], [\"Counterparty\"], [\"SHA-256\"], [\"Groestl\"], [\"Scrypt\"], [\"X13\"], [\"Scrypt\"], [\"Scrypt\"], [\"X13\"], [\"X11\"], [\"Scrypt\"], [\"X11\"], [\"SHA3\"], [\"QUAIT\"], [\"X11\"], [\"Scrypt\"], [\"X13\"], [\"SHA-256\"], [\"X15\"], [\"BLAKE256\"], [\"SHA-256\"], [\"X11\"], [\"SHA-256\"], [\"NIST5\"], [\"Scrypt\"], [\"Scrypt\"], [\"X11\"], [\"Scrypt\"], [\"SHA-256\"], [\"Scrypt\"], [\"PoS\"], [\"X11\"], [\"SHA-256\"], [\"SHA-256\"], [\"NIST5\"], [\"X11\"], [\"POS 3.0\"], [\"Scrypt\"], [\"Scrypt\"], [\"Scrypt\"], [\"X13\"], [\"X11\"], [\"X11\"], [\"Scrypt\"], [\"SHA-256\"], [\"X11\"], [\"Scrypt\"], [\"Scrypt\"], [\"Scrypt\"], [\"Scrypt\"], [\"SHA-256D\"], [\"PoS\"], [\"Scrypt\"], [\"X11\"], [\"PoS\"], [\"X13\"], [\"X14\"], [\"PoS\"], [\"SHA-256D\"], [\"DPoS\"], [\"X11\"], [\"X13\"], [\"X11\"], [\"PoS\"], [\"Scrypt\"], [\"Scrypt\"], [\"PoS\"], [\"X11\"], [\"SHA-256\"], [\"Scrypt\"], [\"X11\"], [\"Scrypt\"], [\"Scrypt\"], [\"X11\"], [\"Scrypt\"], [\"Scrypt\"], [\"Scrypt\"], [\"Scrypt\"], [\"Quark\"], [\"QuBit\"], [\"Scrypt\"], [\"SHA-256\"], [\"X11\"], [\"Scrypt\"], [\"Scrypt\"], [\"Scrypt\"], [\"Scrypt\"], [\"X13\"], [\"Scrypt\"], [\"Scrypt\"], [\"X11\"], [\"Blake2S\"], [\"X11\"], [\"PoS\"], [\"X11\"], [\"PoS\"], [\"X11\"], [\"Scrypt\"], [\"Scrypt\"], [\"Scrypt\"], [\"SHA-256\"], [\"X11\"], [\"Scrypt\"], [\"PoS\"], [\"Scrypt\"], [\"X15\"], [\"SHA-256\"], [\"POS 3.0\"], [\"536\"], [\"NIST5\"], [\"NIST5\"], [\"Skein\"], [\"X13\"], [\"Scrypt\"], [\"X13\"], [\"SkunkHash v2 Raptor\"], [\"Skein\"], [\"X11\"], [\"Scrypt\"], [\"VeChainThor Authority\"], [\"PoS\"], [\"Scrypt\"], [\"Scrypt\"], [\"SHA-512\"], [\"Ouroboros\"], [\"X11\"], [\"NeoScrypt\"], [\"Scrypt\"], [\"Lyra2REv2\"], [\"Scrypt\"], [\"SHA-256\"], [\"NIST5\"], [\"PHI1612\"], [\"Scrypt\"], [\"Quark\"], [\"POS 2.0\"], [\"Scrypt\"], [\"SHA-256\"], [\"X11\"], [\"DPoS\"], [\"NIST5\"], [\"X13\"], [\"Scrypt\"], [\"NIST5\"], [\"Quark\"], [\"Scrypt\"], [\"Scrypt\"], [\"X11\"], [\"Quark\"], [\"Scrypt\"], [\"Scrypt\"], [\"X11\"], [\"POS 3.0\"], [\"Ethash\"], [\"Scrypt\"], [\"Scrypt\"], [\"X13\"], [\"C11\"], [\"X11\"], [\"XEVAN\"], [\"Scrypt\"], [\"VBFT\"], [\"NIST5\"], [\"Scrypt\"], [\"Scrypt\"], [\"Scrypt\"], [\"Green Protocol\"], [\"PoS\"], [\"Scrypt\"], [\"Semux BFT consensus\"], [\"Quark\"], [\"PoS\"], [\"X16R\"], [\"Scrypt\"], [\"XEVAN\"], [\"Scrypt\"], [\"Scrypt\"], [\"Scrypt\"], [\"SHA-256D\"], [\"Scrypt\"], [\"X15\"], [\"Scrypt\"], [\"Quark\"], [\"SHA-256\"], [\"DPoS\"], [\"X16R\"], [\"Quark\"], [\"Quark\"], [\"Scrypt\"], [\"Lyra2REv2\"], [\"Quark\"], [\"Scrypt\"], [\"X11\"], [\"X11\"], [\"Scrypt\"], [\"PoS\"], [\"Keccak\"], [\"X11\"], [\"Scrypt\"], [\"SHA-512\"], [\"XEVAN\"], [\"XEVAN\"], [\"X11\"], [\"Quark\"], [\"Scrypt\"], [\"Quark\"], [\"Quark\"], [\"Scrypt\"], [\"X11\"], [\"Scrypt\"], [\"XEVAN\"], [\"SHA-256D\"], [\"X11\"], [\"X11\"], [\"DPoS\"], [\"Scrypt\"], [\"X11\"], [\"Scrypt\"], [\"Scrypt\"], [\"SHA-256\"], [\"Scrypt\"], [\"X11\"], [\"Scrypt\"], [\"SHA-256\"], [\"X11\"], [\"Scrypt\"], [\"Scrypt\"], [\"X11\"], [\"Scrypt\"], [\"PoS\"], [\"X11\"], [\"SHA-256\"], [\"DPoS\"], [\"Scrypt\"], [\"Scrypt\"], [\"NeoScrypt\"], [\"X13\"], [\"DPoS\"], [\"DPoS\"], [\"SHA-256\"], [\"PoS\"], [\"PoS\"], [\"SHA-256\"], [\"Scrypt\"], [\"Scrypt\"]], \"hovertemplate\": \"<b>%{hovertext}</b><br><br>class=%{marker.color}<br>PC 1=%{x}<br>PC 2=%{y}<br>PC 3=%{z}<br>Algorithm=%{customdata[0]}<extra></extra>\", \"hovertext\": [\"42 Coin\", \"404Coin\", \"EliteCoin\", \"Dash\", \"Bitshares\", \"BitcoinDark\", \"PayCoin\", \"KoboCoin\", \"Aurora Coin\", \"BlueCoin\", \"EnergyCoin\", \"BitBar\", \"CryptoBullion\", \"CasinoCoin\", \"Diamond\", \"Exclusive Coin\", \"FlutterCoin\", \"HoboNickels\", \"HyperStake\", \"IOCoin\", \"MaxCoin\", \"MintCoin\", \"MazaCoin\", \"Nautilus Coin\", \"NavCoin\", \"OpalCoin\", \"Orbitcoin\", \"PotCoin\", \"PhoenixCoin\", \"Reddcoin\", \"SuperCoin\", \"SyncCoin\", \"TeslaCoin\", \"TittieCoin\", \"TorCoin\", \"UnitaryStatus Dollar\", \"UltraCoin\", \"VeriCoin\", \"X11 Coin\", \"Crypti\", \"StealthCoin\", \"ZCC Coin\", \"BurstCoin\", \"StorjCoin\", \"Neutron\", \"FairCoin\", \"RubyCoin\", \"Kore\", \"Dnotes\", \"8BIT Coin\", \"Sativa Coin\", \"Ucoin\", \"Vtorrent\", \"IslaCoin\", \"Nexus\", \"Droidz\", \"Squall Coin\", \"Diggits\", \"Paycon\", \"Emercoin\", \"EverGreenCoin\", \"Decred\", \"EDRCoin\", \"Hitcoin\", \"DubaiCoin\", \"PWR Coin\", \"BillaryCoin\", \"GPU Coin\", \"EuropeCoin\", \"ZeitCoin\", \"SwingCoin\", \"SafeExchangeCoin\", \"Nebuchadnezzar\", \"Ratecoin\", \"Revenu\", \"Clockcoin\", \"VIP Tokens\", \"BitSend\", \"Let it Ride\", \"PutinCoin\", \"iBankCoin\", \"Frankywillcoin\", \"MudraCoin\", \"Lutetium Coin\", \"GoldBlocks\", \"CarterCoin\", \"BitTokens\", \"MustangCoin\", \"ZoneCoin\", \"RootCoin\", \"BitCurrency\", \"Swiscoin\", \"BuzzCoin\", \"Opair\", \"PesoBit\", \"Halloween Coin\", \"CoffeeCoin\", \"RoyalCoin\", \"GanjaCoin V2\", \"TeamUP\", \"LanaCoin\", \"ARK\", \"InsaneCoin\", \"EmberCoin\", \"XenixCoin\", \"FreeCoin\", \"PLNCoin\", \"AquariusCoin\", \"Creatio\", \"Eternity\", \"Eurocoin\", \"BitcoinFast\", \"Stakenet\", \"BitConnect Coin\", \"MoneyCoin\", \"Enigma\", \"Russiacoin\", \"PandaCoin\", \"GameUnits\", \"GAKHcoin\", \"Allsafe\", \"LiteCreed\", \"Klingon Empire Darsek\", \"Internet of People\", \"KushCoin\", \"Printerium\", \"Impeach\", \"Zilbercoin\", \"FirstCoin\", \"FindCoin\", \"OpenChat\", \"RenosCoin\", \"VirtacoinPlus\", \"TajCoin\", \"Impact\", \"Atmos\", \"HappyCoin\", \"MacronCoin\", \"Condensate\", \"Independent Money System\", \"ArgusCoin\", \"LomoCoin\", \"ProCurrency\", \"GoldReserve\", \"GrowthCoin\", \"Phreak\", \"Degas Coin\", \"HTML5 Coin\", \"Ultimate Secure Cash\", \"QTUM\", \"Espers\", \"Denarius\", \"Virta Unique Coin\", \"Bitcoin Planet\", \"BritCoin\", \"Linda\", \"DeepOnion\", \"Signatum\", \"Cream\", \"Monoeci\", \"Draftcoin\", \"Vechain\", \"Stakecoin\", \"CoinonatX\", \"Ethereum Dark\", \"Obsidian\", \"Cardano\", \"Regalcoin\", \"TrezarCoin\", \"TerraNovaCoin\", \"Rupee\", \"WomenCoin\", \"Theresa May Coin\", \"NamoCoin\", \"LUXCoin\", \"Xios\", \"Bitcloud 2.0\", \"KekCoin\", \"BlackholeCoin\", \"Infinity Economics\", \"Magnet\", \"Lamden Tau\", \"Electra\", \"Bitcoin Diamond\", \"Cash & Back Coin\", \"Bulwark\", \"Kalkulus\", \"GermanCoin\", \"LiteCoin Ultra\", \"PhantomX\", \"Digiwage\", \"Trollcoin\", \"Litecoin Plus\", \"Monkey Project\", \"TokenPay\", \"1717 Masonic Commemorative Token\", \"My Big Coin\", \"Unified Society USDEX\", \"Tokyo Coin\", \"Stipend\", \"Pushi\", \"Ellerium\", \"Velox\", \"Ontology\", \"Bitspace\", \"Briacoin\", \"Ignition\", \"MedicCoin\", \"Bitcoin Green\", \"Deviant Coin\", \"Abjcoin\", \"Semux\", \"Carebit\", \"Zealium\", \"Proton\", \"iDealCash\", \"Bitcoin Incognito\", \"HollyWoodCoin\", \"Swisscoin\", \"Xt3ch\", \"TheVig\", \"EmaratCoin\", \"Dekado\", \"Lynx\", \"Poseidon Quark\", \"BitcoinWSpectrum\", \"Muse\", \"Trivechain\", \"Dystem\", \"Giant\", \"Peony Coin\", \"Absolute Coin\", \"Vitae\", \"TPCash\", \"ARENON\", \"EUNO\", \"MMOCoin\", \"Ketan\", \"XDNA\", \"PAXEX\", \"ThunderStake\", \"Kcash\", \"Bettex coin\", \"BitMoney\", \"Junson Ming Chan Coin\", \"HerbCoin\", \"Oduwa\", \"Galilel\", \"Crypto Sports\", \"Credit\", \"Dash Platinum\", \"Nasdacoin\", \"Beetle Coin\", \"Titan Coin\", \"Award\", \"Insane Coin\", \"ALAX\", \"LiteDoge\", \"TruckCoin\", \"OrangeCoin\", \"BitstarCoin\", \"NeosCoin\", \"HyperCoin\", \"PinkCoin\", \"AudioCoin\", \"IncaKoin\", \"Piggy Coin\", \"Genstake\", \"XiaoMiCoin\", \"CapriCoin\", \" ClubCoin\", \"Radium\", \"Creditbit \", \"OKCash\", \"Lisk\", \"HiCoin\", \"WhiteCoin\", \"FriendshipCoin\", \"Triangles Coin\", \"EOS\", \"Oxycoin\", \"TigerCash\", \"Particl\", \"Nxt\", \"ZEPHYR\", \"Gapcoin\", \"BitcoinPlus\"], \"legendgroup\": \"0\", \"marker\": {\"color\": [0, 0, 0, 0, 0, 0, 0, 0, 0, 0, 0, 0, 0, 0, 0, 0, 0, 0, 0, 0, 0, 0, 0, 0, 0, 0, 0, 0, 0, 0, 0, 0, 0, 0, 0, 0, 0, 0, 0, 0, 0, 0, 0, 0, 0, 0, 0, 0, 0, 0, 0, 0, 0, 0, 0, 0, 0, 0, 0, 0, 0, 0, 0, 0, 0, 0, 0, 0, 0, 0, 0, 0, 0, 0, 0, 0, 0, 0, 0, 0, 0, 0, 0, 0, 0, 0, 0, 0, 0, 0, 0, 0, 0, 0, 0, 0, 0, 0, 0, 0, 0, 0, 0, 0, 0, 0, 0, 0, 0, 0, 0, 0, 0, 0, 0, 0, 0, 0, 0, 0, 0, 0, 0, 0, 0, 0, 0, 0, 0, 0, 0, 0, 0, 0, 0, 0, 0, 0, 0, 0, 0, 0, 0, 0, 0, 0, 0, 0, 0, 0, 0, 0, 0, 0, 0, 0, 0, 0, 0, 0, 0, 0, 0, 0, 0, 0, 0, 0, 0, 0, 0, 0, 0, 0, 0, 0, 0, 0, 0, 0, 0, 0, 0, 0, 0, 0, 0, 0, 0, 0, 0, 0, 0, 0, 0, 0, 0, 0, 0, 0, 0, 0, 0, 0, 0, 0, 0, 0, 0, 0, 0, 0, 0, 0, 0, 0, 0, 0, 0, 0, 0, 0, 0, 0, 0, 0, 0, 0, 0, 0, 0, 0, 0, 0, 0, 0, 0, 0, 0, 0, 0, 0, 0, 0, 0, 0, 0, 0, 0, 0, 0, 0, 0, 0, 0, 0, 0, 0, 0, 0, 0, 0, 0, 0, 0, 0, 0, 0, 0, 0, 0, 0, 0, 0, 0, 0, 0, 0, 0, 0, 0, 0, 0, 0, 0, 0, 0], \"coloraxis\": \"coloraxis\", \"symbol\": \"circle\"}, \"mode\": \"markers\", \"name\": \"0\", \"scene\": \"scene\", \"showlegend\": true, \"type\": \"scatter3d\", \"x\": [-0.33745206818680973, -0.3207823956887623, 2.3131231977956825, -0.39047258365862714, -0.28124227035415045, -0.3144893848135973, -0.2678194005098259, -0.24685487045546625, -0.33711149711742433, -0.3296856539658367, -0.33594794428914654, -0.3374480027423299, -0.33743227681914717, 0.6239153534812698, -0.3650751586811985, -0.3446941879876191, -0.27924763136566383, -0.3355100118436355, -0.3236169180817474, -0.39036723108497895, -0.42165043363272425, -0.030582364824475888, -0.2777800271344658, -0.29053307105938864, -0.2718460611007144, -0.27246855767607, -0.34670462842198735, -0.33175191683287525, -0.335853125006234, 0.020854978531118992, -0.34351271822130797, -0.3907389630057174, -0.25254944884311936, -0.30541510924575227, -0.39065056717295443, -0.31267355247244655, -0.33612890704507264, -0.30142702551774425, -0.39061502438858603, -0.2530173503468462, -0.2722493197929149, -0.32855160758335017, -0.09815372793719056, -0.3417309901682706, -0.3137007597072291, -0.36449645187534835, -0.2905133127143429, -0.27254398569590016, -0.28516514385057384, -0.3374341284351624, -0.2724961479737623, -0.34395777907628156, -0.33716839799776677, -0.3907204833636753, -0.430887803404158, -0.44103736783917064, -0.35485288173801494, -0.28891416496761757, -0.2720175856162094, -0.30704319648955114, -0.24929727142263863, -0.06562290239336065, -0.3144602853215939, -0.0680537555893892, -0.3145240030065461, -0.23559803131506568, -0.33704423276274, -0.28878321480521996, -0.38788858383278635, 0.8631068998187574, -0.31432398937205186, -0.10717110018717668, -0.3443773261253977, -0.3885625233211943, -0.3130670515191718, -0.3107343713132798, -0.357012807744319, -0.3894551663907419, -0.35744016924378924, -0.3133307900361162, -0.337082349317959, -0.33552066110994216, -0.22456786419807723, -0.33144313851629076, -0.3901941731973776, -0.33628623262542334, -0.31450495190317335, -0.39070967158875675, -0.3372715861599829, -0.3374283588682905, -0.28877266807394486, -0.2511206525930225, 0.03048406728635073, -0.34333395266514516, -0.3370423374830746, -0.37686647953061847, -0.34266226315571396, -0.2259990213264866, -0.39946713243764304, -0.34241122973637617, -0.2841803850883123, 3.7101557090682333, -0.3903020411017977, 0.8601931097377675, -0.3906645610258388, -0.34379790375898006, -0.33696988010302126, -0.3371242793897525, -0.3443773261253977, -0.39023930095765463, -0.3143675608629527, -0.33697061324027566, -0.3754010697153404, -0.33711806923328186, -0.3327044080438235, -0.3906935689195128, -0.336328471649378, 0.35301756600466294, -0.3373174291344183, -0.337388027587704, -0.3507030466705862, -0.3506089707989415, -0.33361332265421945, -0.3144813547027746, -0.39060348123016153, -0.33716574566023216, -0.3372927584954308, -0.2904198099763565, -0.28550991875058807, -0.22576677479136817, -0.3181379901174098, -0.2901608097121309, -0.38986893757137875, -0.42316502465321826, -0.38860673094395737, -0.3426231195604733, -0.3897667756186961, -0.337020603196918, -0.38570610715502707, -0.337236018436827, -0.33723521213691404, -0.3303542945791216, 0.265048994448527, -0.3902454421862975, -0.2730549780848868, -0.3444116417302506, -0.3364463886690458, 0.8855519880838921, -0.26650931068236616, -0.3562179927554219, 0.5823520537628979, -0.3585491219497392, -0.357050719157491, -0.42120380651316686, -0.27218110770370485, 0.12768199724488824, -0.2722519065742111, -0.3344172966839874, -0.4207084632896291, -0.39051793536780205, -0.2904940255594553, 4.444670643131828, -0.34427787183473935, -0.3368710610981942, -0.3373709498667026, -0.3393312518311328, 0.6739503406767707, -0.3904587454799411, -0.34170177997673107, -0.3373265509628561, -0.30611461484178626, 0.4321313267378541, -0.3128269049499262, -0.34330959040941705, -0.38763416306058524, -0.3372768696902734, -0.39575076837277684, -0.3411683345964943, -0.3371472056988972, -0.09422794846592199, -0.389250905876717, 3.715013754591803, 0.20118509188884112, -0.26892132664493085, -0.3346064129774523, -0.31170606088186803, -0.3505889005382388, 0.07716148940805378, -0.33628541408148804, -0.3898322633002402, -0.34975330658715675, -0.32384584641184727, -0.33739309147344326, -0.34392969614750296, -0.35772221124480913, -0.27526722804977277, -0.283233003150225, -0.3329364144542083, -0.2175591691601984, -0.3764002150559199, -0.390535196818972, -0.324674310220861, -0.28965367928829777, -0.3149264988553012, -0.35814791889556596, -0.33742045827150574, -0.3374021619104838, -0.28403271794275897, -0.3332222158055002, -0.343872156602489, -0.337118555494658, 3.9101660548618615, -0.39441818227520387, -0.34406090828695546, -0.31169117511994926, -0.2839667189717747, -0.28894064552658, -0.2901880988976475, -0.1404484644159688, -0.2904402826426438, -0.34952163348533444, -0.33659237318060475, -0.20203425219898452, 2.23030041058859, -0.34629519380258417, -0.26663704239385844, 1.0133646101007991, -0.35763393902173773, -0.3507024853396728, -0.3974355907297146, -0.17112556194391745, -0.3526493797602223, -0.34942146993905776, -0.3302943582666552, -0.3435069269039967, -0.390008303830312, -0.2876846056329571, -0.343160358349306, -0.3502332861243379, -0.34336826444943563, -0.19684693183749538, -0.3503457042406909, -0.2780608967811919, 0.4837273000250244, -0.1337856468920365, -0.39672992032565585, -0.33712252671929754, -0.3971862308979293, -0.3508195119438847, 0.5697689801174075, -0.34398403548839934, -0.33660524107997375, -0.31912759827303805, -0.30422303586343713, -0.3875720134182683, -0.39023563491684965, 3.7272608392004845, 0.09798994888757324, -0.38777414293844975, -0.33599050383820683, -0.336815807947773, -0.26785204933557216, -0.3373343524682889, -0.3818598575002077, -0.2510026846521957, -0.09404696189979675, -0.3776065064111243, -0.33661234910966265, -0.32967367968742056, -0.386802760024429, -0.335050893241262, -0.3446530778802821, -0.3604425022248151, -0.3130038078678143, 3.7105476860144146, -0.09763913414952975, -0.3322444532780876, -0.3463303416715553, -0.27265123341715436, 3.7204202796901638, 3.7216649831273783, -0.2487405793884293, -0.34458891492408716, -0.3319394528103656, 2.465506265803153, -0.33549665974275655, -0.29083691272657475], \"y\": [1.0192039363698289, 1.01966686041914, 1.8164727087536277, 1.3159740810911058, 1.2629772414222875, 0.864929730838193, 0.575065049046156, 1.8850582859371683, 1.0192093098043828, 1.0195912130016398, 1.019278940381002, 1.019203792960524, 1.0192042309784544, 0.8711836725305254, 1.057142087265123, 1.4475200984634033, 0.13269183377621566, 1.0192176987554904, 1.0271246237229084, 1.3159793345562953, 2.062464203927087, 0.7423076824744312, 0.8651006146220992, 0.7293338927852959, 1.9050730551907586, 1.9050420140497561, 0.5784151738863745, 1.0191973998402484, 1.0192158204434367, 1.037071118323581, 1.0261325084857489, 1.3159760284614817, -0.008603272021347827, 1.761079599173504, 1.3159735137805557, 1.0193318060195036, 1.0192006837611227, 0.10879859045285935, 1.3159784016179146, -0.008557371381843705, 1.90505294646981, 1.0189554347556038, 2.1123906265885415, 1.3177266589935872, 0.8649372089787675, 1.0571739772017998, 0.7293460799149996, 1.9050299448519634, 0.7292666053035629, 1.0192048309746877, 1.9050337149630292, 1.0260964687143952, 1.0192042352099413, 1.3159769506515286, 2.2399017175063904, 1.7477135753783961, 1.134129633819445, 0.7293565895041261, 1.9050298856192946, 0.8646239423100239, 1.885160602234857, 1.1772549628978797, 0.8649311819006892, 1.3136855968820054, 0.8649359663557881, 1.5927454330984565, 1.019195195560739, 0.7292793112681064, 1.3158523109181743, 0.7183315166757946, 0.8649255164687929, 0.8609339972414565, 1.447522052395845, 1.3160326339319528, 0.8648616887270519, 0.864768735656349, 1.5866287076185464, 1.3159438127857106, 1.2439147595085527, 1.0190221012575489, 1.019191679425312, 1.0192310142859546, 1.6150936595231835, 1.0262795052846667, 1.3159685789980151, 1.0191997619138382, 0.8649296469046419, 1.315975412802436, 1.0191983973462304, 1.019205118677377, 0.7294328781366398, 0.23357448665173644, 1.980736941359986, 1.4475366950811792, 1.0192243678503417, 1.3156292961681233, 1.4475937284816354, 1.6151590287849047, 2.0427001977424712, 1.4474255486978678, 1.9736959692356542, 1.4216295055487185, 1.3159770466665426, 1.9609343447234322, 1.3159770714838557, 1.4475301757740955, 1.0192012986530778, 1.0191912039907702, 1.447522052395845, 1.3159594053958767, 0.8649371903140556, 1.0192050975924798, 0.7078619469924091, 1.0192012062571796, 1.0189902110464624, 1.3159748311148618, 1.0191602699235285, 0.7389251174502092, 1.01920164998543, 1.0192048342053968, 1.4825834269678044, 0.49322532298909916, 1.0190491935461479, 0.86493082359228, 1.3159763089914687, 1.0192043674702407, 1.0191966954031766, 0.7293126644357065, 0.27138335797632335, 1.6151622848318943, 1.0194747156334492, 0.7293398232947845, 1.3159501806497307, 2.103438391750408, 1.316006198010358, 1.4475470165650728, 1.3159552750128227, 1.4476258148324348, 1.3158808312820585, 1.019200024093372, 1.0191949494637003, 1.018865542757102, 0.5497208767560922, 1.3159729457221685, 0.7288319933564895, 1.4475134179479034, 1.0191813907212843, 1.879459174682167, 0.5750005075967214, 1.243929664205892, 2.1247018786731817, 1.5866074846971085, 1.5866060473015013, 2.0237037865604672, 1.9050355780607557, 1.00778170229092, 1.9050397337320821, 1.4586772433939816, 2.023728487128238, 1.3159804686700725, 0.729334991092128, 1.742261575390887, 1.4474982109149064, 1.0191995024276417, 1.01920507363141, 1.2625101067856275, 1.565678410158255, 1.3159713094991181, 0.578390322565991, 1.0191993027570803, 0.6360712927296579, 1.0402714415573462, 0.8649586297371792, 1.5865435420428324, 2.050728998741018, 1.0191981338800284, 1.7724075002122328, 1.4777945439148557, 1.0192089001988236, 0.5774989853561564, 1.3159505367103235, 1.421612131675073, 1.5937560254529128, 1.9050735098133253, 1.01920044769048, 1.2967325909895409, 1.482585657288214, 1.0052624688214247, 1.019158263044679, 1.315986625838098, 1.4825580918389023, 1.0192593229872637, 1.0192041079933885, 1.0260971767572908, 1.2439065801148173, -0.09086316061729073, 0.3171174560003774, 1.0192684918855353, 1.6150277551705932, 0.9065312774495659, 1.315968881866412, 1.6024192563434398, 0.7293030973330714, 1.4042965386917088, 1.5865997977883055, 1.0192034356607533, 1.0192029633628505, 0.7293230743568413, 1.5193189942258547, 1.447500164646394, 1.0191997973532727, 1.4015394958035068, 1.77247395036568, 1.4474962910625848, 0.7166443049285182, 1.0183249425642118, 1.4205922614672255, 0.7293442963537062, 1.0219658849633892, 0.7293192591638725, 1.9755650731695187, 1.0191886500119152, 1.595274812659886, 0.05601912923205669, 1.482363598677442, 0.5750632477559148, 1.378610574701195, 1.0065258325494197, 1.482579300990254, 1.7724583850390478, 0.723612918677969, 0.9259295630782155, 1.4825884856216522, 1.0188685315149526, 1.0260947192272505, 1.315977847478292, 0.7293071296734033, 1.4474511948368336, 0.7739794161236699, 1.0260704789436146, 1.0137533845206697, 1.0854851647309962, 1.3125520997775741, 1.324858687768474, 1.0365906665719316, 1.7724597541540756, 1.0192058302788753, 1.7724612065319232, 1.4825787478564159, 1.0126568807306644, 1.0260953671221054, 1.019188008346893, 1.6023912218806, 1.9744315054407713, 1.3158431730677294, 1.3159803580482141, 1.4218766753681207, 1.0166860132177735, 1.316123871569975, 1.0191383525041697, 1.019198100836658, 0.5750575362052474, 1.0192098063592583, 1.3160726266791625, 1.0162453383096302, 0.8758059048216703, 1.315938558365107, 1.019235424540263, 1.0193148788636748, 1.3160283058781288, 1.0192128998379943, 1.447515917489025, 0.8360486308005414, 0.8649463467333957, 1.4216248767093629, 0.7320344608372343, 1.0192559186066776, 0.5783947918843267, 1.9050328217420582, 1.4222278951352088, 1.4222899629704877, 0.5753327511623031, 1.447519370305997, 1.5929790356344233, 0.6186038169548932, 1.0191283619118179, 0.7293292510907182], \"z\": [-0.5104279176045624, -0.5107347315761094, -0.6091656057944065, -0.4554467893410854, 0.024099832903670442, -0.39043268926805336, -0.10638831525010846, -0.6250694391736914, -0.5104341002859044, -0.5105744633173949, -0.510456299159594, -0.5104279870528385, -0.5104282765239396, 0.0763812275250038, -0.41707549285141154, -0.1170137563935424, -0.36673546415274666, -0.5104628192508259, -0.17178348376837782, -0.45544877725565175, -0.5566663780939015, -0.23129315569332065, -0.3910905381649492, -0.22638786917823853, -0.5649534245081936, -0.5649416785207412, -0.25844098427331025, -0.5105293730313835, -0.510456664603469, -0.5171888705830396, -0.17140806673309272, -0.4554420825818416, 0.0951023671268251, -0.20097001749415236, -0.4554436052743, -0.510872223033233, -0.5104514317726294, -0.31104555346632484, -0.45544434131151296, 0.09510974326336581, -0.5649458153554263, -0.5105813341022164, 0.7739584184005337, -0.08070456392992374, -0.39044690168631335, -0.41708647619410266, -0.22638847706008514, -0.5649400809247563, -0.2264821286549633, -0.5104282561132188, -0.5649410126378224, -0.17139937825427443, -0.5104329796689918, -0.4554424312916909, -0.36018078616406124, -0.6699925925864441, -0.21478191915627767, -0.22641719886293477, -0.5649494615987858, -0.39055898447862547, -0.6250280557704616, -0.46029661462373533, -0.3904332383510226, -0.46114517048380615, -0.3904322031205873, -0.6027136681683442, -0.5104350029528818, -0.2264179111640224, -0.45549028821329596, -0.24671807731982903, -0.390435548642176, 0.08962630408654401, -0.11701944475634832, -0.4554820606060789, -0.3904566114263477, -0.3904962357763907, -0.6004213658362856, -0.45546428740727884, -0.14600853432652555, -0.5108540104254082, -0.5104342498275009, -0.5104629088624721, -0.2809174833941915, -0.1716262648525746, -0.4554516359365173, -0.5104486084482666, -0.3904324100578679, -0.4554425917176482, -0.5104310180673358, -0.5104283649800988, -0.22642132156223138, -0.3032812979535844, -0.7102286902798836, -0.11703834784030433, -0.510435648879363, -0.45568205312939647, -0.11705151600098461, -0.2808933478838706, -0.6337250284238054, -0.11705246105490962, -0.7044727457013592, 0.6038481746491324, -0.45544989111413, -0.5863017041390428, -0.4554434305191851, -0.11702994213813002, -0.5104364561910144, -0.5104334925402725, -0.11701944475634832, -0.45545063913641254, -0.3904350170391001, -0.5104365228408867, -0.08251644513026574, -0.5104338131087569, -0.5105080493614134, -0.45544286650605437, -0.5104470269366075, -0.2380589966113064, -0.5104302692706603, -0.5104290778266366, -0.14514322853384565, -0.2830918394139737, -0.5104930876497763, -0.39043285531721683, -0.4554445031313916, -0.5104330297163726, -0.5104306050039529, -0.2263894423537274, -0.15308039210565122, -0.2808975554890444, -0.5107778303159015, -0.22639462835826205, -0.45545704647367885, -0.6561485561920574, -0.4554807179752515, -0.11705123345254506, -0.45545897418390585, -0.11715273940528621, -0.45552978449956794, -0.5104316861187591, -0.5104315940039401, -0.5105473189129425, -0.11535369699397467, -0.4554508138109424, -0.22668884573323847, -0.11701865197253439, -0.510445368522495, -0.6451345954248489, -0.10641031037430447, -0.14603062967694697, -0.7622573373287704, -0.6003935390952223, -0.6004202146482333, -0.7236560898602896, -0.564946666628716, -0.5184782207984034, -0.5649454919974999, -0.03854109282009555, -0.7236654365708076, -0.45544611508327426, -0.22638858812462107, -4.089971278787122, -0.11702071702271696, -0.5104381797294283, -0.5104293872233181, 0.02514494278759748, -0.1087730919775211, -0.4554469778173059, -0.2585296275032482, -0.51043005744033, -0.07604933958707681, -0.5245861168392697, -0.39046292570453855, -0.6006638082693675, -0.4843762905343266, -0.5104309183715573, -0.42921566366984343, -0.22208337757871702, -0.5104334552643247, -0.10953327226227721, -0.45546806899300174, 0.6037619553052386, -0.6105195672531197, -0.565005560969737, -0.5104785619077689, -0.3163520355022997, -0.14514530973688758, -0.5175249412549745, -0.5104477522304371, -0.45545846487225583, -0.1451596239210316, -0.5106715806342528, -0.5104289723353426, -0.1713998936278323, -0.14600333591649498, 0.0995944335468359, -0.3760694389541176, -0.5105097537672395, -0.28104101495128353, -0.44353856148305537, -0.4554455643001969, -0.48333548943305377, -0.22640289618370155, -0.06194365673304997, -0.6004005283511155, -0.5104284704745702, -0.5104287866560971, -0.22650349658055624, -0.11699895727874401, -0.11702798899607363, -0.5104337748779777, 0.47735540775570723, -0.42924080845007356, -0.11702454363208958, -0.012439722740749356, -0.5113627309530719, -0.24267301660125232, -0.22639423585095036, -0.5139970273953998, -0.22638921585660784, -0.7033474035114184, -0.5104429189994681, -0.340993808365284, -0.3240325572538694, -0.14521717591389235, -0.10640935036997895, 0.2664812478303125, -0.29649741134421603, -0.1451431519593822, -0.4291867031985724, -0.2283959957502418, -0.36009598905459506, -0.14516617595417888, -0.5105484498608099, -0.17140737698590808, -0.45545514313533514, -0.2264380751798528, -0.11703964764960162, -0.39102266752919257, -0.17140933968264385, -0.5128195194937676, 0.2804617592117783, -0.19929005523428325, -0.2766668730428272, -0.17536544038909757, -0.4291993089418173, -0.5104338306937647, -0.4291912066917784, -0.1451410546121547, -0.52645974339204, -0.17139888717615032, -0.5104426761930168, -0.48343375903220975, -0.7041309641786668, -0.4554957386332453, -0.4554511441430559, 0.6035381269656458, -0.5181358725550389, -0.4554980262604593, -0.5104525905531014, -0.5104391350838156, -0.10638757570859209, -0.5104301388018975, -0.4556023599995355, -0.5119066038146268, -0.39458981195050596, -0.45567535330270037, -0.5104435444829936, -0.5105688781748627, -0.455513333674747, -0.5104709013244624, -0.11701440135727385, -0.13599764512827942, -0.39045951505649545, 0.603841285658096, -0.22988244524751264, -0.5105218226085467, -0.25844722741354037, -0.5649382298396362, 0.6036526748594676, 0.6036291883512127, -0.10673397045632395, -0.11701561737346738, -0.12931473516552003, 0.23031655553526467, -0.5104611825904436, -0.22638235647197505]}, {\"customdata\": [[\"SHA-256\"], [\"Ethash\"], [\"Scrypt\"], [\"CryptoNight-V7\"], [\"Ethash\"], [\"Equihash\"], [\"Multiple\"], [\"Scrypt\"], [\"X11\"], [\"Scrypt\"], [\"Multiple\"], [\"Scrypt\"], [\"SHA-256\"], [\"Scrypt\"], [\"Scrypt\"], [\"Quark\"], [\"Groestl\"], [\"Scrypt\"], [\"Scrypt\"], [\"Scrypt\"], [\"X11\"], [\"Multiple\"], [\"SHA-256\"], [\"Scrypt\"], [\"Scrypt\"], [\"Scrypt\"], [\"Scrypt\"], [\"Scrypt\"], [\"NeoScrypt\"], [\"Scrypt\"], [\"Scrypt\"], [\"Scrypt\"], [\"Scrypt\"], [\"SHA-256\"], [\"Scrypt\"], [\"Scrypt\"], [\"Scrypt\"], [\"Scrypt\"], [\"HybridScryptHash256\"], [\"Scrypt\"], [\"Scrypt\"], [\"SHA-256\"], [\"Scrypt\"], [\"Scrypt\"], [\"Scrypt\"], [\"Scrypt\"], [\"SHA-256\"], [\"SHA-256\"], [\"SHA-256\"], [\"SHA-256\"], [\"SHA-256\"], [\"X11\"], [\"Scrypt\"], [\"Lyra2REv2\"], [\"Scrypt\"], [\"SHA-256\"], [\"CryptoNight\"], [\"CryptoNight\"], [\"Scrypt\"], [\"Scrypt\"], [\"Scrypt\"], [\"Scrypt\"], [\"Scrypt\"], [\"Scrypt\"], [\"Stanford Folding\"], [\"Multiple\"], [\"QuBit\"], [\"Scrypt\"], [\"Scrypt\"], [\"M7 POW\"], [\"Scrypt\"], [\"SHA-256\"], [\"Scrypt\"], [\"X11\"], [\"Lyra2RE\"], [\"SHA-256\"], [\"X11\"], [\"Scrypt\"], [\"Scrypt\"], [\"Ethash\"], [\"Blake2b\"], [\"X11\"], [\"SHA-256\"], [\"Scrypt\"], [\"1GB AES Pattern Search\"], [\"Scrypt\"], [\"SHA-256\"], [\"X11\"], [\"Dagger\"], [\"Scrypt\"], [\"X11GOST\"], [\"Scrypt\"], [\"X11\"], [\"Scrypt\"], [\"X11\"], [\"Equihash\"], [\"CryptoNight\"], [\"SHA-256\"], [\"Multiple\"], [\"Scrypt\"], [\"SHA-256\"], [\"Scrypt\"], [\"Lyra2Z\"], [\"Ethash\"], [\"Equihash\"], [\"Scrypt\"], [\"X11\"], [\"X11\"], [\"CryptoNight\"], [\"Scrypt\"], [\"CryptoNight\"], [\"Lyra2RE\"], [\"X11\"], [\"CryptoNight-V7\"], [\"Scrypt\"], [\"X11\"], [\"Equihash\"], [\"Scrypt\"], [\"Lyra2RE\"], [\"Dagger-Hashimoto\"], [\"Scrypt\"], [\"NIST5\"], [\"Scrypt\"], [\"SHA-256\"], [\"Scrypt\"], [\"CryptoNight-V7\"], [\"Argon2d\"], [\"Blake2b\"], [\"Cloverhash\"], [\"CryptoNight\"], [\"X11\"], [\"Scrypt\"], [\"Scrypt\"], [\"X11\"], [\"X11\"], [\"CryptoNight\"], [\"Time Travel\"], [\"Scrypt\"], [\"Keccak\"], [\"X11\"], [\"SHA-256\"], [\"Scrypt\"], [\"Scrypt\"], [\"Scrypt\"], [\"Scrypt\"], [\"Scrypt\"], [\"Scrypt\"], [\"CryptoNight\"], [\"Equihash\"], [\"X11\"], [\"NeoScrypt\"], [\"Equihash\"], [\"Dagger\"], [\"Scrypt\"], [\"X11\"], [\"NeoScrypt\"], [\"Ethash\"], [\"NeoScrypt\"], [\"Multiple\"], [\"CryptoNight\"], [\"CryptoNight\"], [\"Ethash\"], [\"X11\"], [\"CryptoNight-V7\"], [\"Scrypt\"], [\"BLAKE256\"], [\"X11\"], [\"NeoScrypt\"], [\"NeoScrypt\"], [\"Scrypt\"], [\"X11\"], [\"SHA-256\"], [\"C11\"], [\"CryptoNight\"], [\"SkunkHash\"], [\"CryptoNight\"], [\"Scrypt\"], [\"Dagger\"], [\"Lyra2REv2\"], [\"Scrypt\"], [\"Scrypt\"], [\"X11\"], [\"Ethash\"], [\"CryptoNight\"], [\"Scrypt\"], [\"IMesh\"], [\"Equihash\"], [\"Lyra2Z\"], [\"X11\"], [\"CryptoNight\"], [\"NIST5\"], [\"Lyra2RE\"], [\"Tribus\"], [\"Lyra2Z\"], [\"CryptoNight\"], [\"CryptoNight Heavy\"], [\"CryptoNight\"], [\"Jump Consistent Hash\"], [\"CryptoNight\"], [\"X16R\"], [\"HMQ1725\"], [\"X11\"], [\"Scrypt\"], [\"CryptoNight-V7\"], [\"Cryptonight-GPU\"], [\"XEVAN\"], [\"CryptoNight Heavy\"], [\"SHA-256\"], [\"X11\"], [\"X16R\"], [\"Equihash\"], [\"Lyra2Z\"], [\"SHA-256\"], [\"CryptoNight\"], [\"Blake\"], [\"Blake\"], [\"Equihash\"], [\"Exosis\"], [\"Scrypt\"], [\"Equihash\"], [\"Equihash\"], [\"QuBit\"], [\"SHA-256\"], [\"X13\"], [\"SHA-256\"], [\"Scrypt\"], [\"NeoScrypt\"], [\"Blake\"], [\"Scrypt\"], [\"SHA-256\"], [\"Scrypt\"], [\"Groestl\"], [\"Scrypt\"], [\"Scrypt\"], [\"Multiple\"], [\"Equihash+Scrypt\"], [\"Ethash\"], [\"CryptoNight\"], [\"Equihash\"]], \"hovertemplate\": \"<b>%{hovertext}</b><br><br>class=%{marker.color}<br>PC 1=%{x}<br>PC 2=%{y}<br>PC 3=%{z}<br>Algorithm=%{customdata[0]}<extra></extra>\", \"hovertext\": [\"Bitcoin\", \"Ethereum\", \"Litecoin\", \"Monero\", \"Ethereum Classic\", \"ZCash\", \"DigiByte\", \"ProsperCoin\", \"Spreadcoin\", \"Argentum\", \"MyriadCoin\", \"MoonCoin\", \"ZetaCoin\", \"SexCoin\", \"Quatloo\", \"QuarkCoin\", \"Riecoin\", \"Digitalcoin \", \"Catcoin\", \"CannaCoin\", \"CryptCoin\", \"Verge\", \"DevCoin\", \"EarthCoin\", \"E-Gulden\", \"Einsteinium\", \"Emerald\", \"Franko\", \"FeatherCoin\", \"GrandCoin\", \"GlobalCoin\", \"GoldCoin\", \"Infinite Coin\", \"IXcoin\", \"KrugerCoin\", \"LuckyCoin\", \"Litebar \", \"MegaCoin\", \"MediterraneanCoin\", \"MinCoin\", \"NobleCoin\", \"Namecoin\", \"NyanCoin\", \"RonPaulCoin\", \"StableCoin\", \"SmartCoin\", \"SysCoin\", \"TigerCoin\", \"TerraCoin\", \"UnbreakableCoin\", \"Unobtanium\", \"UroCoin\", \"ViaCoin\", \"Vertcoin\", \"WorldCoin\", \"JouleCoin\", \"ByteCoin\", \"DigitalNote \", \"MonaCoin\", \"Gulden\", \"PesetaCoin\", \"Wild Beast Coin\", \"Flo\", \"ArtByte\", \"Folding Coin\", \"Unitus\", \"CypherPunkCoin\", \"OmniCron\", \"GreenCoin\", \"Cryptonite\", \"MasterCoin\", \"SoonCoin\", \"1Credit\", \"MarsCoin \", \"Crypto\", \"Anarchists Prime\", \"BowsCoin\", \"Song Coin\", \"BitZeny\", \"Expanse\", \"Siacoin\", \"MindCoin\", \"I0coin\", \"Revolution VR\", \"HOdlcoin\", \"Gamecredits\", \"CarpeDiemCoin\", \"Adzcoin\", \"SoilCoin\", \"YoCoin\", \"SibCoin\", \"Francs\", \"BolivarCoin\", \"Omni\", \"PizzaCoin\", \"Komodo\", \"Karbo\", \"ZayedCoin\", \"Circuits of Value\", \"DopeCoin\", \"DollarCoin\", \"Shilling\", \"ZCoin\", \"Elementrem\", \"ZClassic\", \"KiloCoin\", \"ArtexCoin\", \"Kurrent\", \"Cannabis Industry Coin\", \"OsmiumCoin\", \"Bikercoins\", \"HexxCoin\", \"PacCoin\", \"Citadel\", \"BeaverCoin\", \"VaultCoin\", \"Zero\", \"Canada eCoin\", \"Zoin\", \"DubaiCoin\", \"EB3coin\", \"Coinonat\", \"BenjiRolls\", \"ILCoin\", \"EquiTrader\", \"Quantum Resistant Ledger\", \"Dynamic\", \"Nano\", \"ChanCoin\", \"Dinastycoin\", \"DigitalPrice\", \"Unify\", \"SocialCoin\", \"ArcticCoin\", \"DAS\", \"LeviarCoin\", \"Bitcore\", \"gCn Coin\", \"SmartCash\", \"Onix\", \"Bitcoin Cash\", \"Sojourn Coin\", \"NewYorkCoin\", \"FrazCoin\", \"Kronecoin\", \"AdCoin\", \"Linx\", \"Sumokoin\", \"BitcoinZ\", \"Elements\", \"VIVO Coin\", \"Bitcoin Gold\", \"Pirl\", \"eBoost\", \"Pura\", \"Innova\", \"Ellaism\", \"GoByte\", \"SHIELD\", \"UltraNote\", \"BitCoal\", \"DaxxCoin\", \"AC3\", \"Lethean\", \"PopularCoin\", \"Photon\", \"Sucre\", \"SparksPay\", \"GunCoin\", \"IrishCoin\", \"Pioneer Coin\", \"UnitedBitcoin\", \"Interzone\", \"TurtleCoin\", \"MUNcoin\", \"Niobio Cash\", \"ShareChain\", \"Travelflex\", \"KREDS\", \"BitFlip\", \"LottoCoin\", \"Crypto Improvement Fund\", \"Callisto Network\", \"BitTube\", \"Poseidon\", \"Aidos Kuneen\", \"Bitrolium\", \"Alpenschillling\", \"FuturoCoin\", \"Monero Classic\", \"Jumpcoin\", \"Infinex\", \"KEYCO\", \"GINcoin\", \"PlatinCoin\", \"Loki\", \"Newton Coin\", \"MassGrid\", \"PluraCoin\", \"Motion\", \"PlusOneCoin\", \"Axe\", \"HexCoin\", \"Webchain\", \"Ryo\", \"Urals Coin\", \"Qwertycoin\", \"Project Pai\", \"Azart\", \"Xchange\", \"CrypticCoin\", \"Actinium\", \"Bitcoin SV\", \"FREDEnergy\", \"Universal Molecule\", \"Lithium\", \"PirateCash\", \"Exosis\", \"Block-Logic\", \"Beam\", \"Bithereum\", \"SLICE\", \"BLAST\", \"Bitcoin Rhodium\", \"GlobalToken\", \"SolarCoin\", \"UFO Coin\", \"BlakeCoin\", \"Crypto Escudo\", \"Crown Coin\", \"SmileyCoin\", \"Groestlcoin\", \"Bata\", \"Pakcoin\", \"JoinCoin\", \"Vollar\", \"Reality Clash\", \"Beldex\", \"Horizen\"], \"legendgroup\": \"1\", \"marker\": {\"color\": [1, 1, 1, 1, 1, 1, 1, 1, 1, 1, 1, 1, 1, 1, 1, 1, 1, 1, 1, 1, 1, 1, 1, 1, 1, 1, 1, 1, 1, 1, 1, 1, 1, 1, 1, 1, 1, 1, 1, 1, 1, 1, 1, 1, 1, 1, 1, 1, 1, 1, 1, 1, 1, 1, 1, 1, 1, 1, 1, 1, 1, 1, 1, 1, 1, 1, 1, 1, 1, 1, 1, 1, 1, 1, 1, 1, 1, 1, 1, 1, 1, 1, 1, 1, 1, 1, 1, 1, 1, 1, 1, 1, 1, 1, 1, 1, 1, 1, 1, 1, 1, 1, 1, 1, 1, 1, 1, 1, 1, 1, 1, 1, 1, 1, 1, 1, 1, 1, 1, 1, 1, 1, 1, 1, 1, 1, 1, 1, 1, 1, 1, 1, 1, 1, 1, 1, 1, 1, 1, 1, 1, 1, 1, 1, 1, 1, 1, 1, 1, 1, 1, 1, 1, 1, 1, 1, 1, 1, 1, 1, 1, 1, 1, 1, 1, 1, 1, 1, 1, 1, 1, 1, 1, 1, 1, 1, 1, 1, 1, 1, 1, 1, 1, 1, 1, 1, 1, 1, 1, 1, 1, 1, 1, 1, 1, 1, 1, 1, 1, 1, 1, 1, 1, 1, 1, 1, 1, 1, 1, 1, 1, 1, 1, 1, 1, 1, 1, 1, 1, 1, 1, 1, 1, 1, 1, 1, 1, 1, 1, 1, 1, 1, 1, 1, 1, 1, 1, 1, 1], \"coloraxis\": \"coloraxis\", \"symbol\": \"diamond\"}, \"mode\": \"markers\", \"name\": \"1\", \"scene\": \"scene\", \"showlegend\": true, \"type\": \"scatter3d\", \"x\": [-0.14674530895119434, -0.15304100653027672, -0.1685380703050798, -0.14806370864819507, -0.15148238917644138, -0.13670957783067217, 0.1550381980831428, -0.1696848342399509, -0.22291306738733171, -0.1693012110989012, -0.09848040928656973, 2.553294412266825, -0.14382890533807502, -0.16655537614496657, -0.16910516550244412, -0.22507260683059951, -0.19639749872763596, -0.16915393069491783, -0.169667091611235, -0.1697535846245892, -0.22300245215477588, 0.17880154880959176, 0.23127347025451853, 0.07909024719928717, -0.1694997603586625, -0.16510309140716145, -0.16943903080065606, -0.16981061430088984, -0.17428968132404374, -0.14902362385683826, -0.16860516613739565, -0.16888275036498063, 1.5798993763600424, -0.14670665954615972, -0.16617093079907605, -0.16952621427975567, -0.16988119035036509, -0.1691401023925097, -0.14965991078543855, -0.16976240381303154, -0.034610267793476736, -0.1467843079295529, -0.16342341608994956, -0.16974184145150914, -0.16783537803059603, -0.16922835139970102, -0.13393061696223693, -0.14624782935279126, -0.1465351714649361, -0.14651816971011647, -0.1471091187200259, -0.2231764210904144, -0.16945819376886187, -0.18441567549558432, -0.16656010117724274, -0.14631515579980198, 3.8611500327600736, 0.4585595936667864, -0.16832528255044366, -0.15291756890178076, -0.16704351044073226, -0.16988340146638156, -0.16690848037594155, -0.15312587893576954, -0.1230508151943294, -0.13250243906537712, -0.18391189330455932, -0.1697564176252484, -0.04263813004830468, -0.12101011895658727, -0.16989229720295698, -0.14681209901385403, 0.48252983174215286, -0.2225633269681224, -0.15037115965831438, -0.14655185304066742, -0.22284835799160538, -0.16801528394342016, -0.1672071541975076, -0.15410899573708345, 0.3676926405819247, -0.22288376915969216, -0.14670778244556965, -0.16584830528498948, -0.15673516711326216, -0.16845499629724595, 0.27196792056500996, -0.2220441204944328, -0.148337868296501, -0.16870259201920784, -0.14531661509518917, -0.16968211744322703, -0.2228469998829137, -0.1698923557246159, -0.22299704428046818, -0.20416473340435026, 0.30339430258051303, -0.1469679880223807, -0.11256586938523763, -0.16705779826208586, -0.1469265979928112, -0.1695556084692695, -0.15537468851391834, -0.15385103201364875, -0.13673120547158937, -0.09658839434281616, -0.2095740752178476, -0.22082425187098828, 0.3033886571463052, -0.16987408589035188, 0.3035194347233669, -0.15091183558803642, 0.4925383618849179, -0.14682791890506086, -0.16984235788333082, -0.21572812942380812, -0.1367435839348312, -0.16797476789050864, -0.15063008437024225, -0.15411404526657857, -0.14075420041541414, -0.19065729890691738, -0.16940454022406634, -0.11327813154314001, -0.16922654004168147, -0.14668553663862838, -0.14977926752985934, -0.032806713545037364, -0.1415501865435202, 0.33952716290832047, -0.22205252785532026, -0.1695459258298201, -0.16930922441494872, -0.22244737694002237, -0.22302508689744183, 0.30378381818039074, -0.17023965790662215, 3.241355559042496, -0.12248927572164092, -0.2138933996411347, -0.14674447275894256, -0.09543586764674772, 1.5779826992505745, -0.16964382175069412, -0.1690952351599751, -0.16879607361150487, -0.1687829981331042, 0.3039674966928155, 0.07567395609487709, -0.1773907580756855, -0.1789805274610167, -0.13658956220534385, -0.14709643329074534, -0.16797297616775758, -0.21856753415061617, -0.17882587464459757, -0.15221558854200334, -0.17892612078603265, -0.1227298719634503, 1.1416895860445686, 0.3033714235847491, -0.07707397989654607, -0.21830910450204646, -0.13579281810594873, -0.08599383034034135, 1.1076674557155042, -0.22299907331257526, -0.17897808123106743, -0.17201283375111484, -0.1688944826694571, -0.22292444616589283, -0.1467238595485516, -0.20881832572093262, 8.044388142562719, -0.15945326613486094, 0.3072475540557923, 0.02323652695600045, -0.14659937065931525, -0.16996727095981057, -0.16946847391377315, 0.13774704163471366, -0.2170627781618076, -0.10523493466369052, 0.31129783330038263, -0.16970558909772973, -0.17428016860439857, -0.1355801888155372, -0.15315728684685925, -0.22209332033644819, 0.30355402829671196, -0.19071677256326997, -0.1507570082629601, -0.15922484055056488, -0.1554590996410354, 0.30748380887384746, 0.5787558829505955, 2.112812596278516, -0.14242444156139972, 0.3171650434561064, -0.19086694290329986, -0.1443534756637823, -0.2229812255110105, -0.16973018372466986, -0.1356731098782091, -0.15503719326034476, -0.15588764453642162, 3.1024366404378174, -0.10655378161401574, -0.2229525795677085, -0.19029443328068163, -0.03128880792779642, -0.15485660227195128, -0.1467445103428706, 0.3833483364084687, -0.13891834323161462, -0.13931050992191293, -0.2569807196133369, -0.15041712402047752, -0.16862199778450604, -0.13464886474498522, -0.13642230505132538, -0.18312254175917636, -0.14602032380953048, -0.10507680161873774, -0.1448877713645132, 0.5264670386138762, -0.1041093776891544, -0.08975599041360209, -0.15327653915364103, -0.1465345416061453, 0.5462667133704981, -0.1959582960878963, -0.16980704909521288, -0.16776186676542576, -0.13323768788685758, -0.13130179505720002, -0.1538842057777924, 0.32513837209948, -0.1367106352987977], \"y\": [-1.3135713674316278, -1.9794351204895264, -1.1592976709419458, -2.18401201005534, -1.9795027880627523, -2.184359257150859, -1.8974163019124193, -1.1593112382983566, -0.8625355280181831, -1.1593218788237067, -1.8969039155152791, -1.2893678038573222, -1.3135289546966187, -1.1593137292506526, -1.1593370267118284, -0.40598051997795187, -1.1213682728020173, -1.1593035722805085, -1.1593103535522205, -1.1593092248759544, -0.8625386005835538, -1.893153930667641, -1.3092456002253838, -1.1562378198087586, -1.1593020094854243, -1.1592757829754496, -1.1593065967810967, -1.1593107503705835, -1.6000837132630346, -1.1592499445220146, -1.1592913241197933, -1.1593067207742755, -1.1347776274146992, -1.313569440157363, -1.159305234921019, -1.159302636296937, -1.159307425458707, -1.1592986138293528, -2.252078466901081, -1.1593074907394838, -1.1629460519421186, -1.3135733121375683, -1.1592177848503709, -1.159314080994947, -1.159377557262867, -1.159309383834179, -1.3135326040926945, -1.3135645691488471, -1.313575427698183, -1.3136008883641368, -1.3135751432016987, -0.8625348137362471, -1.159301321400312, -1.2525696202600272, -1.159324641120283, -1.313566533477909, -2.2432972668953646, -2.292180635615262, -1.1593016821307462, -1.1596237015309527, -1.159280182019007, -1.1593084205125663, -1.1592690274617838, -1.159163305916145, -2.0757610527657926, -1.897215786909004, -1.6852740969452664, -1.1593026030251767, -1.159884725271787, -2.1439286503260107, -1.1593074735472317, -1.3135746979555807, -1.1904678348200213, -0.8625270882813134, -2.118791494651651, -1.3135844013128342, -0.8625329935759635, -1.1593590014066901, -1.1593462305289446, -1.979500081144352, -2.094102218251891, -0.8625312977332024, -1.3135694961513724, -1.1592507776412861, -2.1912620503966838, -1.159293528409929, -1.307649939873397, -0.8625365064925495, -2.1851617223089606, -1.1593642736852263, -2.1598270470962024, -1.1593104104956582, -0.8625356951655324, -1.159307474367693, -0.8625431772136037, -2.11169673040095, -2.2930016821450434, -1.31357467306468, -1.897052432402061, -1.1593041664061638, -1.3135732338138972, -1.1593110253357417, -2.1276626349182646, -1.9794936556959049, -2.184360335625308, -1.1625749854714233, -0.8622026891798596, -0.8625753723063417, -2.293009579266945, -1.1593080157243638, -2.293005827282109, -2.1187798313976653, -0.8960781050269496, -2.184078467405875, -1.1593068806354418, -0.8628557285983737, -2.184358183571902, -1.1592806588006623, -2.118773397324954, -1.9149221208539189, -1.1606233695407668, -0.5919134213394501, -1.1593073141610044, -1.31361878922508, -1.1593236939343836, -2.1840159811858557, -1.9264884315547444, -2.1143089303052895, -2.081397760839504, -2.29257762972059, -0.8625480029800009, -1.1593031185327554, -1.1593298940213645, -0.8625399992269448, -0.8625403523729915, -2.2930127211677336, -2.048220451331296, -1.1276688773581576, -1.404738692512915, -0.8628334715788438, -1.313571325734435, -1.1628636781336572, -1.0721482772636473, -1.159308500859463, -1.1593254542800469, -1.1593216136712605, -1.159320961655194, -2.2930277164933743, -2.1882929843856704, -0.8614978765497971, -1.600103695553106, -2.1843532725043633, -2.1851872631567817, -1.159280569455402, -0.8625473038398425, -1.6001084456095354, -1.9795878124278636, -1.6001043057086362, -1.8971854089166702, -2.3100405831420554, -2.2930045538392676, -1.9825702631345403, -0.8626728827214549, -2.1840920843576033, -1.1585850410663474, -1.0133996887178496, -0.8625396782862811, -1.6000994196018454, -1.600083718790561, -1.1593015970823641, -0.862538172411676, -1.3135697204434937, -1.2719811341801746, -2.5993138628847294, -2.3018772756605275, -2.2930352365605278, -1.1565998485391005, -2.185123494116205, -1.2525525478159698, -1.159313603603294, -1.156710105897741, -0.8625761175539461, -1.9815513765764667, -2.2932929729753, -1.1593122732509848, -2.0938081091447884, -2.184336863611092, -2.1277449455500963, -0.8625500371199603, -2.2929995328886705, -0.5918975197011711, -2.1187833819484743, -2.293254731147203, -2.127659297750134, -2.293206230559863, -2.16477035558088, -2.330155471770033, -2.135186547275941, -2.2930004012488916, -1.1719828149994722, -1.9541253969686103, -0.8625396190893685, -1.1593142648804955, -2.184605720079601, -2.0269236635966794, -0.5761343941438116, -2.166535514963022, -1.3130065445008667, -0.8625409599557534, -1.1720082156688831, -2.1843495460190847, -2.127680139996504, -1.3135713276085788, -2.294601817196255, -2.1548352532253827, -2.1547994979133187, -0.29574684148170266, -2.231696330453746, -1.1593267798445797, -2.184423903472445, -2.184351776488181, -1.6853039682980828, -1.313564985749288, -0.2734787990619542, -1.3135805125091014, -1.1925000827886123, -1.5991208232227165, -2.1571572641228793, -1.1591708186724423, -1.3135753962899213, -1.1582117790378, -1.1213609106061668, -1.1593062553610036, -1.1593268132712307, -1.8972543890227176, -2.3200891222097684, -1.979494120784975, -2.2928798921036253, -2.1843593098820997], \"z\": [0.1190481800449978, 0.32500904212549, -0.0009678888818382728, 0.35927107801088737, 0.3249826831460596, 0.3773882970848404, 0.3154360981318806, -0.0009471656559393191, 0.05403754792868523, -0.0009537796104866662, 0.31994375464857083, -0.04674915807444868, 0.11899531161902731, -0.001002889053940629, -0.000956955828365284, 0.08021053924163868, 0.09238893173869135, -0.00095678869987087, -0.0009475004444387977, -0.0009459825817962394, 0.05403920548872441, 0.31492312796045835, 0.11222006022484592, -0.005445523352885694, -0.0009506578446090387, -0.0010295690761827514, -0.0009516439554577969, -0.0009449341432033263, 0.2509565906946493, -0.0013166922060855416, -0.0009668262278952385, -0.000961555821807997, -0.03264444383451316, 0.11904745076318594, -0.001009919185636261, -0.0009501732090585517, -0.00094374605073772, -0.0009571392062288893, 0.33816529689596214, -0.000945861788152597, -0.0032782985717622567, 0.11904891592295264, -0.0010607225977484946, -0.0009460899777460723, -0.000978736493616485, -0.0009553403665926972, 0.11881897310337006, 0.11903917091740449, 0.1190445200092241, 0.11904475125366776, 0.11905474337956966, 0.054042226637478534, -0.0009514131158055648, 0.1493761135326368, -0.0010025758675203417, 0.11904041208159898, 0.2925298268945038, 0.35419923641576284, -0.0009715971826184191, -0.0012394483838530563, -0.0009948930904272063, -0.0009436857624127041, -0.000997533768324051, -0.0012453965965832504, 0.3900590139436231, 0.32055666633495894, 0.2264076551109332, -0.0009460710418329346, -0.0031994581436083523, 0.4390674556979309, -0.0009435470865771518, 0.1190494403173679, -0.011917663561456343, 0.054031137481103206, 0.31631032118387203, 0.11904500562250546, 0.05403634144446448, -0.0009759194422288314, -0.0009905905496112942, 0.3250294397960256, 0.2762470355429448, 0.054036936984870554, 0.11904747195135476, -0.0010168119958081634, 0.2559711927727356, -0.0009694564185808212, 0.11146128855170122, 0.054022081404707205, 0.37579378214985243, -0.0009635590634194058, 0.47355139508175864, -0.0009472314473292229, 0.05403637392896548, -0.0009435460263412807, 0.054039205140703414, 0.5392373461717636, 0.35698194321238624, 0.11905221817179196, 0.3201979132740122, -0.0009941351565354688, 0.11905145028503408, -0.000949473288216837, 0.35748162498582464, 0.3250247073325756, 0.3773887051802577, -0.002181461976969227, 0.05379282565631643, 0.054001155499884435, 0.35698220954188287, -0.0009438602859682108, 0.3569797999897332, 0.3163197127961608, 0.041990061691406164, 0.35925044732433886, -0.0009444495860572351, 0.053916211348389906, 0.3773888806405897, -0.0009782854817186831, 0.3163145561922746, 0.34158904819665026, -0.0014352566242055653, -0.09091488740538002, -0.0009522436202869261, 0.11845269673355009, -0.0009550723688673335, 0.35924659847315776, 0.3700895096948409, 0.2838090654444099, 0.360335524942644, 0.35632905664955156, 0.05402247248802878, -0.0009498117751125782, -0.0009534686010490414, 0.054029341849855854, 0.05403964566225012, 0.3569752325998087, 0.25286831882628363, -0.062405393981610054, 0.11739338939351585, 0.05388304431042149, 0.11904816426674666, -0.0021959453286671524, -0.03392448897726481, -0.000947954054877199, -0.0009573756490701043, -0.0009627881326966122, -0.0009630348559899257, 0.3569722735964953, 0.3736855752022302, 0.05320443953034528, 0.2510406139559464, 0.3773860324908102, 0.37577219226271885, -0.0009783192900220778, 0.053960345513811035, 0.25103795728613576, 0.3249975349424102, 0.2510396570807387, 0.3203818544968591, 0.3423987261514251, 0.3569824112391113, 0.32372088532623006, 0.05395837470698829, 0.3590540567998217, -0.002454011088646315, 0.031517645091189546, 0.05403916788270228, 0.2510404806313356, 0.25091601103931427, -0.0009614542342802251, 0.05403780621983129, 0.11904776319666577, 0.06594543584405325, 0.2254434647178353, 0.3850592386465436, 0.3569139716299407, -0.0044424575836657255, 0.3757619951000969, 0.14911824443759444, -0.0009509721669045089, -0.006481040571385975, 0.053934131190028684, 0.3242014118740582, 0.3568471926676058, -0.0009467740292080371, 0.32112726937336766, 0.3773676983210332, 0.35744383190125223, 0.05402324220788031, 0.3569790513551273, -0.09091416109680966, 0.3163170278458581, 0.37417222531608546, 0.35748305940076075, 0.35691334902500393, 0.3499156773945807, 0.32551269479337763, 0.3264054953140917, 0.35673648334068236, 0.21300103066687998, 0.38790025834481, 0.05403884854294109, -0.0009462938923093414, 0.3590627013268389, 0.33873107370610533, 0.026127900771252703, 0.30497369044266553, 0.11832000281203109, 0.05403836612892591, 0.21299135995347188, 0.37550920128782306, 0.35747275856878624, 0.11904816497592378, 0.3555905164413452, 0.3442789999155229, 0.3442852391347051, 0.15193799461587595, 0.3490618595662055, -0.000965782242965168, 0.37735292596215997, 0.37738302010983504, 0.22639421348213856, 0.11903512487625201, -0.05545411619301315, 0.11901526544565626, -0.012658102667555942, 0.24968557687750498, 0.3434515144870473, -0.0012425537648333524, 0.11904450812431791, -0.013730489122220269, 0.09238094943590236, -0.0009450920077707797, -0.0009811114742458388, 0.32057058054018867, 0.4561941569988499, 0.32502530834090204, 0.356591847648251, 0.37738831703837705]}, {\"customdata\": [[\"Proof-of-BibleHash\"], [\"SHA-256 + Hive\"], [\"Proof-of-Authority\"], [\"ECC 256K1\"], [\"Leased POS\"]], \"hovertemplate\": \"<b>%{hovertext}</b><br><br>class=%{marker.color}<br>PC 1=%{x}<br>PC 2=%{y}<br>PC 3=%{z}<br>Algorithm=%{customdata[0]}<extra></extra>\", \"hovertext\": [\"BiblePay\", \"LitecoinCash\", \"Poa Network\", \"Acute Angle Cloud\", \"Waves\"], \"legendgroup\": \"3\", \"marker\": {\"color\": [3, 3, 3, 3, 3], \"coloraxis\": \"coloraxis\", \"symbol\": \"square\"}, \"mode\": \"markers\", \"name\": \"3\", \"scene\": \"scene\", \"showlegend\": true, \"type\": \"scatter3d\", \"x\": [-0.1891119558106595, -0.3804866245658205, -0.3807358196313975, -0.3539656824003255, -0.38876905883209995], \"y\": [2.1576649271456576, 2.6875920968564126, 2.9342239361542264, 4.499369727154224, 4.105425797215438], \"z\": [12.559396785276641, 22.87817714368747, 9.694906446796205, 7.560405795491421, 12.482774671698614]}, {\"customdata\": [[\"TRC10\"]], \"hovertemplate\": \"<b>%{hovertext}</b><br><br>class=%{marker.color}<br>PC 1=%{x}<br>PC 2=%{y}<br>PC 3=%{z}<br>Algorithm=%{customdata[0]}<extra></extra>\", \"hovertext\": [\"BitTorrent\"], \"legendgroup\": \"2\", \"marker\": {\"color\": [2], \"coloraxis\": \"coloraxis\", \"symbol\": \"x\"}, \"mode\": \"markers\", \"name\": \"2\", \"scene\": \"scene\", \"showlegend\": true, \"type\": \"scatter3d\", \"x\": [34.07008481185023], \"y\": [2.102178050733116], \"z\": [-0.13620360522202632]}],                        {\"coloraxis\": {\"colorbar\": {\"title\": {\"text\": \"class\"}}, \"colorscale\": [[0.0, \"#0d0887\"], [0.1111111111111111, \"#46039f\"], [0.2222222222222222, \"#7201a8\"], [0.3333333333333333, \"#9c179e\"], [0.4444444444444444, \"#bd3786\"], [0.5555555555555556, \"#d8576b\"], [0.6666666666666666, \"#ed7953\"], [0.7777777777777778, \"#fb9f3a\"], [0.8888888888888888, \"#fdca26\"], [1.0, \"#f0f921\"]]}, \"legend\": {\"title\": {\"text\": \"class\"}, \"tracegroupgap\": 0, \"x\": 0, \"y\": 1}, \"margin\": {\"t\": 60}, \"scene\": {\"domain\": {\"x\": [0.0, 1.0], \"y\": [0.0, 1.0]}, \"xaxis\": {\"title\": {\"text\": \"PC 1\"}}, \"yaxis\": {\"title\": {\"text\": \"PC 2\"}}, \"zaxis\": {\"title\": {\"text\": \"PC 3\"}}}, \"template\": {\"data\": {\"bar\": [{\"error_x\": {\"color\": \"#2a3f5f\"}, \"error_y\": {\"color\": \"#2a3f5f\"}, \"marker\": {\"line\": {\"color\": \"#E5ECF6\", \"width\": 0.5}}, \"type\": \"bar\"}], \"barpolar\": [{\"marker\": {\"line\": {\"color\": \"#E5ECF6\", \"width\": 0.5}}, \"type\": \"barpolar\"}], \"carpet\": [{\"aaxis\": {\"endlinecolor\": \"#2a3f5f\", \"gridcolor\": \"white\", \"linecolor\": \"white\", \"minorgridcolor\": \"white\", \"startlinecolor\": \"#2a3f5f\"}, \"baxis\": {\"endlinecolor\": \"#2a3f5f\", \"gridcolor\": \"white\", \"linecolor\": \"white\", \"minorgridcolor\": \"white\", \"startlinecolor\": \"#2a3f5f\"}, \"type\": \"carpet\"}], \"choropleth\": [{\"colorbar\": {\"outlinewidth\": 0, \"ticks\": \"\"}, \"type\": \"choropleth\"}], \"contour\": [{\"colorbar\": {\"outlinewidth\": 0, \"ticks\": \"\"}, \"colorscale\": [[0.0, \"#0d0887\"], [0.1111111111111111, \"#46039f\"], [0.2222222222222222, \"#7201a8\"], [0.3333333333333333, \"#9c179e\"], [0.4444444444444444, \"#bd3786\"], [0.5555555555555556, \"#d8576b\"], [0.6666666666666666, \"#ed7953\"], [0.7777777777777778, \"#fb9f3a\"], [0.8888888888888888, \"#fdca26\"], [1.0, \"#f0f921\"]], \"type\": \"contour\"}], \"contourcarpet\": [{\"colorbar\": {\"outlinewidth\": 0, \"ticks\": \"\"}, \"type\": \"contourcarpet\"}], \"heatmap\": [{\"colorbar\": {\"outlinewidth\": 0, \"ticks\": \"\"}, \"colorscale\": [[0.0, \"#0d0887\"], [0.1111111111111111, \"#46039f\"], [0.2222222222222222, \"#7201a8\"], [0.3333333333333333, \"#9c179e\"], [0.4444444444444444, \"#bd3786\"], [0.5555555555555556, \"#d8576b\"], [0.6666666666666666, \"#ed7953\"], [0.7777777777777778, \"#fb9f3a\"], [0.8888888888888888, \"#fdca26\"], [1.0, \"#f0f921\"]], \"type\": \"heatmap\"}], \"heatmapgl\": [{\"colorbar\": {\"outlinewidth\": 0, \"ticks\": \"\"}, \"colorscale\": [[0.0, \"#0d0887\"], [0.1111111111111111, \"#46039f\"], [0.2222222222222222, \"#7201a8\"], [0.3333333333333333, \"#9c179e\"], [0.4444444444444444, \"#bd3786\"], [0.5555555555555556, \"#d8576b\"], [0.6666666666666666, \"#ed7953\"], [0.7777777777777778, \"#fb9f3a\"], [0.8888888888888888, \"#fdca26\"], [1.0, \"#f0f921\"]], \"type\": \"heatmapgl\"}], \"histogram\": [{\"marker\": {\"colorbar\": {\"outlinewidth\": 0, \"ticks\": \"\"}}, \"type\": \"histogram\"}], \"histogram2d\": [{\"colorbar\": {\"outlinewidth\": 0, \"ticks\": \"\"}, \"colorscale\": [[0.0, \"#0d0887\"], [0.1111111111111111, \"#46039f\"], [0.2222222222222222, \"#7201a8\"], [0.3333333333333333, \"#9c179e\"], [0.4444444444444444, \"#bd3786\"], [0.5555555555555556, \"#d8576b\"], [0.6666666666666666, \"#ed7953\"], [0.7777777777777778, \"#fb9f3a\"], [0.8888888888888888, \"#fdca26\"], [1.0, \"#f0f921\"]], \"type\": \"histogram2d\"}], \"histogram2dcontour\": [{\"colorbar\": {\"outlinewidth\": 0, \"ticks\": \"\"}, \"colorscale\": [[0.0, \"#0d0887\"], [0.1111111111111111, \"#46039f\"], [0.2222222222222222, \"#7201a8\"], [0.3333333333333333, \"#9c179e\"], [0.4444444444444444, \"#bd3786\"], [0.5555555555555556, \"#d8576b\"], [0.6666666666666666, \"#ed7953\"], [0.7777777777777778, \"#fb9f3a\"], [0.8888888888888888, \"#fdca26\"], [1.0, \"#f0f921\"]], \"type\": \"histogram2dcontour\"}], \"mesh3d\": [{\"colorbar\": {\"outlinewidth\": 0, \"ticks\": \"\"}, \"type\": \"mesh3d\"}], \"parcoords\": [{\"line\": {\"colorbar\": {\"outlinewidth\": 0, \"ticks\": \"\"}}, \"type\": \"parcoords\"}], \"pie\": [{\"automargin\": true, \"type\": \"pie\"}], \"scatter\": [{\"marker\": {\"colorbar\": {\"outlinewidth\": 0, \"ticks\": \"\"}}, \"type\": \"scatter\"}], \"scatter3d\": [{\"line\": {\"colorbar\": {\"outlinewidth\": 0, \"ticks\": \"\"}}, \"marker\": {\"colorbar\": {\"outlinewidth\": 0, \"ticks\": \"\"}}, \"type\": \"scatter3d\"}], \"scattercarpet\": [{\"marker\": {\"colorbar\": {\"outlinewidth\": 0, \"ticks\": \"\"}}, \"type\": \"scattercarpet\"}], \"scattergeo\": [{\"marker\": {\"colorbar\": {\"outlinewidth\": 0, \"ticks\": \"\"}}, \"type\": \"scattergeo\"}], \"scattergl\": [{\"marker\": {\"colorbar\": {\"outlinewidth\": 0, \"ticks\": \"\"}}, \"type\": \"scattergl\"}], \"scattermapbox\": [{\"marker\": {\"colorbar\": {\"outlinewidth\": 0, \"ticks\": \"\"}}, \"type\": \"scattermapbox\"}], \"scatterpolar\": [{\"marker\": {\"colorbar\": {\"outlinewidth\": 0, \"ticks\": \"\"}}, \"type\": \"scatterpolar\"}], \"scatterpolargl\": [{\"marker\": {\"colorbar\": {\"outlinewidth\": 0, \"ticks\": \"\"}}, \"type\": \"scatterpolargl\"}], \"scatterternary\": [{\"marker\": {\"colorbar\": {\"outlinewidth\": 0, \"ticks\": \"\"}}, \"type\": \"scatterternary\"}], \"surface\": [{\"colorbar\": {\"outlinewidth\": 0, \"ticks\": \"\"}, \"colorscale\": [[0.0, \"#0d0887\"], [0.1111111111111111, \"#46039f\"], [0.2222222222222222, \"#7201a8\"], [0.3333333333333333, \"#9c179e\"], [0.4444444444444444, \"#bd3786\"], [0.5555555555555556, \"#d8576b\"], [0.6666666666666666, \"#ed7953\"], [0.7777777777777778, \"#fb9f3a\"], [0.8888888888888888, \"#fdca26\"], [1.0, \"#f0f921\"]], \"type\": \"surface\"}], \"table\": [{\"cells\": {\"fill\": {\"color\": \"#EBF0F8\"}, \"line\": {\"color\": \"white\"}}, \"header\": {\"fill\": {\"color\": \"#C8D4E3\"}, \"line\": {\"color\": \"white\"}}, \"type\": \"table\"}]}, \"layout\": {\"annotationdefaults\": {\"arrowcolor\": \"#2a3f5f\", \"arrowhead\": 0, \"arrowwidth\": 1}, \"coloraxis\": {\"colorbar\": {\"outlinewidth\": 0, \"ticks\": \"\"}}, \"colorscale\": {\"diverging\": [[0, \"#8e0152\"], [0.1, \"#c51b7d\"], [0.2, \"#de77ae\"], [0.3, \"#f1b6da\"], [0.4, \"#fde0ef\"], [0.5, \"#f7f7f7\"], [0.6, \"#e6f5d0\"], [0.7, \"#b8e186\"], [0.8, \"#7fbc41\"], [0.9, \"#4d9221\"], [1, \"#276419\"]], \"sequential\": [[0.0, \"#0d0887\"], [0.1111111111111111, \"#46039f\"], [0.2222222222222222, \"#7201a8\"], [0.3333333333333333, \"#9c179e\"], [0.4444444444444444, \"#bd3786\"], [0.5555555555555556, \"#d8576b\"], [0.6666666666666666, \"#ed7953\"], [0.7777777777777778, \"#fb9f3a\"], [0.8888888888888888, \"#fdca26\"], [1.0, \"#f0f921\"]], \"sequentialminus\": [[0.0, \"#0d0887\"], [0.1111111111111111, \"#46039f\"], [0.2222222222222222, \"#7201a8\"], [0.3333333333333333, \"#9c179e\"], [0.4444444444444444, \"#bd3786\"], [0.5555555555555556, \"#d8576b\"], [0.6666666666666666, \"#ed7953\"], [0.7777777777777778, \"#fb9f3a\"], [0.8888888888888888, \"#fdca26\"], [1.0, \"#f0f921\"]]}, \"colorway\": [\"#636efa\", \"#EF553B\", \"#00cc96\", \"#ab63fa\", \"#FFA15A\", \"#19d3f3\", \"#FF6692\", \"#B6E880\", \"#FF97FF\", \"#FECB52\"], \"font\": {\"color\": \"#2a3f5f\"}, \"geo\": {\"bgcolor\": \"white\", \"lakecolor\": \"white\", \"landcolor\": \"#E5ECF6\", \"showlakes\": true, \"showland\": true, \"subunitcolor\": \"white\"}, \"hoverlabel\": {\"align\": \"left\"}, \"hovermode\": \"closest\", \"mapbox\": {\"style\": \"light\"}, \"paper_bgcolor\": \"white\", \"plot_bgcolor\": \"#E5ECF6\", \"polar\": {\"angularaxis\": {\"gridcolor\": \"white\", \"linecolor\": \"white\", \"ticks\": \"\"}, \"bgcolor\": \"#E5ECF6\", \"radialaxis\": {\"gridcolor\": \"white\", \"linecolor\": \"white\", \"ticks\": \"\"}}, \"scene\": {\"xaxis\": {\"backgroundcolor\": \"#E5ECF6\", \"gridcolor\": \"white\", \"gridwidth\": 2, \"linecolor\": \"white\", \"showbackground\": true, \"ticks\": \"\", \"zerolinecolor\": \"white\"}, \"yaxis\": {\"backgroundcolor\": \"#E5ECF6\", \"gridcolor\": \"white\", \"gridwidth\": 2, \"linecolor\": \"white\", \"showbackground\": true, \"ticks\": \"\", \"zerolinecolor\": \"white\"}, \"zaxis\": {\"backgroundcolor\": \"#E5ECF6\", \"gridcolor\": \"white\", \"gridwidth\": 2, \"linecolor\": \"white\", \"showbackground\": true, \"ticks\": \"\", \"zerolinecolor\": \"white\"}}, \"shapedefaults\": {\"line\": {\"color\": \"#2a3f5f\"}}, \"ternary\": {\"aaxis\": {\"gridcolor\": \"white\", \"linecolor\": \"white\", \"ticks\": \"\"}, \"baxis\": {\"gridcolor\": \"white\", \"linecolor\": \"white\", \"ticks\": \"\"}, \"bgcolor\": \"#E5ECF6\", \"caxis\": {\"gridcolor\": \"white\", \"linecolor\": \"white\", \"ticks\": \"\"}}, \"title\": {\"x\": 0.05}, \"xaxis\": {\"automargin\": true, \"gridcolor\": \"white\", \"linecolor\": \"white\", \"ticks\": \"\", \"title\": {\"standoff\": 15}, \"zerolinecolor\": \"white\", \"zerolinewidth\": 2}, \"yaxis\": {\"automargin\": true, \"gridcolor\": \"white\", \"linecolor\": \"white\", \"ticks\": \"\", \"title\": {\"standoff\": 15}, \"zerolinecolor\": \"white\", \"zerolinewidth\": 2}}}, \"width\": 850},                        {\"responsive\": true}                    ).then(function(){\n",
       "                            \n",
       "var gd = document.getElementById('fe60837e-3aac-4d21-9a06-30ab58e4ab71');\n",
       "var x = new MutationObserver(function (mutations, observer) {{\n",
       "        var display = window.getComputedStyle(gd).display;\n",
       "        if (!display || display === 'none') {{\n",
       "            console.log([gd, 'removed!']);\n",
       "            Plotly.purge(gd);\n",
       "            observer.disconnect();\n",
       "        }}\n",
       "}});\n",
       "\n",
       "// Listen for the removal of the full notebook cells\n",
       "var notebookContainer = gd.closest('#notebook-container');\n",
       "if (notebookContainer) {{\n",
       "    x.observe(notebookContainer, {childList: true});\n",
       "}}\n",
       "\n",
       "// Listen for the clearing of the current output cell\n",
       "var outputEl = gd.closest('.output');\n",
       "if (outputEl) {{\n",
       "    x.observe(outputEl, {childList: true});\n",
       "}}\n",
       "\n",
       "                        })                };                });            </script>        </div>"
      ]
     },
     "metadata": {},
     "output_type": "display_data"
    }
   ],
   "source": [
    "#Create a 3D scatter plot :\n",
    "fig = px.scatter_3d(\n",
    "    clustered_df,\n",
    "    x=\"PC 1\",\n",
    "    y=\"PC 2\",\n",
    "    z=\"PC 3\",\n",
    "    hover_name=\"CoinName\",\n",
    "    hover_data=[\"Algorithm\"],\n",
    "    color=\"class\",\n",
    "    symbol=\"class\",\n",
    "    width=850,\n",
    "    )\n",
    "fig.update_layout(legend=dict(x=0, y=1))\n",
    "fig.show()\n",
    "    "
   ]
  },
  {
   "cell_type": "code",
   "execution_count": 173,
   "metadata": {},
   "outputs": [
    {
     "data": {},
     "metadata": {},
     "output_type": "display_data"
    },
    {
     "data": {
      "application/vnd.holoviews_exec.v0+json": "",
      "text/html": [
       "<div id='1203'>\n",
       "\n",
       "\n",
       "\n",
       "\n",
       "\n",
       "  <div class=\"bk-root\" id=\"2c9322d0-0d46-4fb9-b708-db924bd5536c\" data-root-id=\"1203\"></div>\n",
       "</div>\n",
       "<script type=\"application/javascript\">(function(root) {\n",
       "  function embed_document(root) {\n",
       "  var docs_json = {\"ef35889e-3f17-41ee-98ac-36f5cf87aeaf\":{\"roots\":{\"references\":[{\"attributes\":{\"children\":[{\"id\":\"1204\"},{\"id\":\"1237\"},{\"id\":\"1243\"}],\"margin\":[0,0,0,0],\"name\":\"Row01867\",\"tags\":[\"embedded\"]},\"id\":\"1203\",\"type\":\"Row\"},{\"attributes\":{},\"id\":\"1232\",\"type\":\"NumberFormatter\"},{\"attributes\":{\"data\":{\"Algorithm\":[\"Scrypt\",\"Scrypt\",\"X13\",\"SHA-256\",\"Ethash\",\"Scrypt\",\"X11\",\"CryptoNight-V7\",\"Ethash\",\"Equihash\",\"SHA-512\",\"Multiple\",\"SHA-256\",\"SHA-256\",\"Scrypt\",\"X15\",\"X11\",\"Scrypt\",\"Scrypt\",\"Scrypt\",\"Multiple\",\"Scrypt\",\"SHA-256\",\"Scrypt\",\"Scrypt\",\"Scrypt\",\"Quark\",\"Groestl\",\"Scrypt\",\"Scrypt\",\"Scrypt\",\"Scrypt\",\"Scrypt\",\"X11\",\"Scrypt\",\"Groestl\",\"Multiple\",\"SHA-256\",\"Scrypt\",\"Scrypt\",\"Scrypt\",\"Scrypt\",\"PoS\",\"Scrypt\",\"Scrypt\",\"NeoScrypt\",\"Scrypt\",\"Scrypt\",\"Scrypt\",\"Scrypt\",\"X11\",\"Scrypt\",\"X11\",\"SHA-256\",\"Scrypt\",\"Scrypt\",\"Scrypt\",\"SHA3\",\"Scrypt\",\"HybridScryptHash256\",\"Scrypt\",\"Scrypt\",\"SHA-256\",\"Scrypt\",\"X13\",\"Scrypt\",\"SHA-256\",\"Scrypt\",\"X13\",\"NeoScrypt\",\"Scrypt\",\"Scrypt\",\"Scrypt\",\"Scrypt\",\"Scrypt\",\"Scrypt\",\"X11\",\"X11\",\"SHA-256\",\"Multiple\",\"SHA-256\",\"PHI1612\",\"X11\",\"SHA-256\",\"SHA-256\",\"SHA-256\",\"X11\",\"Scrypt\",\"Scrypt\",\"Scrypt\",\"Scrypt\",\"Lyra2REv2\",\"Scrypt\",\"X11\",\"Multiple\",\"SHA-256\",\"X13\",\"Scrypt\",\"CryptoNight\",\"CryptoNight\",\"Shabal256\",\"Counterparty\",\"Scrypt\",\"SHA-256\",\"Groestl\",\"Scrypt\",\"Scrypt\",\"Scrypt\",\"X13\",\"Scrypt\",\"Scrypt\",\"Scrypt\",\"Scrypt\",\"X13\",\"Scrypt\",\"Stanford Folding\",\"X11\",\"Multiple\",\"QuBit\",\"Scrypt\",\"Scrypt\",\"Scrypt\",\"M7 POW\",\"Scrypt\",\"SHA-256\",\"Scrypt\",\"X11\",\"SHA3\",\"X11\",\"Lyra2RE\",\"SHA-256\",\"QUAIT\",\"X11\",\"X11\",\"Scrypt\",\"Scrypt\",\"Scrypt\",\"Ethash\",\"X13\",\"Blake2b\",\"SHA-256\",\"X15\",\"X11\",\"SHA-256\",\"BLAKE256\",\"Scrypt\",\"1GB AES Pattern Search\",\"SHA-256\",\"X11\",\"Scrypt\",\"SHA-256\",\"SHA-256\",\"NIST5\",\"Scrypt\",\"Scrypt\",\"X11\",\"Dagger\",\"Scrypt\",\"X11GOST\",\"X11\",\"Scrypt\",\"SHA-256\",\"Scrypt\",\"PoS\",\"Scrypt\",\"X11\",\"X11\",\"SHA-256\",\"SHA-256\",\"NIST5\",\"X11\",\"Scrypt\",\"POS 3.0\",\"Scrypt\",\"Scrypt\",\"Scrypt\",\"X13\",\"X11\",\"X11\",\"Equihash\",\"X11\",\"Scrypt\",\"CryptoNight\",\"SHA-256\",\"SHA-256\",\"X11\",\"Scrypt\",\"Multiple\",\"Scrypt\",\"Scrypt\",\"Scrypt\",\"SHA-256\",\"Scrypt\",\"Scrypt\",\"SHA-256D\",\"PoS\",\"Scrypt\",\"X11\",\"Lyra2Z\",\"PoS\",\"X13\",\"X14\",\"PoS\",\"SHA-256D\",\"Ethash\",\"Equihash\",\"DPoS\",\"X11\",\"Scrypt\",\"X11\",\"X13\",\"X11\",\"PoS\",\"Scrypt\",\"Scrypt\",\"X11\",\"PoS\",\"X11\",\"SHA-256\",\"Scrypt\",\"X11\",\"Scrypt\",\"Scrypt\",\"X11\",\"CryptoNight\",\"Scrypt\",\"Scrypt\",\"Scrypt\",\"Scrypt\",\"Quark\",\"QuBit\",\"Scrypt\",\"CryptoNight\",\"Lyra2RE\",\"Scrypt\",\"SHA-256\",\"X11\",\"Scrypt\",\"X11\",\"Scrypt\",\"CryptoNight-V7\",\"Scrypt\",\"Scrypt\",\"Scrypt\",\"X13\",\"X11\",\"Equihash\",\"Scrypt\",\"Scrypt\",\"Lyra2RE\",\"Scrypt\",\"Dagger-Hashimoto\",\"X11\",\"Blake2S\",\"X11\",\"Scrypt\",\"PoS\",\"X11\",\"NIST5\",\"PoS\",\"X11\",\"Scrypt\",\"Scrypt\",\"Scrypt\",\"SHA-256\",\"X11\",\"Scrypt\",\"Scrypt\",\"SHA-256\",\"PoS\",\"Scrypt\",\"X15\",\"SHA-256\",\"Scrypt\",\"POS 3.0\",\"CryptoNight-V7\",\"536\",\"Argon2d\",\"Blake2b\",\"Cloverhash\",\"CryptoNight\",\"NIST5\",\"X11\",\"NIST5\",\"Skein\",\"Scrypt\",\"X13\",\"Scrypt\",\"X11\",\"X11\",\"Scrypt\",\"CryptoNight\",\"X13\",\"Time Travel\",\"Scrypt\",\"Keccak\",\"SkunkHash v2 Raptor\",\"X11\",\"Skein\",\"SHA-256\",\"X11\",\"Scrypt\",\"VeChainThor Authority\",\"Scrypt\",\"PoS\",\"Scrypt\",\"Scrypt\",\"Scrypt\",\"Scrypt\",\"Scrypt\",\"Scrypt\",\"Scrypt\",\"CryptoNight\",\"SHA-512\",\"Ouroboros\",\"X11\",\"Equihash\",\"NeoScrypt\",\"X11\",\"Scrypt\",\"NeoScrypt\",\"Lyra2REv2\",\"Equihash\",\"Scrypt\",\"SHA-256\",\"NIST5\",\"PHI1612\",\"Dagger\",\"Scrypt\",\"Quark\",\"Scrypt\",\"POS 2.0\",\"Scrypt\",\"SHA-256\",\"X11\",\"NeoScrypt\",\"Ethash\",\"NeoScrypt\",\"X11\",\"DPoS\",\"NIST5\",\"X13\",\"Multiple\",\"Scrypt\",\"CryptoNight\",\"CryptoNight\",\"Ethash\",\"NIST5\",\"Quark\",\"X11\",\"CryptoNight-V7\",\"Scrypt\",\"Scrypt\",\"Scrypt\",\"X11\",\"BLAKE256\",\"X11\",\"NeoScrypt\",\"Quark\",\"NeoScrypt\",\"Scrypt\",\"Scrypt\",\"Scrypt\",\"X11\",\"X11\",\"SHA-256\",\"C11\",\"POS 3.0\",\"Ethash\",\"Scrypt\",\"CryptoNight\",\"SkunkHash\",\"Scrypt\",\"CryptoNight\",\"Scrypt\",\"Dagger\",\"Lyra2REv2\",\"X13\",\"Proof-of-BibleHash\",\"SHA-256 + Hive\",\"Scrypt\",\"Scrypt\",\"X11\",\"C11\",\"Proof-of-Authority\",\"X11\",\"XEVAN\",\"Scrypt\",\"VBFT\",\"Ethash\",\"CryptoNight\",\"Scrypt\",\"IMesh\",\"NIST5\",\"Scrypt\",\"Scrypt\",\"Equihash\",\"Scrypt\",\"Lyra2Z\",\"Green Protocol\",\"PoS\",\"Scrypt\",\"Semux BFT consensus\",\"X11\",\"Quark\",\"PoS\",\"CryptoNight\",\"X16R\",\"Scrypt\",\"NIST5\",\"Lyra2RE\",\"XEVAN\",\"Tribus\",\"Scrypt\",\"Lyra2Z\",\"CryptoNight\",\"CryptoNight Heavy\",\"CryptoNight\",\"Scrypt\",\"Scrypt\",\"Jump Consistent Hash\",\"SHA-256D\",\"CryptoNight\",\"Scrypt\",\"X15\",\"Scrypt\",\"Quark\",\"SHA-256\",\"DPoS\",\"X16R\",\"HMQ1725\",\"X11\",\"X16R\",\"Quark\",\"Quark\",\"Scrypt\",\"Lyra2REv2\",\"Quark\",\"Scrypt\",\"Scrypt\",\"CryptoNight-V7\",\"Cryptonight-GPU\",\"XEVAN\",\"CryptoNight Heavy\",\"X11\",\"X11\",\"Scrypt\",\"PoS\",\"SHA-256\",\"Keccak\",\"X11\",\"X11\",\"Scrypt\",\"SHA-512\",\"X16R\",\"ECC 256K1\",\"Equihash\",\"XEVAN\",\"Lyra2Z\",\"SHA-256\",\"XEVAN\",\"X11\",\"CryptoNight\",\"Quark\",\"Blake\",\"Blake\",\"Equihash\",\"Exosis\",\"Scrypt\",\"Scrypt\",\"Equihash\",\"Quark\",\"Equihash\",\"Quark\",\"Scrypt\",\"QuBit\",\"X11\",\"Scrypt\",\"XEVAN\",\"SHA-256D\",\"X11\",\"SHA-256\",\"X13\",\"SHA-256\",\"X11\",\"DPoS\",\"Scrypt\",\"Scrypt\",\"X11\",\"NeoScrypt\",\"Scrypt\",\"Blake\",\"Scrypt\",\"SHA-256\",\"Scrypt\",\"X11\",\"Scrypt\",\"Scrypt\",\"SHA-256\",\"X11\",\"SHA-256\",\"Scrypt\",\"Scrypt\",\"Scrypt\",\"Groestl\",\"X11\",\"Scrypt\",\"PoS\",\"Scrypt\",\"Scrypt\",\"X11\",\"SHA-256\",\"DPoS\",\"Scrypt\",\"Scrypt\",\"NeoScrypt\",\"Multiple\",\"X13\",\"Equihash+Scrypt\",\"DPoS\",\"Ethash\",\"DPoS\",\"SHA-256\",\"Leased POS\",\"PoS\",\"TRC10\",\"PoS\",\"SHA-256\",\"Scrypt\",\"CryptoNight\",\"Equihash\",\"Scrypt\"],\"CoinName\":[\"42 Coin\",\"404Coin\",\"EliteCoin\",\"Bitcoin\",\"Ethereum\",\"Litecoin\",\"Dash\",\"Monero\",\"Ethereum Classic\",\"ZCash\",\"Bitshares\",\"DigiByte\",\"BitcoinDark\",\"PayCoin\",\"ProsperCoin\",\"KoboCoin\",\"Spreadcoin\",\"Argentum\",\"Aurora Coin\",\"BlueCoin\",\"MyriadCoin\",\"MoonCoin\",\"ZetaCoin\",\"SexCoin\",\"Quatloo\",\"EnergyCoin\",\"QuarkCoin\",\"Riecoin\",\"Digitalcoin \",\"BitBar\",\"Catcoin\",\"CryptoBullion\",\"CannaCoin\",\"CryptCoin\",\"CasinoCoin\",\"Diamond\",\"Verge\",\"DevCoin\",\"EarthCoin\",\"E-Gulden\",\"Einsteinium\",\"Emerald\",\"Exclusive Coin\",\"FlutterCoin\",\"Franko\",\"FeatherCoin\",\"GrandCoin\",\"GlobalCoin\",\"GoldCoin\",\"HoboNickels\",\"HyperStake\",\"Infinite Coin\",\"IOCoin\",\"IXcoin\",\"KrugerCoin\",\"LuckyCoin\",\"Litebar \",\"MaxCoin\",\"MegaCoin\",\"MediterraneanCoin\",\"MintCoin\",\"MinCoin\",\"MazaCoin\",\"Nautilus Coin\",\"NavCoin\",\"NobleCoin\",\"Namecoin\",\"NyanCoin\",\"OpalCoin\",\"Orbitcoin\",\"PotCoin\",\"PhoenixCoin\",\"Reddcoin\",\"RonPaulCoin\",\"StableCoin\",\"SmartCoin\",\"SuperCoin\",\"SyncCoin\",\"SysCoin\",\"TeslaCoin\",\"TigerCoin\",\"TittieCoin\",\"TorCoin\",\"TerraCoin\",\"UnbreakableCoin\",\"Unobtanium\",\"UroCoin\",\"UnitaryStatus Dollar\",\"UltraCoin\",\"ViaCoin\",\"VeriCoin\",\"Vertcoin\",\"WorldCoin\",\"X11 Coin\",\"Crypti\",\"JouleCoin\",\"StealthCoin\",\"ZCC Coin\",\"ByteCoin\",\"DigitalNote \",\"BurstCoin\",\"StorjCoin\",\"MonaCoin\",\"Neutron\",\"FairCoin\",\"Gulden\",\"RubyCoin\",\"PesetaCoin\",\"Kore\",\"Wild Beast Coin\",\"Dnotes\",\"Flo\",\"8BIT Coin\",\"Sativa Coin\",\"ArtByte\",\"Folding Coin\",\"Ucoin\",\"Unitus\",\"CypherPunkCoin\",\"OmniCron\",\"Vtorrent\",\"GreenCoin\",\"Cryptonite\",\"MasterCoin\",\"SoonCoin\",\"1Credit\",\"IslaCoin\",\"Nexus\",\"MarsCoin \",\"Crypto\",\"Anarchists Prime\",\"Droidz\",\"BowsCoin\",\"Squall Coin\",\"Song Coin\",\"BitZeny\",\"Diggits\",\"Expanse\",\"Paycon\",\"Siacoin\",\"Emercoin\",\"EverGreenCoin\",\"MindCoin\",\"I0coin\",\"Decred\",\"Revolution VR\",\"HOdlcoin\",\"EDRCoin\",\"Hitcoin\",\"Gamecredits\",\"DubaiCoin\",\"CarpeDiemCoin\",\"PWR Coin\",\"BillaryCoin\",\"GPU Coin\",\"Adzcoin\",\"SoilCoin\",\"YoCoin\",\"SibCoin\",\"EuropeCoin\",\"ZeitCoin\",\"SwingCoin\",\"SafeExchangeCoin\",\"Nebuchadnezzar\",\"Francs\",\"BolivarCoin\",\"Ratecoin\",\"Revenu\",\"Clockcoin\",\"VIP Tokens\",\"BitSend\",\"Omni\",\"Let it Ride\",\"PutinCoin\",\"iBankCoin\",\"Frankywillcoin\",\"MudraCoin\",\"PizzaCoin\",\"Lutetium Coin\",\"Komodo\",\"GoldBlocks\",\"CarterCoin\",\"Karbo\",\"BitTokens\",\"ZayedCoin\",\"MustangCoin\",\"ZoneCoin\",\"Circuits of Value\",\"RootCoin\",\"DopeCoin\",\"BitCurrency\",\"DollarCoin\",\"Swiscoin\",\"Shilling\",\"BuzzCoin\",\"Opair\",\"PesoBit\",\"Halloween Coin\",\"ZCoin\",\"CoffeeCoin\",\"RoyalCoin\",\"GanjaCoin V2\",\"TeamUP\",\"LanaCoin\",\"Elementrem\",\"ZClassic\",\"ARK\",\"InsaneCoin\",\"KiloCoin\",\"ArtexCoin\",\"EmberCoin\",\"XenixCoin\",\"FreeCoin\",\"PLNCoin\",\"AquariusCoin\",\"Kurrent\",\"Creatio\",\"Eternity\",\"Eurocoin\",\"BitcoinFast\",\"Stakenet\",\"BitConnect Coin\",\"MoneyCoin\",\"Enigma\",\"Cannabis Industry Coin\",\"Russiacoin\",\"PandaCoin\",\"GameUnits\",\"GAKHcoin\",\"Allsafe\",\"LiteCreed\",\"OsmiumCoin\",\"Bikercoins\",\"HexxCoin\",\"Klingon Empire Darsek\",\"Internet of People\",\"KushCoin\",\"Printerium\",\"PacCoin\",\"Impeach\",\"Citadel\",\"Zilbercoin\",\"FirstCoin\",\"BeaverCoin\",\"FindCoin\",\"VaultCoin\",\"Zero\",\"OpenChat\",\"Canada eCoin\",\"Zoin\",\"RenosCoin\",\"DubaiCoin\",\"VirtacoinPlus\",\"TajCoin\",\"Impact\",\"EB3coin\",\"Atmos\",\"HappyCoin\",\"Coinonat\",\"MacronCoin\",\"Condensate\",\"Independent Money System\",\"ArgusCoin\",\"LomoCoin\",\"ProCurrency\",\"GoldReserve\",\"BenjiRolls\",\"GrowthCoin\",\"ILCoin\",\"Phreak\",\"Degas Coin\",\"HTML5 Coin\",\"Ultimate Secure Cash\",\"EquiTrader\",\"QTUM\",\"Quantum Resistant Ledger\",\"Espers\",\"Dynamic\",\"Nano\",\"ChanCoin\",\"Dinastycoin\",\"Denarius\",\"DigitalPrice\",\"Virta Unique Coin\",\"Bitcoin Planet\",\"Unify\",\"BritCoin\",\"SocialCoin\",\"ArcticCoin\",\"DAS\",\"Linda\",\"LeviarCoin\",\"DeepOnion\",\"Bitcore\",\"gCn Coin\",\"SmartCash\",\"Signatum\",\"Onix\",\"Cream\",\"Bitcoin Cash\",\"Monoeci\",\"Draftcoin\",\"Vechain\",\"Sojourn Coin\",\"Stakecoin\",\"NewYorkCoin\",\"FrazCoin\",\"Kronecoin\",\"AdCoin\",\"Linx\",\"CoinonatX\",\"Ethereum Dark\",\"Sumokoin\",\"Obsidian\",\"Cardano\",\"Regalcoin\",\"BitcoinZ\",\"TrezarCoin\",\"Elements\",\"TerraNovaCoin\",\"VIVO Coin\",\"Rupee\",\"Bitcoin Gold\",\"WomenCoin\",\"Theresa May Coin\",\"NamoCoin\",\"LUXCoin\",\"Pirl\",\"Xios\",\"Bitcloud 2.0\",\"eBoost\",\"KekCoin\",\"BlackholeCoin\",\"Infinity Economics\",\"Pura\",\"Innova\",\"Ellaism\",\"GoByte\",\"Magnet\",\"Lamden Tau\",\"Electra\",\"Bitcoin Diamond\",\"SHIELD\",\"Cash & Back Coin\",\"UltraNote\",\"BitCoal\",\"DaxxCoin\",\"Bulwark\",\"Kalkulus\",\"AC3\",\"Lethean\",\"GermanCoin\",\"LiteCoin Ultra\",\"PopularCoin\",\"PhantomX\",\"Photon\",\"Sucre\",\"SparksPay\",\"Digiwage\",\"GunCoin\",\"IrishCoin\",\"Trollcoin\",\"Litecoin Plus\",\"Monkey Project\",\"Pioneer Coin\",\"UnitedBitcoin\",\"Interzone\",\"TokenPay\",\"1717 Masonic Commemorative Token\",\"My Big Coin\",\"TurtleCoin\",\"MUNcoin\",\"Unified Society USDEX\",\"Niobio Cash\",\"ShareChain\",\"Travelflex\",\"KREDS\",\"Tokyo Coin\",\"BiblePay\",\"LitecoinCash\",\"BitFlip\",\"LottoCoin\",\"Crypto Improvement Fund\",\"Stipend\",\"Poa Network\",\"Pushi\",\"Ellerium\",\"Velox\",\"Ontology\",\"Callisto Network\",\"BitTube\",\"Poseidon\",\"Aidos Kuneen\",\"Bitspace\",\"Briacoin\",\"Ignition\",\"Bitrolium\",\"MedicCoin\",\"Alpenschillling\",\"Bitcoin Green\",\"Deviant Coin\",\"Abjcoin\",\"Semux\",\"FuturoCoin\",\"Carebit\",\"Zealium\",\"Monero Classic\",\"Proton\",\"iDealCash\",\"Jumpcoin\",\"Infinex\",\"Bitcoin Incognito\",\"KEYCO\",\"HollyWoodCoin\",\"GINcoin\",\"PlatinCoin\",\"Loki\",\"Newton Coin\",\"Swisscoin\",\"Xt3ch\",\"MassGrid\",\"TheVig\",\"PluraCoin\",\"EmaratCoin\",\"Dekado\",\"Lynx\",\"Poseidon Quark\",\"BitcoinWSpectrum\",\"Muse\",\"Motion\",\"PlusOneCoin\",\"Axe\",\"Trivechain\",\"Dystem\",\"Giant\",\"Peony Coin\",\"Absolute Coin\",\"Vitae\",\"HexCoin\",\"TPCash\",\"Webchain\",\"Ryo\",\"Urals Coin\",\"Qwertycoin\",\"ARENON\",\"EUNO\",\"MMOCoin\",\"Ketan\",\"Project Pai\",\"XDNA\",\"PAXEX\",\"Azart\",\"ThunderStake\",\"Kcash\",\"Xchange\",\"Acute Angle Cloud\",\"CrypticCoin\",\"Bettex coin\",\"Actinium\",\"Bitcoin SV\",\"BitMoney\",\"Junson Ming Chan Coin\",\"FREDEnergy\",\"HerbCoin\",\"Universal Molecule\",\"Lithium\",\"PirateCash\",\"Exosis\",\"Block-Logic\",\"Oduwa\",\"Beam\",\"Galilel\",\"Bithereum\",\"Crypto Sports\",\"Credit\",\"SLICE\",\"Dash Platinum\",\"Nasdacoin\",\"Beetle Coin\",\"Titan Coin\",\"Award\",\"BLAST\",\"Bitcoin Rhodium\",\"GlobalToken\",\"Insane Coin\",\"ALAX\",\"LiteDoge\",\"SolarCoin\",\"TruckCoin\",\"UFO Coin\",\"OrangeCoin\",\"BlakeCoin\",\"BitstarCoin\",\"NeosCoin\",\"HyperCoin\",\"PinkCoin\",\"Crypto Escudo\",\"AudioCoin\",\"IncaKoin\",\"Piggy Coin\",\"Crown Coin\",\"Genstake\",\"SmileyCoin\",\"XiaoMiCoin\",\"Groestlcoin\",\"CapriCoin\",\" ClubCoin\",\"Radium\",\"Bata\",\"Pakcoin\",\"Creditbit \",\"OKCash\",\"Lisk\",\"HiCoin\",\"WhiteCoin\",\"FriendshipCoin\",\"JoinCoin\",\"Triangles Coin\",\"Vollar\",\"EOS\",\"Reality Clash\",\"Oxycoin\",\"TigerCash\",\"Waves\",\"Particl\",\"BitTorrent\",\"Nxt\",\"ZEPHYR\",\"Gapcoin\",\"Beldex\",\"Horizen\",\"BitcoinPlus\"],\"ProofType\":[\"PoW/PoS\",\"PoW/PoS\",\"PoW/PoS\",\"PoW\",\"PoW\",\"PoW\",\"PoW/PoS\",\"PoW\",\"PoW\",\"PoW\",\"PoS\",\"PoW\",\"PoW/PoS\",\"PoS\",\"PoW\",\"PoW/PoS\",\"PoW\",\"PoW\",\"PoW/PoS\",\"PoW/PoS\",\"PoW\",\"PoW\",\"PoW\",\"PoW\",\"PoW\",\"PoW/PoS\",\"PoW\",\"PoW\",\"PoW\",\"PoW/PoS\",\"PoW\",\"PoW/PoS\",\"PoW\",\"PoW\",\"PoC\",\"PoW/PoS\",\"PoW\",\"PoW\",\"PoW\",\"PoW\",\"PoW\",\"PoW\",\"PoS\",\"PoS/PoW/PoT\",\"PoW\",\"PoW\",\"PoW\",\"PoW\",\"PoW\",\"PoW/PoS\",\"PoS\",\"PoW\",\"PoW/PoS\",\"PoW\",\"PoW\",\"PoW\",\"PoW\",\"PoW/PoS\",\"PoW\",\"PoW\",\"PoS\",\"PoW\",\"PoW/PoS\",\"PoS\",\"PoW/PoS\",\"PoW\",\"PoW\",\"PoW\",\"PoW/PoS\",\"PoW/PoS\",\"PoW/PoS\",\"PoW/PoS\",\"PoW/PoS\",\"PoW\",\"PoW\",\"PoW\",\"PoS\",\"PoW/PoS\",\"PoW\",\"PoS\",\"PoW\",\"PoS\",\"PoW/PoS\",\"PoW\",\"PoW\",\"PoW\",\"PoW\",\"PoW/PoS\",\"PoW/PoS\",\"PoW\",\"PoST\",\"PoW\",\"PoW\",\"PoW/PoS\",\"PoS\",\"PoW\",\"PoW/PoS\",\"PoW/PoS\",\"PoW\",\"PoW\",\"PoC\",\"PoS\",\"PoW\",\"PoW/PoS\",\"PoW/PoS\",\"PoW\",\"PoS\",\"PoW\",\"PoW/PoS\",\"PoW\",\"PoS\",\"PoW\",\"PoW/PoS\",\"PoW/PoS\",\"PoW\",\"PoW\",\"PoS\",\"PoW\",\"PoW\",\"PoW\",\"PoW/PoS\",\"PoW\",\"PoW\",\"PoW\",\"PoW\",\"PoW\",\"PoW/PoS\",\"PoW/nPoS\",\"PoW\",\"PoW\",\"PoW\",\"PoW/PoS\",\"PoW\",\"PoS/PoW\",\"PoW\",\"PoW\",\"PoS\",\"PoW\",\"PoW/PoS\",\"PoW\",\"PoW/PoS\",\"PoW/PoS\",\"PoW\",\"PoW\",\"PoW/PoS\",\"PoW\",\"PoW\",\"PoW/PoS\",\"PoW/PoS\",\"PoW\",\"PoW/PoS\",\"PoW\",\"PoW/PoS\",\"PoW/PoS\",\"PoS\",\"PoW\",\"PoW\",\"PoW\",\"PoW\",\"PoW/PoS\",\"PoS\",\"PoW/PoS\",\"PoC\",\"PoS\",\"PoW\",\"PoW\",\"PoW/PoS\",\"PoW/PoS\",\"PoW/PoS\",\"PoW/PoS\",\"PoW/PoS\",\"PoW\",\"PoS\",\"PoW/PoS\",\"PoW/PoS\",\"PoW/PoS\",\"PoS\",\"PoW\",\"PoS\",\"dPoW/PoW\",\"PoW/PoS\",\"PoW/PoS\",\"PoW\",\"PoW/PoS\",\"PoW\",\"PoW/PoS\",\"PoW/PoS\",\"PoW\",\"PoW/PoS\",\"PoW\",\"PoS\",\"PoW\",\"PoW/PoW\",\"PoW\",\"PoW/PoS\",\"PoS\",\"PoW/PoS\",\"PoW/PoS\",\"PoW\",\"PoS\",\"PoS\",\"PoW/PoS\",\"PoS\",\"PoW/PoS\",\"PoW\",\"PoW\",\"DPoS\",\"PoW/PoS\",\"PoW\",\"PoW\",\"PoW/PoS\",\"PoW/PoS\",\"PoS\",\"PoW/PoS\",\"PoW/PoS\",\"PoW\",\"PoS\",\"PoW/PoS\",\"PoW/PoS\",\"PoW/PoS\",\"TPoS\",\"PoW/PoS\",\"PoW/PoS\",\"PoW/PoS\",\"PoW\",\"PoW/PoS\",\"PoS\",\"PoW/PoS\",\"PoW/PoS\",\"PoS\",\"PoW/PoS\",\"PoW\",\"PoW\",\"PoW\",\"PoW/PoS\",\"PoW/PoS\",\"PoW/PoS\",\"PoW/PoS\",\"PoW\",\"PoW/PoS\",\"PoW\",\"PoS\",\"PoW/PoS \",\"PoW\",\"PoS\",\"PoW\",\"PoW\",\"PoW/PoS\",\"PoW\",\"PoW\",\"PoS\",\"PoW\",\"PoW/PoS\",\"PoW/PoS\",\"PoW/PoS\",\"PoW\",\"PoS\",\"PoW/PoS\",\"PoW\",\"PoS\",\"PoW/PoS\",\"PoW/PoS\",\"PoW/PoS\",\"PoW/PoS\",\"PoS\",\"PoW/PoS\",\"PoW\",\"PoS\",\"PoW\",\"PoS\",\"PoW/PoS\",\"PoW/PoS\",\"PoS\",\"PoW\",\"PoS\",\"PoW\",\"PoW/PoS\",\"PoW\",\"PoW\",\"PoW\",\"PoW\",\"PoW/PoS\",\"PoW\",\"PoW/PoS\",\"PoW/PoS\",\"PoW\",\"PoW/PoS\",\"PoW\",\"PoW\",\"PoW\",\"PoW/PoS\",\"PoW\",\"PoW/PoS\",\"PoW\",\"PoW\",\"PoW\",\"PoS\",\"PoW\",\"PoW/PoS\",\"PoW\",\"PoW/PoS\",\"PoS\",\"Proof of Authority\",\"PoW\",\"PoS\",\"PoW\",\"PoW\",\"PoW\",\"PoW\",\"PoW\",\"PoW/PoS\",\"PoW/PoS\",\"PoW\",\"PoS\",\"PoS\",\"PoW/PoS\",\"PoW\",\"PoW/PoS\",\"PoW\",\"PoW/PoS\",\"PoW\",\"PoS\",\"PoW\",\"PoW/PoS\",\"PoW/PoS\",\"PoW/PoS\",\"PoW/PoS\",\"PoW\",\"PoW/PoS\",\"PoW/PoS\",\"PoW\",\"PoS\",\"PoW/PoS\",\"PoS\",\"PoW\",\"PoW\",\"PoW\",\"PoW\",\"PoW/PoS\",\"DPoS\",\"PoW/PoS\",\"PoW/PoS\",\"PoW\",\"PoW/PoS\",\"PoW\",\"PoW\",\"PoW\",\"PoS\",\"PoS\",\"PoW\",\"PoW\",\"PoW/PoS\",\"PoW/PoS\",\"PoW\",\"PoW/PoS\",\"PoW\",\"PoW\",\"PoW\",\"PoS\",\"PoW\",\"PoW\",\"PoW/PoS\",\"PoW/PoS\",\"PoS\",\"PoW\",\"PoW\",\"PoW\",\"PoS\",\"PoS\",\"PoW and PoS\",\"PoW\",\"PoW\",\"PoW/PoS\",\"PoW\",\"PoW\",\"PoW\",\"PoW\",\"PoS\",\"POBh\",\"PoW + Hive\",\"PoW\",\"PoW\",\"PoW\",\"PoW/PoS\",\"PoA\",\"PoW/PoS\",\"PoW/PoS\",\"PoS\",\"PoS\",\"PoW\",\"PoW\",\"PoW\",\"PoW\",\"PoW/PoS\",\"PoW/PoS\",\"PoW/PoS\",\"PoW\",\"PoS\",\"PoW\",\"PoS\",\"PoS\",\"PoW/PoS\",\"DPoS\",\"PoW\",\"PoW/PoS\",\"PoS\",\"PoW\",\"PoS\",\"PoW/PoS\",\"PoW\",\"PoW\",\"PoS/PoW\",\"PoW\",\"PoS\",\"PoW\",\"PoW\",\"PoW\",\"PoW\",\"PoW/PoS\",\"PoS\",\"PoW\",\"PoW/PoS\",\"PoW\",\"PoW/PoS\",\"PoS\",\"HPoW\",\"PoS\",\"PoS\",\"PoS\",\"PoW\",\"PoW\",\"PoW\",\"PoW/PoS\",\"PoS\",\"PoW/PoS\",\"PoS\",\"PoW/PoS\",\"PoS\",\"PoW\",\"PoW/PoS\",\"PoW\",\"PoW\",\"PoW\",\"PoW\",\"PoS\",\"PoW/PoS\",\"PoS\",\"PoS\",\"PoW\",\"PoW/PoS\",\"PoS\",\"PoW\",\"PoW/PoS\",\"Zero-Knowledge Proof\",\"PoW\",\"DPOS\",\"PoW\",\"PoS\",\"PoW\",\"PoW\",\"Pos\",\"PoS\",\"PoW\",\"PoW/PoS\",\"PoW\",\"PoW\",\"PoS\",\"PoW\",\"PoW\",\"PoW/PoS\",\"PoW\",\"PoW/PoS\",\"PoW\",\"PoS\",\"PoW/PoS\",\"PoW\",\"PoS\",\"PoW/PoS\",\"PoW/PoS\",\"PoW/PoS\",\"PoW/PoS\",\"PoW\",\"PoW\",\"PoW\",\"PoW/PoS\",\"DPoS\",\"PoW/PoS\",\"PoW\",\"PoW/PoS\",\"PoW\",\"PoW/PoS\",\"PoW\",\"PoW/PoS\",\"PoS\",\"PoW/PoS\",\"PoW/PoS\",\"PoW\",\"PoW/PoS\",\"PoW/PoS\",\"PoW/PoS\",\"PoW\",\"PoW/PoS\",\"PoW\",\"PoW/PoS\",\"PoW\",\"PoW/PoS\",\"PoW/PoS\",\"PoS\",\"PoW\",\"PoW\",\"Proof of Trust\",\"PoW/PoS\",\"DPoS\",\"PoS\",\"PoW/PoS\",\"PoW/PoS\",\"PoW\",\"PoW/PoS\",\"PoW\",\"DPoS\",\"PoW\",\"DPoS\",\"PoS\",\"LPoS\",\"PoS\",\"DPoS\",\"PoS/LPoS\",\"DPoS\",\"PoW/PoS\",\"PoW\",\"PoW\",\"PoS\"],\"TotalCoinSupply\":[\"42\",\"532000000\",\"314159265359\",\"21000000\",\"0\",\"84000000\",\"22000000\",\"0\",\"210000000\",\"21000000\",\"3600570502\",\"21000000000\",\"22000000\",\"12500000\",\"21000000\",\"350000000\",\"20000000\",\"64000000\",\"16768584\",\"0\",\"2000000000\",\"384000000000\",\"169795588\",\"250000000\",\"100000000\",\"0\",\"247000000\",\"84000000\",\"48166000\",\"500000\",\"21000000 \",\"1000000\",\"13140000\",\"18000000\",\"40000000000\",\"4380000\",\"16555000000\",\"21000000000\",\"13500000000\",\"21000000 \",\"299792458\",\"32000000\",\"0\",\"0\",\"11235813\",\"336000000\",\"1420609614\",\"70000000\",\"72245700\",\"120000000\",\"0\",\"90600000000\",\"22000000\",\"21000000\",\"265420800\",\"20000000\",\"1350000\",\"100000000\",\"42000000\",\"200000000\",\"0\",\"10000000\",\"2419200000\",\"16180000\",\"0\",\"15000000000\",\"21000000\",\"337000000\",\"0\",\"3770000\",\"420000000\",\"98000000\",\"0\",\"21000000\",\"250000000\",\"51200000\",\"0\",\"1000\",\"888000000\",\"100000000\",\"47011968\",\"2300000000\",\"10000000\",\"42000000\",\"80000000\",\"250000\",\"0\",\"1600000000\",\"100000000\",\"23000000\",\"0\",\"84000000\",\"265420800\",\"5500000\",\"0\",\"45000000\",\"0\",\"1000000000\",\"184467440735\",\"10000000000\",\"2158812800\",\"500000000\",\"105120000\",\"68000000\",\"0\",\"1680000000\",\"0\",\"166386000\",\"12000000\",\"2628000\",\"500000000\",\"160000000\",\"0\",\"10000000\",\"1000000000\",\"1000000000\",\"20000000\",\"0\",\"0\",\"3371337\",\"20000000\",\"10000000000\",\"1840000000\",\"619478\",\"21000000\",\"92000000000\",\"0\",\"78000000\",\"33000000\",\"65789100\",\"53760000\",\"5060000\",\"21000000\",\"0\",\"210240000\",\"250000000\",\"100000000\",\"16906397\",\"50000000\",\"0\",\"1000000000\",\"26298000\",\"16000000\",\"21000000\",\"21000000\",\"210000000\",\"81962100\",\"22000000\",\"26550000000\",\"84000000\",\"10500000\",\"21626280000 \",\"0\",\"42000000\",\"221052632\",\"84000000\",\"30000000\",\"168351300\",\"24000000\",\"384000000\",\" 99000000000\",\"40000000\",\"2147483647\",\"20000000\",\"20000000\",\"25000000\",\"75000000\",\"222725000\",\"525000000\",\"90000000\",\"139000000\",\"616448\",\"33500000\",\"2000000000\",\"44333333\",\"100000000\",\"200000000\",\"25000000\",\"657000000\",\"200000000\",\"50000000\",\"90000000\",\"10000000\",\"21000000\",\"9736000\",\"3000000\",\"21000000\",\"1200000000\",\"0\",\"200000000\",\"0\",\"10638298\",\"3100000000\",\"30000000\",\"20000000000\",\"74000000\",\"0\",\"1500000000\",\"21400000\",\"39999898\",\"2500124\",\"100000000\",\"301000000\",\"7506000000\",\"26205539\",\"21000000\",\"125000000\",\"30000000\",\"10000000000\",\"500000000\",\"850000000\",\"3853326.77707314\",\"50000000\",\"38540000 \",\"42000000\",\"228000000\",\"20000000\",\"60000000\",\"20000000\",\"33000000\",\"76500000\",\"28000000\",\"650659833\",\"5000000\",\"21000000\",\"144000000\",\"32514916898\",\"13000000\",\"3315789\",\"15000000\",\"78835200\",\"2714286\",\"25000000\",\"9999999\",\"500000000\",\"21000000\",\"9354000\",\"20000000\",\"100000000000\",\"21933333\",\"185000000\",\"55000000\",\"110000000\",\"3360000\",\"14524851.4827\",\"1000000000\",\"17000000\",\"1000000000\",\"100000000 \",\"21000000\",\"34426423\",\"2232901\",\"100000000\",\"36900000\",\"110000000\",\"4000000000\",\"110290030\",\"100000000\",\"48252000\",\"400000000\",\"500000000\",\"21212121\",\"28600000\",\"1000000000\",\"75000000000\",\"40000000\",\"35520400\",\"2000000000\",\"2500000000\",\"30000000\",\"105000000\",\"90000000000\",\"200084200\",\"72000000\",\"100000000\",\"105000000\",\"50000000000\",\"0\",\"340282367\",\"30000000\",\"2000000000\",\"10000000\",\"100000000\",\"120000000\",\"100000000\",\"19276800\",\"30000000\",\" 75000000\",\"60000000\",\"18900000\",\"50000000000\",\"54000000\",\"18898187.6216583\",\"21000000\",\"200000000000\",\"5000000000\",\"137500000\",\"1100000000\",\"100000000\",\"21000000\",\"9507271\",\"17405891.19707116\",\"86712634466\",\"10500000000\",\"61599965\",\"0\",\"20000000\",\"84000000\",\"100000000\",\"100000000\",\"48252000\",\"4200000\",\"88888888\",\"91388946\",\"45000000000\",\"27000000\",\"21000000000\",\"400000000\",\"1800000000\",\"15733333\",\"27000000\",\"24000000\",\"21000000\",\"25000000000\",\"100000000\",\"1200000000\",\"60000000\",\"156306732.71\",\"21000000\",\"200000000\",\"100000000\",\"21000000\",\"14788275.991\",\"9000000000\",\"350000000\",\"45000000\",\"280000000\",\"31800000\",\"144000000\",\"500000000\",\"30000000000\",\"210000000\",\"660000000\",\"210000000\",\"85000000000\",\"12500000\",\"10000000000\",\"27716121\",\"20000000\",\"550000000\",\"999481516\",\"50000000000\",\"150000000\",\"4999999999\",\"50000000\",\" 90000000000\",\"19800000\",\"21000000\",\"120000000\",\"500000000\",\"64000000\",\"900000000\",\"4000000\",\"21000000\",\"23000000\",\"20166000\",\"23000000\",\"25000000\",\"1618033\",\"30000000\",\"1000000000000\",\"16600000\",\"232000000\",\"336000000\",\"10000000000\",\"100000000\",\"1100000000\",\"800000000\",\"5200000000\",\"840000000\",\"40000000\",\"18406979840\",\"500000000\",\"19340594\",\"252460800\",\"25000000\",\"60000000\",\"124000000\",\"1000000000\",\"6500000000\",\"1000000000\",\"21000000\",\"25000000\",\"50000000\",\"3000000\",\"5000000\",\"70000000\",\"500000000\",\"300000000\",\"21000000\",\"88000000\",\"30000000\",\"100000000\",\"100000000\",\"200000000\",\"80000000\",\"18400000\",\"45000000\",\"5121951220\",\"21000000\",\"26280000\",\"21000000\",\"18000000\",\"26000000\",\"10500000\",\"600000518\",\"150000000\",\"184000000000\",\"10200000000\",\"44000000\",\"168000000\",\"100000000\",\"1000000000\",\"84000000\",\"90000000\",\"92000000000\",\"650000000 \",\"100262205\",\"18081806 \",\"22075700\",\"21000000\",\"21000000\",\"82546564\",\"21000000\",\"5151000\",\"16880000000\",\"52500000\",\"100000000\",\"22105263\",\"1000000000\",\"1750000000\",\"88188888\",\"210000000\",\"184470000000\",\"55000000\",\"50000000\",\"260000000\",\"210000000\",\"2100000000\",\"366000000\",\"100000000\",\"25000000\",\"18000000000\",\"1000000000\",\"100000000\",\"1000000000\",\"7600000000\",\"50000000\",\"84000000\",\"21000000\",\"70000000000\",\"0\",\"8080000000\",\"54000000\",\"105120001.44\",\"25228800\",\"105000000\",\"21000000\",\"120000000\",\"21000000\",\"262800000\",\"19035999\",\"30886000\",\"13370000\",\"74800000000\",\"100000000\",\"19700000\",\"84000000\",\"500000000\",\"5000000000\",\"420000000\",\"64000000\",\"2100000\",\"168000000\",\"30000000\",\"1000000000\",\"35000000000\",\"98100000000\",\"0\",\"4000000000\",\"200000000\",\"7000000000\",\"54256119\",\"21000000\",\"0\",\"500000000\",\"1000000000\",\"10500000000\",\"190000000\",\"1000000000\",\"42000000\",\"15000000\",\"50000000000\",\"400000000\",\"105000000\",\"208000000\",\"160000000\",\"9000000\",\"5000000\",\"182000000\",\"16504333\",\"105000000\",\"159918400\",\"10008835635\",\"300000000\",\"60168145\",\"2800000\",\"120000\",\"2100000000\",\"0\",\"24487944\",\"0\",\"1000000000\",\"100000000\",\"8634140\",\"990000000000\",\"1000000000\",\"2000000000\",\"250000000\",\"1400222610\",\"21000000\",\"1000000\"],\"TotalCoinsMined\":{\"__ndarray__\":\"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\",\"dtype\":\"float64\",\"order\":\"little\",\"shape\":[532]},\"class\":{\"__ndarray__\":\"AAAAAAAAAAAAAAAAAQAAAAEAAAABAAAAAAAAAAEAAAABAAAAAQAAAAAAAAABAAAAAAAAAAAAAAABAAAAAAAAAAEAAAABAAAAAAAAAAAAAAABAAAAAQAAAAEAAAABAAAAAQAAAAAAAAABAAAAAQAAAAEAAAAAAAAAAQAAAAAAAAABAAAAAQAAAAAAAAAAAAAAAQAAAAEAAAABAAAAAQAAAAEAAAABAAAAAAAAAAAAAAABAAAAAQAAAAEAAAABAAAAAQAAAAAAAAAAAAAAAQAAAAAAAAABAAAAAQAAAAEAAAABAAAAAAAAAAEAAAABAAAAAAAAAAEAAAAAAAAAAAAAAAAAAAABAAAAAQAAAAEAAAAAAAAAAAAAAAAAAAAAAAAAAAAAAAEAAAABAAAAAQAAAAAAAAAAAAAAAQAAAAAAAAABAAAAAAAAAAAAAAABAAAAAQAAAAEAAAABAAAAAAAAAAAAAAABAAAAAAAAAAEAAAABAAAAAAAAAAAAAAABAAAAAAAAAAAAAAABAAAAAQAAAAAAAAAAAAAAAQAAAAAAAAAAAAAAAQAAAAAAAAABAAAAAAAAAAEAAAAAAAAAAQAAAAAAAAAAAAAAAQAAAAEAAAAAAAAAAQAAAAEAAAABAAAAAAAAAAEAAAABAAAAAQAAAAEAAAABAAAAAAAAAAAAAAABAAAAAQAAAAEAAAAAAAAAAQAAAAAAAAABAAAAAQAAAAAAAAABAAAAAAAAAAEAAAAAAAAAAAAAAAEAAAABAAAAAAAAAAEAAAABAAAAAAAAAAAAAAABAAAAAAAAAAEAAAAAAAAAAAAAAAAAAAABAAAAAQAAAAEAAAABAAAAAAAAAAAAAAAAAAAAAAAAAAAAAAABAAAAAQAAAAAAAAAAAAAAAAAAAAAAAAAAAAAAAQAAAAAAAAAAAAAAAAAAAAAAAAAAAAAAAQAAAAAAAAABAAAAAAAAAAAAAAABAAAAAAAAAAEAAAAAAAAAAAAAAAEAAAAAAAAAAQAAAAAAAAABAAAAAAAAAAEAAAAAAAAAAAAAAAAAAAAAAAAAAQAAAAAAAAAAAAAAAAAAAAAAAAAAAAAAAQAAAAEAAAAAAAAAAAAAAAEAAAABAAAAAAAAAAAAAAAAAAAAAAAAAAAAAAABAAAAAAAAAAAAAAAAAAAAAAAAAAAAAAAAAAAAAAAAAAAAAAABAAAAAAAAAAAAAAAAAAAAAAAAAAAAAAAAAAAAAQAAAAEAAAABAAAAAAAAAAAAAAAAAAAAAAAAAAEAAAAAAAAAAQAAAAAAAAAAAAAAAQAAAAAAAAABAAAAAQAAAAAAAAABAAAAAQAAAAAAAAABAAAAAAAAAAAAAAAAAAAAAQAAAAAAAAAAAAAAAQAAAAAAAAAAAAAAAAAAAAAAAAAAAAAAAAAAAAAAAAABAAAAAAAAAAEAAAAAAAAAAAAAAAAAAAAAAAAAAQAAAAAAAAABAAAAAAAAAAEAAAABAAAAAQAAAAEAAAAAAAAAAQAAAAAAAAAAAAAAAQAAAAAAAAABAAAAAQAAAAEAAAAAAAAAAQAAAAAAAAABAAAAAQAAAAEAAAAAAAAAAQAAAAAAAAABAAAAAAAAAAAAAAAAAAAAAQAAAAAAAAABAAAAAQAAAAEAAAABAAAAAQAAAAAAAAAAAAAAAQAAAAAAAAAAAAAAAAAAAAEAAAAAAAAAAQAAAAAAAAABAAAAAAAAAAEAAAAAAAAAAAAAAAAAAAAAAAAAAQAAAAAAAAAAAAAAAQAAAAAAAAAAAAAAAAAAAAEAAAABAAAAAQAAAAEAAAAAAAAAAAAAAAAAAAAAAAAAAQAAAAAAAAABAAAAAQAAAAEAAAAAAAAAAAAAAAEAAAABAAAAAAAAAAAAAAABAAAAAAAAAAEAAAABAAAAAQAAAAAAAAABAAAAAQAAAAAAAAAAAAAAAAAAAAEAAAABAAAAAQAAAAAAAAAAAAAAAAAAAAEAAAABAAAAAAAAAAEAAAABAAAAAQAAAAEAAAAAAAAAAwAAAAMAAAABAAAAAQAAAAEAAAAAAAAAAwAAAAAAAAAAAAAAAAAAAAAAAAABAAAAAQAAAAEAAAABAAAAAAAAAAAAAAAAAAAAAQAAAAAAAAABAAAAAAAAAAAAAAAAAAAAAAAAAAEAAAAAAAAAAAAAAAEAAAAAAAAAAAAAAAEAAAABAAAAAAAAAAEAAAAAAAAAAQAAAAEAAAABAAAAAQAAAAAAAAAAAAAAAQAAAAAAAAABAAAAAAAAAAAAAAAAAAAAAAAAAAAAAAAAAAAAAQAAAAEAAAABAAAAAAAAAAAAAAAAAAAAAAAAAAAAAAAAAAAAAQAAAAAAAAABAAAAAQAAAAEAAAABAAAAAAAAAAAAAAAAAAAAAAAAAAEAAAAAAAAAAAAAAAEAAAAAAAAAAAAAAAEAAAADAAAAAQAAAAAAAAABAAAAAQAAAAAAAAAAAAAAAQAAAAAAAAABAAAAAQAAAAEAAAABAAAAAQAAAAAAAAABAAAAAAAAAAEAAAAAAAAAAAAAAAEAAAAAAAAAAAAAAAAAAAAAAAAAAAAAAAEAAAABAAAAAQAAAAAAAAAAAAAAAAAAAAEAAAAAAAAAAQAAAAAAAAABAAAAAAAAAAAAAAAAAAAAAAAAAAEAAAAAAAAAAAAAAAAAAAABAAAAAAAAAAEAAAAAAAAAAQAAAAAAAAAAAAAAAAAAAAEAAAABAAAAAAAAAAAAAAAAAAAAAAAAAAAAAAAAAAAAAQAAAAAAAAABAAAAAAAAAAEAAAAAAAAAAAAAAAMAAAAAAAAAAgAAAAAAAAAAAAAAAAAAAAEAAAABAAAAAAAAAA==\",\"dtype\":\"int32\",\"order\":\"little\",\"shape\":[532]}},\"selected\":{\"id\":\"1206\"},\"selection_policy\":{\"id\":\"1240\"}},\"id\":\"1205\",\"type\":\"ColumnDataSource\"},{\"attributes\":{\"margin\":[5,5,5,5],\"name\":\"HSpacer01871\",\"sizing_mode\":\"stretch_width\"},\"id\":\"1204\",\"type\":\"Spacer\"},{\"attributes\":{\"editor\":{\"id\":\"1228\"},\"field\":\"TotalCoinSupply\",\"formatter\":{\"id\":\"1227\"},\"title\":\"TotalCoinSupply\"},\"id\":\"1229\",\"type\":\"TableColumn\"},{\"attributes\":{},\"id\":\"1207\",\"type\":\"StringFormatter\"},{\"attributes\":{\"columns\":[{\"id\":\"1209\"},{\"id\":\"1214\"},{\"id\":\"1219\"},{\"id\":\"1224\"},{\"id\":\"1229\"},{\"id\":\"1234\"}],\"height\":300,\"reorderable\":false,\"source\":{\"id\":\"1205\"},\"view\":{\"id\":\"1238\"},\"width\":700},\"id\":\"1237\",\"type\":\"DataTable\"},{\"attributes\":{},\"id\":\"1206\",\"type\":\"Selection\"},{\"attributes\":{\"editor\":{\"id\":\"1233\"},\"field\":\"class\",\"formatter\":{\"id\":\"1232\"},\"title\":\"class\"},\"id\":\"1234\",\"type\":\"TableColumn\"},{\"attributes\":{},\"id\":\"1208\",\"type\":\"StringEditor\"},{\"attributes\":{},\"id\":\"1213\",\"type\":\"StringEditor\"},{\"attributes\":{},\"id\":\"1218\",\"type\":\"StringEditor\"},{\"attributes\":{\"editor\":{\"id\":\"1208\"},\"field\":\"CoinName\",\"formatter\":{\"id\":\"1207\"},\"title\":\"CoinName\"},\"id\":\"1209\",\"type\":\"TableColumn\"},{\"attributes\":{},\"id\":\"1212\",\"type\":\"StringFormatter\"},{\"attributes\":{},\"id\":\"1223\",\"type\":\"NumberEditor\"},{\"attributes\":{},\"id\":\"1227\",\"type\":\"StringFormatter\"},{\"attributes\":{},\"id\":\"1217\",\"type\":\"StringFormatter\"},{\"attributes\":{\"editor\":{\"id\":\"1213\"},\"field\":\"Algorithm\",\"formatter\":{\"id\":\"1212\"},\"title\":\"Algorithm\"},\"id\":\"1214\",\"type\":\"TableColumn\"},{\"attributes\":{},\"id\":\"1240\",\"type\":\"UnionRenderers\"},{\"attributes\":{},\"id\":\"1228\",\"type\":\"StringEditor\"},{\"attributes\":{\"format\":\"0,0.0[00000]\"},\"id\":\"1222\",\"type\":\"NumberFormatter\"},{\"attributes\":{\"margin\":[5,5,5,5],\"name\":\"HSpacer01872\",\"sizing_mode\":\"stretch_width\"},\"id\":\"1243\",\"type\":\"Spacer\"},{\"attributes\":{\"editor\":{\"id\":\"1218\"},\"field\":\"ProofType\",\"formatter\":{\"id\":\"1217\"},\"title\":\"ProofType\"},\"id\":\"1219\",\"type\":\"TableColumn\"},{\"attributes\":{\"editor\":{\"id\":\"1223\"},\"field\":\"TotalCoinsMined\",\"formatter\":{\"id\":\"1222\"},\"title\":\"TotalCoinsMined\"},\"id\":\"1224\",\"type\":\"TableColumn\"},{\"attributes\":{},\"id\":\"1233\",\"type\":\"IntEditor\"},{\"attributes\":{\"source\":{\"id\":\"1205\"}},\"id\":\"1238\",\"type\":\"CDSView\"}],\"root_ids\":[\"1203\"]},\"title\":\"Bokeh Application\",\"version\":\"2.1.0\"}};\n",
       "  var render_items = [{\"docid\":\"ef35889e-3f17-41ee-98ac-36f5cf87aeaf\",\"root_ids\":[\"1203\"],\"roots\":{\"1203\":\"2c9322d0-0d46-4fb9-b708-db924bd5536c\"}}];\n",
       "  root.Bokeh.embed.embed_items_notebook(docs_json, render_items);\n",
       "  }\n",
       "if (root.Bokeh !== undefined) {\n",
       "    embed_document(root);\n",
       "  } else {\n",
       "    var attempts = 0;\n",
       "    var timer = setInterval(function(root) {\n",
       "      if (root.Bokeh !== undefined) {\n",
       "        clearInterval(timer);\n",
       "        embed_document(root);\n",
       "      } else if (document.readyState == \"complete\") {\n",
       "        attempts++;\n",
       "        if (attempts > 100) {\n",
       "          clearInterval(timer);\n",
       "          console.log(\"Bokeh: ERROR: Unable to run BokehJS code because BokehJS library is missing\");\n",
       "        }\n",
       "      }\n",
       "    }, 10, root)\n",
       "  }\n",
       "})(window);</script>"
      ],
      "text/plain": [
       ":Table   [CoinName,Algorithm,ProofType,TotalCoinsMined,TotalCoinSupply,class]"
      ]
     },
     "execution_count": 173,
     "metadata": {
      "application/vnd.holoviews_exec.v0+json": {
       "id": "1203"
      }
     },
     "output_type": "execute_result"
    }
   ],
   "source": [
    "#Use hvplot.table to create a data table with all the current tradable cryptocurrencies:\n",
    "clustered_df.hvplot.table(columns=[\"CoinName\",\"Algorithm\",\"ProofType\",\"TotalCoinsMined\",\"TotalCoinSupply\",\"class\"])"
   ]
  },
  {
   "cell_type": "code",
   "execution_count": null,
   "metadata": {},
   "outputs": [],
   "source": []
  }
 ],
 "metadata": {
  "kernelspec": {
   "display_name": "PythonData",
   "language": "python",
   "name": "pythondata"
  },
  "language_info": {
   "codemirror_mode": {
    "name": "ipython",
    "version": 3
   },
   "file_extension": ".py",
   "mimetype": "text/x-python",
   "name": "python",
   "nbconvert_exporter": "python",
   "pygments_lexer": "ipython3",
   "version": "3.8.3"
  }
 },
 "nbformat": 4,
 "nbformat_minor": 4
}
